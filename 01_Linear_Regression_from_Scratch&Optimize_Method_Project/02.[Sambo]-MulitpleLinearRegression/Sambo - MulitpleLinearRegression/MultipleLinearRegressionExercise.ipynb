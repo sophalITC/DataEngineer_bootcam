{
 "cells": [
  {
   "cell_type": "markdown",
   "id": "0d64d476",
   "metadata": {},
   "source": [
    "# Multiple Linear Regression"
   ]
  },
  {
   "cell_type": "markdown",
   "id": "5b977d80",
   "metadata": {},
   "source": [
    "1. Select dataset (multiple regression or polynomial regression) based on what you are assigned in the class \n",
    "2. Calculation from scratch: Coefficient, Intercept, R-squared, Adjusted R-squared. \n",
    "3. Used sklearn Library to calculate: Coefficient, Intercept, R-squared, Adjusted R-squared. \n",
    "4. Use Optimization method to optimize your calculation."
   ]
  },
  {
   "cell_type": "code",
   "execution_count": 2,
   "id": "fc72828c",
   "metadata": {},
   "outputs": [],
   "source": [
    "import numpy as np\n",
    "import pandas as pd"
   ]
  },
  {
   "cell_type": "code",
   "execution_count": 3,
   "id": "58d8392d",
   "metadata": {},
   "outputs": [],
   "source": [
    "#df = pd.read_csv('multiple_linear_regression_dataset.csv')\n",
    "df = pd.read_csv('CO2_emission.csv')"
   ]
  },
  {
   "cell_type": "code",
   "execution_count": 4,
   "id": "a9fcbbf3",
   "metadata": {},
   "outputs": [
    {
     "data": {
      "text/html": [
       "<div>\n",
       "<style scoped>\n",
       "    .dataframe tbody tr th:only-of-type {\n",
       "        vertical-align: middle;\n",
       "    }\n",
       "\n",
       "    .dataframe tbody tr th {\n",
       "        vertical-align: top;\n",
       "    }\n",
       "\n",
       "    .dataframe thead th {\n",
       "        text-align: right;\n",
       "    }\n",
       "</style>\n",
       "<table border=\"1\" class=\"dataframe\">\n",
       "  <thead>\n",
       "    <tr style=\"text-align: right;\">\n",
       "      <th></th>\n",
       "      <th>Car</th>\n",
       "      <th>Model</th>\n",
       "      <th>Volume</th>\n",
       "      <th>Weight</th>\n",
       "      <th>CO2</th>\n",
       "    </tr>\n",
       "  </thead>\n",
       "  <tbody>\n",
       "    <tr>\n",
       "      <th>0</th>\n",
       "      <td>Toyota</td>\n",
       "      <td>Aygo</td>\n",
       "      <td>1000</td>\n",
       "      <td>790</td>\n",
       "      <td>99</td>\n",
       "    </tr>\n",
       "    <tr>\n",
       "      <th>1</th>\n",
       "      <td>Mitsubishi</td>\n",
       "      <td>Space Star</td>\n",
       "      <td>1200</td>\n",
       "      <td>1160</td>\n",
       "      <td>95</td>\n",
       "    </tr>\n",
       "    <tr>\n",
       "      <th>2</th>\n",
       "      <td>Skoda</td>\n",
       "      <td>Citigo</td>\n",
       "      <td>1000</td>\n",
       "      <td>929</td>\n",
       "      <td>95</td>\n",
       "    </tr>\n",
       "    <tr>\n",
       "      <th>3</th>\n",
       "      <td>Fiat</td>\n",
       "      <td>500</td>\n",
       "      <td>900</td>\n",
       "      <td>865</td>\n",
       "      <td>90</td>\n",
       "    </tr>\n",
       "    <tr>\n",
       "      <th>4</th>\n",
       "      <td>Mini</td>\n",
       "      <td>Cooper</td>\n",
       "      <td>1500</td>\n",
       "      <td>1140</td>\n",
       "      <td>105</td>\n",
       "    </tr>\n",
       "  </tbody>\n",
       "</table>\n",
       "</div>"
      ],
      "text/plain": [
       "          Car       Model  Volume  Weight  CO2\n",
       "0      Toyota        Aygo    1000     790   99\n",
       "1  Mitsubishi  Space Star    1200    1160   95\n",
       "2       Skoda      Citigo    1000     929   95\n",
       "3        Fiat         500     900     865   90\n",
       "4        Mini      Cooper    1500    1140  105"
      ]
     },
     "execution_count": 4,
     "metadata": {},
     "output_type": "execute_result"
    }
   ],
   "source": [
    "df.head()"
   ]
  },
  {
   "cell_type": "code",
   "execution_count": 5,
   "id": "a6e09612",
   "metadata": {
    "scrolled": true
   },
   "outputs": [
    {
     "name": "stdout",
     "output_type": "stream",
     "text": [
      "<class 'pandas.core.frame.DataFrame'>\n",
      "RangeIndex: 36 entries, 0 to 35\n",
      "Data columns (total 5 columns):\n",
      " #   Column  Non-Null Count  Dtype \n",
      "---  ------  --------------  ----- \n",
      " 0   Car     36 non-null     object\n",
      " 1   Model   36 non-null     object\n",
      " 2   Volume  36 non-null     int64 \n",
      " 3   Weight  36 non-null     int64 \n",
      " 4   CO2     36 non-null     int64 \n",
      "dtypes: int64(3), object(2)\n",
      "memory usage: 1.5+ KB\n"
     ]
    }
   ],
   "source": [
    "df.info()"
   ]
  },
  {
   "cell_type": "code",
   "execution_count": 6,
   "id": "24a34604",
   "metadata": {},
   "outputs": [
    {
     "name": "stdout",
     "output_type": "stream",
     "text": [
      "Car       0\n",
      "Model     0\n",
      "Volume    0\n",
      "Weight    0\n",
      "CO2       0\n",
      "dtype: int64\n",
      "Total missing values: 0\n"
     ]
    }
   ],
   "source": [
    "# Using isnull() to check for missing values in the entire DataFrame\n",
    "missing_values = df.isnull()\n",
    "\n",
    "# If you want to check for missing values in a specific column, you can do it like this:\n",
    "# Replace 'column_name' with the name of the column you want to check\n",
    "# missing_values = df['column_name'].isnull()\n",
    "\n",
    "# Count the number of missing values in each column (optional)\n",
    "missing_count = df.isnull().sum()\n",
    "\n",
    "# Count the total number of missing values in the DataFrame (optional)\n",
    "total_missing_count = df.isnull().sum().sum()\n",
    "\n",
    "# Display the results\n",
    "#print(missing_values)\n",
    "print(missing_count)\n",
    "print(\"Total missing values:\", total_missing_count)"
   ]
  },
  {
   "cell_type": "markdown",
   "id": "2bd80456",
   "metadata": {},
   "source": [
    "### Calculation from scratch: Coefficient, Intercept, R-squared, Adjusted R-squared."
   ]
  },
  {
   "cell_type": "code",
   "execution_count": 7,
   "id": "d4f51c91",
   "metadata": {},
   "outputs": [],
   "source": [
    "class MultipleLinearRegression:\n",
    "    def __init__(self):\n",
    "        self.coefficients = None\n",
    "        self.intercept = None\n",
    "    \n",
    "    def fit(self, X, y):\n",
    "        # Add a column of ones for the intercept term\n",
    "        ones_column = np.ones((X.shape[0], 1))\n",
    "        X = np.concatenate((ones_column, X), axis=1)\n",
    "\n",
    "        # Compute the coefficients using ordinary least squares formula\n",
    "        self.coefficients = np.linalg.inv(X.T.dot(X)).dot(X.T).dot(y)\n",
    "        \n",
    "        # Compute the intercept (bias term)\n",
    "        self.intercept = self.coefficients[0]\n",
    "        self.coefficients = self.coefficients[1:]\n",
    "    \n",
    "    def predict(self, X):\n",
    "        if self.coefficients is None or self.intercept is None:\n",
    "            raise ValueError(\"Model has not been trained. Call fit() first.\")\n",
    "        \n",
    "        # Add a column of ones for the intercept term\n",
    "        ones_column = np.ones((X.shape[0], 1))\n",
    "        X = np.concatenate((ones_column, X), axis=1)\n",
    "        \n",
    "        # Predict the target variable\n",
    "        y_pred = X.dot(np.concatenate(([self.intercept], self.coefficients)))\n",
    "        return y_pred\n",
    "\n",
    "    def r_squared(self, X, y):\n",
    "        y_pred = self.predict(X)\n",
    "        total_variation = ((y - np.mean(y))**2).sum()\n",
    "        residual_variation = ((y - y_pred)**2).sum()\n",
    "        return 1 - (residual_variation / total_variation)\n",
    "    \n",
    "    def adjusted_r_squared(self, X, y):\n",
    "        r2 = self.r_squared(X, y)\n",
    "        n = X.shape[0]  # Number of samples\n",
    "        p = X.shape[1]  # Number of features\n",
    "        return 1 - (1 - r2) * (n - 1) / (n - p - 1)"
   ]
  },
  {
   "cell_type": "code",
   "execution_count": 8,
   "id": "c26aa599",
   "metadata": {},
   "outputs": [],
   "source": [
    "def split_data(dataframe, split_ratio):\n",
    "    # Shuffle the DataFrame\n",
    "    shuffled_df = dataframe.sample(frac=1, random_state=42).reset_index(drop=True)\n",
    "\n",
    "    # Calculate the number of samples for training and testing\n",
    "    train_size = int(split_ratio * len(shuffled_df))\n",
    "    \n",
    "    # Split the DataFrame into training and test sets\n",
    "    train_set = shuffled_df[:train_size]\n",
    "    test_set = shuffled_df[train_size:]\n",
    "\n",
    "    return train_set, test_set"
   ]
  },
  {
   "cell_type": "code",
   "execution_count": 9,
   "id": "2774128f",
   "metadata": {},
   "outputs": [
    {
     "data": {
      "text/plain": [
       "Index(['Car', 'Model', 'Volume', 'Weight', 'CO2'], dtype='object')"
      ]
     },
     "execution_count": 9,
     "metadata": {},
     "output_type": "execute_result"
    }
   ],
   "source": [
    "df.columns"
   ]
  },
  {
   "cell_type": "code",
   "execution_count": 11,
   "id": "a2c630f6",
   "metadata": {},
   "outputs": [
    {
     "name": "stdout",
     "output_type": "stream",
     "text": [
      "R-squared: -0.12476894620399981\n",
      "Adjusted R-squared: -0.4059611827549998\n",
      "Coefficients: [0.00578028 0.01183901]\n",
      "Intercept: 78.68013916849986\n"
     ]
    }
   ],
   "source": [
    "# Split the DataFrame into training and test sets with a 70/30 ratio\n",
    "train_set, test_set = split_data(df, split_ratio=0.7)\n",
    "\n",
    "# Print the shapes of the resulting datasets\n",
    "#print(\"Train set shape:\", train_set.shape)\n",
    "#print(\"Test set shape:\", test_set.shape)\n",
    "\n",
    "X_train = train_set[['Volume', 'Weight']]\n",
    "y_train = train_set['CO2']\n",
    "\n",
    "# Create and train the model\n",
    "model = MultipleLinearRegression()\n",
    "\n",
    "model.fit(X_train, y_train)\n",
    "\n",
    "# Predict using the trained model\n",
    "X_test = test_set[['Volume', 'Weight']]\n",
    "y_test = test_set['CO2']\n",
    "\n",
    "# Make predictions on the test data\n",
    "y_pred = model.predict(X_test)\n",
    "\n",
    "# Get coefficients, intercept, R-squared, and adjusted R-squared\n",
    "coefficients = model.coefficients\n",
    "intercept = model.intercept\n",
    "r_squared = model.r_squared(X_test, y_test)\n",
    "adjusted_r_squared = model.adjusted_r_squared(X_test, y_test)\n",
    "\n",
    "print(\"R-squared:\", r_squared)\n",
    "print(\"Adjusted R-squared:\", adjusted_r_squared)\n",
    "\n",
    "print(\"Coefficients:\", coefficients)\n",
    "print(\"Intercept:\", intercept)"
   ]
  },
  {
   "cell_type": "markdown",
   "id": "2034dd93",
   "metadata": {},
   "source": [
    "### sklearn Library to calculate: Coefficient, Intercept, R-squared, Adjusted R-squared."
   ]
  },
  {
   "cell_type": "code",
   "execution_count": 12,
   "id": "b39d65a7",
   "metadata": {},
   "outputs": [],
   "source": [
    "import numpy as np\n",
    "from sklearn.model_selection import train_test_split\n",
    "from sklearn.linear_model import LinearRegression\n",
    "from sklearn.metrics import mean_squared_error, r2_score"
   ]
  },
  {
   "cell_type": "code",
   "execution_count": 13,
   "id": "2a1262ec",
   "metadata": {},
   "outputs": [],
   "source": [
    "def adjusted_r_squared(r_squared, n, p):\n",
    "    return 1 - (1 - r_squared) * (n - 1) / (n - p - 1)"
   ]
  },
  {
   "cell_type": "code",
   "execution_count": 14,
   "id": "10a13ed5",
   "metadata": {},
   "outputs": [
    {
     "name": "stdout",
     "output_type": "stream",
     "text": [
      "R-squared: 0.41008714763391063\n",
      "Ajusted R-squared: 0.2626089345423883\n",
      "Coefficients: [[0.00720613 0.00482015]]\n",
      "Intercept: [84.58784535]\n"
     ]
    }
   ],
   "source": [
    "# Sample data for demonstration\n",
    "# Replace these with your own dataset\n",
    "# X should be a 2D array with multiple features (independent variables)\n",
    "# y should be a 1D array with the target variable (dependent variable)\n",
    "\n",
    "X = df[['Weight', 'Volume']]\n",
    "y = df[['CO2']]\n",
    "\n",
    "# Split the data into training and testing sets\n",
    "X_train, X_test, y_train, y_test = train_test_split(X, y, test_size=0.3, random_state=42)\n",
    "\n",
    "# Create the Multiple Linear Regression model\n",
    "model = LinearRegression()\n",
    "\n",
    "# Train the model on the training data\n",
    "model.fit(X_train, y_train)\n",
    "\n",
    "# Make predictions on the test data\n",
    "y_pred = model.predict(X_test)\n",
    "\n",
    "# Evaluate the model\n",
    "mse = mean_squared_error(y_test, y_pred)\n",
    "r2 = r2_score(y_test, y_pred)\n",
    "\n",
    "# Calculate the adjusted R-squared\n",
    "n = X_test.shape[0]  # Number of samples\n",
    "p = X_test.shape[1]  # Number of features\n",
    "adjusted_r2 = adjusted_r_squared(r2, n, p)\n",
    "\n",
    "#print(\"Mean Squared Error:\", mse)\n",
    "print(\"R-squared:\", r2)\n",
    "print(\"Ajusted R-squared:\", adjusted_r2)\n",
    "\n",
    "# Coefficients and intercept of the model\n",
    "print(\"Coefficients:\", model.coef_)\n",
    "print(\"Intercept:\", model.intercept_)"
   ]
  },
  {
   "cell_type": "markdown",
   "id": "5bbd6a25",
   "metadata": {},
   "source": [
    "### Optimization method to optimize calculation."
   ]
  },
  {
   "cell_type": "code",
   "execution_count": 24,
   "id": "5f73faeb",
   "metadata": {},
   "outputs": [],
   "source": [
    "import numpy as np"
   ]
  },
  {
   "cell_type": "code",
   "execution_count": 38,
   "id": "395e4feb",
   "metadata": {},
   "outputs": [],
   "source": [
    "class MultipleLinearRegressionOLS:\n",
    "    def __init__(self):\n",
    "        self.coefficients = None\n",
    "        self.intercept = None\n",
    "    \n",
    "    def fit(self, X, y):\n",
    "        # Add a column of ones for the intercept term\n",
    "        ones_column = np.ones((X.shape[0], 1))\n",
    "        X = np.concatenate((ones_column, X), axis=1)\n",
    "\n",
    "        # Compute the coefficients using OLS formula\n",
    "        self.coefficients = np.linalg.inv(X.T.dot(X)).dot(X.T).dot(y)\n",
    "        self.intercept = self.coefficients[0]\n",
    "    \n",
    "    def predict(self, X):\n",
    "        if self.coefficients is None:\n",
    "            raise ValueError(\"Model has not been trained. Call fit() first.\")\n",
    "        \n",
    "        # Add a column of ones for the intercept term\n",
    "        ones_column = np.ones((X.shape[0], 1))\n",
    "        X = np.concatenate((ones_column, X), axis=1)\n",
    "        \n",
    "        # Predict the target variable\n",
    "        y_pred = X.dot(self.coefficients)\n",
    "        return y_pred\n",
    "    \n",
    "    def r_squared(self, X, y):\n",
    "        y_pred = self.predict(X)\n",
    "        total_variation = ((y - np.mean(y))**2).sum()\n",
    "        residual_variation = ((y - y_pred)**2).sum()\n",
    "        return 1 - (residual_variation / total_variation)\n",
    "    \n",
    "    def adjusted_r_squared(self, X, y):\n",
    "        r2 = self.r_squared(X, y)\n",
    "        n = X.shape[0]  # Number of samples\n",
    "        p = X.shape[1]  # Number of features\n",
    "        return 1 - (1 - r2) * (n - 1) / (n - p - 1)"
   ]
  },
  {
   "cell_type": "code",
   "execution_count": 42,
   "id": "122ecf8c",
   "metadata": {},
   "outputs": [
    {
     "name": "stdout",
     "output_type": "stream",
     "text": [
      "R-squared: -0.12476894620399981\n",
      "Adjusted R-squared: -0.4059611827549998\n",
      "Coefficients:[ 0.005780275855181177 0.011839008946877588 ]\n",
      "Intercept: 78.68013916849986\n"
     ]
    }
   ],
   "source": [
    "# Split the DataFrame into training and test sets with a 70/30 ratio\n",
    "train_set, test_set = split_data(df, split_ratio=0.7)\n",
    "\n",
    "X_train = train_set[['Volume', 'Weight']]\n",
    "y_train = train_set['CO2']\n",
    "\n",
    "# Predict using the trained model\n",
    "X_test = test_set[['Volume', 'Weight']]\n",
    "y_test = test_set['CO2']\n",
    "\n",
    "# Create and fit the model\n",
    "mode_ols = MultipleLinearRegressionOLS()\n",
    "mode_ols.fit(X_train, y_train)\n",
    "\n",
    "# Test predictions\n",
    "y_pred = mode_ols.predict(X_test)\n",
    "#print(\"Predicted values:\", y_pred)\n",
    "\n",
    "# Get coefficients, intercept, R-squared, and adjusted R-squared\n",
    "coefficients = mode_ols.coefficients\n",
    "intercept = mode_ols.intercept\n",
    "r_squared = mode_ols.r_squared(X_test, y_test)\n",
    "adjusted_r_squared = mode_ols.adjusted_r_squared(X_test, y_test)\n",
    "\n",
    "print(\"R-squared:\", r_squared)\n",
    "print(\"Adjusted R-squared:\", adjusted_r_squared)\n",
    "\n",
    "print(\"Coefficients:[\", coefficients[1], coefficients[2], \"]\")\n",
    "print(\"Intercept:\", intercept)"
   ]
  }
 ],
 "metadata": {
  "kernelspec": {
   "display_name": "Python 3 (ipykernel)",
   "language": "python",
   "name": "python3"
  },
  "language_info": {
   "codemirror_mode": {
    "name": "ipython",
    "version": 3
   },
   "file_extension": ".py",
   "mimetype": "text/x-python",
   "name": "python",
   "nbconvert_exporter": "python",
   "pygments_lexer": "ipython3",
   "version": "3.10.9"
  }
 },
 "nbformat": 4,
 "nbformat_minor": 5
}
