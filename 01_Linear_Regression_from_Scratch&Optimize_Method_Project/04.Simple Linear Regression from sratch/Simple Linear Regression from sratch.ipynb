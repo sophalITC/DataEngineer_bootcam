{
 "cells": [
  {
   "cell_type": "markdown",
   "id": "3f3fd2b0",
   "metadata": {},
   "source": [
    "### Author: Sophal Chan\n",
    "## Simple Linear Regression from scracth \n",
    "\n",
    "# Simple Linear Regression\n",
    "\n",
    "In this notebook, we are going to implement a simple linear regression model using Python, without the help of any machine learning libraries. We will calculate the model parameters (slope and y-intercept), as well as the R-squared and adjusted R-squared values.\n",
    "\n",
    "The formula for a simple linear regression is:\n",
    "\n",
    "y = mx + c\n",
    "\n",
    "where:\n",
    "- y is the dependent variable\n",
    "- x is the independent variable\n",
    "- m is the slope of the line (coefficient)\n",
    "- c is the y-intercept"
   ]
  },
  {
   "cell_type": "markdown",
   "id": "9518c15a",
   "metadata": {},
   "source": [
    "### Calculate m and c\n",
    "The formulas for calculating the coefficient (m) and the y-intercept (c) are as follows:\n",
    "\n",
    "m = [n(Σxy) - (Σx)(Σy)] / [n(Σx²) - (Σx)²] \n",
    "\n",
    "c = [(Σy)(Σx²) - (Σx)(Σxy)] / [n(Σx²) - (Σx)²]\n",
    "\n",
    "where:\n",
    "- n is the number of observations\n",
    "- Σxy is the sum of the product of x and y\n",
    "- Σx and Σy are the sum of x and y respectively\n",
    "- Σx² is the sum of the squares of x"
   ]
  },
  {
   "cell_type": "markdown",
   "id": "414447e9",
   "metadata": {},
   "source": [
    "### Calculate R-square and adjust R-square\n",
    "After finding the coefficient and the intercept, we calculate the R-squared value using the following formula:\n",
    "\n",
    "R² = 1 - [Σ(yi - ŷi)² / Σ(yi - ȳ)²]\n",
    "\n",
    "where:\n",
    "- yi is the actual value of y\n",
    "- ŷi is the predicted value of y (which we get from our linear equation)\n",
    "- ȳ is the mean value of y\n",
    "\n",
    "Finally, the adjusted R-squared value is calculated as follows:\n",
    "\n",
    "Adjusted R² = 1 - [(1 - R²)(n - 1) / (n - p - 1)]\n",
    "\n",
    "where:\n",
    "- R² is the R-squared value\n",
    "- n is the total number of samples\n",
    "- p is the number of predictors (in this case, p = 1)"
   ]
  },
  {
   "cell_type": "code",
   "execution_count": 2,
   "id": "b73203e5",
   "metadata": {},
   "outputs": [],
   "source": [
    "#Load data\n",
    "import pandas as pd\n",
    "\n",
    "data = pd.read_csv('data1.csv')"
   ]
  },
  {
   "cell_type": "code",
   "execution_count": 5,
   "id": "84b6acb2",
   "metadata": {},
   "outputs": [
    {
     "data": {
      "text/plain": [
       "0     32.502345\n",
       "1     53.426804\n",
       "2     61.530358\n",
       "3     47.475640\n",
       "4     59.813208\n",
       "        ...    \n",
       "95    50.030174\n",
       "96    49.239765\n",
       "97    50.039576\n",
       "98    48.149859\n",
       "99    25.128485\n",
       "Name: Hours, Length: 100, dtype: float64"
      ]
     },
     "execution_count": 5,
     "metadata": {},
     "output_type": "execute_result"
    }
   ],
   "source": [
    "# Extracted\n",
    "x = data['Hours']\n",
    "y = data['Score']"
   ]
  },
  {
   "cell_type": "code",
   "execution_count": 16,
   "id": "9e7417c8",
   "metadata": {},
   "outputs": [],
   "source": [
    "#Calculate the required sums\n",
    "n = len(x)\n",
    "sum_x = x.sum()\n",
    "sum_y = y.sum()\n",
    "sum_xx = (x**2).sum()\n",
    "sum_xy = (x*y).sum()"
   ]
  },
  {
   "cell_type": "code",
   "execution_count": 17,
   "id": "1e3b8fce",
   "metadata": {},
   "outputs": [
    {
     "name": "stdout",
     "output_type": "stream",
     "text": [
      "1.322431022687879\n",
      "7.991020985734031\n"
     ]
    }
   ],
   "source": [
    "# Calculate the slope (m) and y-intercept (c)\n",
    "m = (n * sum_xy - sum_x * sum_y) / (n * sum_xx - sum_x**2)\n",
    "c = (sum_y * sum_xx - sum_x * sum_xy) / (n * sum_xx - sum_x**2)\n",
    "print(m)\n",
    "print(c)"
   ]
  },
  {
   "cell_type": "code",
   "execution_count": 18,
   "id": "14e7f52b",
   "metadata": {},
   "outputs": [],
   "source": [
    "#Calculate the predicted values and the mean of y\n",
    "#  y=1.322431022687879x + 7.991020985734031\n",
    "y_pred = m * x + c\n",
    "mean_y = y.mean()"
   ]
  },
  {
   "cell_type": "code",
   "execution_count": 19,
   "id": "fff5135f",
   "metadata": {},
   "outputs": [
    {
     "name": "stdout",
     "output_type": "stream",
     "text": [
      "0.5986557915661921\n"
     ]
    }
   ],
   "source": [
    "# Calculate the R-squared value\n",
    "ss_residual = ((y - y_pred)**2).sum()\n",
    "ss_total = ((y - mean_y)**2).sum()\n",
    "r_squared = 1 - (ss_residual / ss_total)\n",
    "print(r_squared)"
   ]
  },
  {
   "cell_type": "code",
   "execution_count": 20,
   "id": "f1924fe6",
   "metadata": {},
   "outputs": [],
   "source": [
    "# Calculate the adjusted R-squared value\n",
    "p = 1  # number of predictors\n",
    "adjusted_r_squared = 1 - (1 - r_squared) * (len(y) - 1) / (len(y) - p - 1)\n"
   ]
  },
  {
   "cell_type": "code",
   "execution_count": 21,
   "id": "cbaecb2f",
   "metadata": {},
   "outputs": [
    {
     "name": "stdout",
     "output_type": "stream",
     "text": [
      "Coefficient (m): 1.322431022687879\n",
      "Intercept (c): 7.991020985734031\n",
      "R-squared: 0.5986557915661921\n",
      "Adjusted R-squared: 0.5945604425005411\n"
     ]
    }
   ],
   "source": [
    "print(f\"Coefficient (m): {m}\")\n",
    "print(f\"Intercept (c): {c}\")\n",
    "print(f\"R-squared: {r_squared}\")\n",
    "print(f\"Adjusted R-squared: {adjusted_r_squared}\")"
   ]
  },
  {
   "cell_type": "code",
   "execution_count": 22,
   "id": "f63db9d0",
   "metadata": {},
   "outputs": [
    {
     "data": {
      "image/png": "[encoded data removed]",
      "text/plain": [
       "<Figure size 640x480 with 1 Axes>"
      ]
     },
     "metadata": {},
     "output_type": "display_data"
    }
   ],
   "source": [
    "import matplotlib.pyplot as plt\n",
    "\n",
    "# Create a scatter plot of the data\n",
    "plt.scatter(x, y, color='blue')\n",
    "\n",
    "# Create a line plot of the predicted values\n",
    "plt.plot(x, y_pred, color='red')\n",
    "\n",
    "# Label the axes\n",
    "plt.xlabel('Hours')\n",
    "plt.ylabel('Score')\n",
    "\n",
    "# Add a title\n",
    "plt.title('Hours vs Score')\n",
    "\n",
    "# Display the plot\n",
    "plt.show()"
   ]
  },
  {
   "cell_type": "markdown",
   "id": "0d7d40fc",
   "metadata": {},
   "source": [
    "# Using Sklearn Library\n"
   ]
  },
  {
   "cell_type": "code",
   "execution_count": 1,
   "id": "0f606338",
   "metadata": {},
   "outputs": [],
   "source": [
    "# Import the necessary libraries\n",
    "import pandas as pd\n",
    "from sklearn.linear_model import LinearRegression\n",
    "from sklearn.metrics import r2_score"
   ]
  },
  {
   "cell_type": "code",
   "execution_count": 2,
   "id": "3ce831c1",
   "metadata": {},
   "outputs": [],
   "source": [
    "# Load the data\n",
    "data = pd.read_csv('data1.csv')"
   ]
  },
  {
   "cell_type": "code",
   "execution_count": 3,
   "id": "8b2eb2c1",
   "metadata": {},
   "outputs": [],
   "source": [
    "# Extract the independent and dependent variables\n",
    "x = data['Hours'].values.reshape(-1, 1)\n",
    "y = data['Score']"
   ]
  },
  {
   "cell_type": "code",
   "execution_count": 4,
   "id": "5100ed73",
   "metadata": {},
   "outputs": [],
   "source": [
    "# Create a LinearRegression object\n",
    "lr = LinearRegression()"
   ]
  },
  {
   "cell_type": "code",
   "execution_count": 5,
   "id": "c29867e6",
   "metadata": {},
   "outputs": [
    {
     "data": {
      "text/html": [
       "<style>#sk-container-id-1 {color: black;background-color: white;}#sk-container-id-1 pre{padding: 0;}#sk-container-id-1 div.sk-toggleable {background-color: white;}#sk-container-id-1 label.sk-toggleable__label {cursor: pointer;display: block;width: 100%;margin-bottom: 0;padding: 0.3em;box-sizing: border-box;text-align: center;}#sk-container-id-1 label.sk-toggleable__label-arrow:before {content: \"▸\";float: left;margin-right: 0.25em;color: #696969;}#sk-container-id-1 label.sk-toggleable__label-arrow:hover:before {color: black;}#sk-container-id-1 div.sk-estimator:hover label.sk-toggleable__label-arrow:before {color: black;}#sk-container-id-1 div.sk-toggleable__content {max-height: 0;max-width: 0;overflow: hidden;text-align: left;background-color: #f0f8ff;}#sk-container-id-1 div.sk-toggleable__content pre {margin: 0.2em;color: black;border-radius: 0.25em;background-color: #f0f8ff;}#sk-container-id-1 input.sk-toggleable__control:checked~div.sk-toggleable__content {max-height: 200px;max-width: 100%;overflow: auto;}#sk-container-id-1 input.sk-toggleable__control:checked~label.sk-toggleable__label-arrow:before {content: \"▾\";}#sk-container-id-1 div.sk-estimator input.sk-toggleable__control:checked~label.sk-toggleable__label {background-color: #d4ebff;}#sk-container-id-1 div.sk-label input.sk-toggleable__control:checked~label.sk-toggleable__label {background-color: #d4ebff;}#sk-container-id-1 input.sk-hidden--visually {border: 0;clip: rect(1px 1px 1px 1px);clip: rect(1px, 1px, 1px, 1px);height: 1px;margin: -1px;overflow: hidden;padding: 0;position: absolute;width: 1px;}#sk-container-id-1 div.sk-estimator {font-family: monospace;background-color: #f0f8ff;border: 1px dotted black;border-radius: 0.25em;box-sizing: border-box;margin-bottom: 0.5em;}#sk-container-id-1 div.sk-estimator:hover {background-color: #d4ebff;}#sk-container-id-1 div.sk-parallel-item::after {content: \"\";width: 100%;border-bottom: 1px solid gray;flex-grow: 1;}#sk-container-id-1 div.sk-label:hover label.sk-toggleable__label {background-color: #d4ebff;}#sk-container-id-1 div.sk-serial::before {content: \"\";position: absolute;border-left: 1px solid gray;box-sizing: border-box;top: 0;bottom: 0;left: 50%;z-index: 0;}#sk-container-id-1 div.sk-serial {display: flex;flex-direction: column;align-items: center;background-color: white;padding-right: 0.2em;padding-left: 0.2em;position: relative;}#sk-container-id-1 div.sk-item {position: relative;z-index: 1;}#sk-container-id-1 div.sk-parallel {display: flex;align-items: stretch;justify-content: center;background-color: white;position: relative;}#sk-container-id-1 div.sk-item::before, #sk-container-id-1 div.sk-parallel-item::before {content: \"\";position: absolute;border-left: 1px solid gray;box-sizing: border-box;top: 0;bottom: 0;left: 50%;z-index: -1;}#sk-container-id-1 div.sk-parallel-item {display: flex;flex-direction: column;z-index: 1;position: relative;background-color: white;}#sk-container-id-1 div.sk-parallel-item:first-child::after {align-self: flex-end;width: 50%;}#sk-container-id-1 div.sk-parallel-item:last-child::after {align-self: flex-start;width: 50%;}#sk-container-id-1 div.sk-parallel-item:only-child::after {width: 0;}#sk-container-id-1 div.sk-dashed-wrapped {border: 1px dashed gray;margin: 0 0.4em 0.5em 0.4em;box-sizing: border-box;padding-bottom: 0.4em;background-color: white;}#sk-container-id-1 div.sk-label label {font-family: monospace;font-weight: bold;display: inline-block;line-height: 1.2em;}#sk-container-id-1 div.sk-label-container {text-align: center;}#sk-container-id-1 div.sk-container {/* jupyter's `normalize.less` sets `[hidden] { display: none; }` but bootstrap.min.css set `[hidden] { display: none !important; }` so we also need the `!important` here to be able to override the default hidden behavior on the sphinx rendered scikit-learn.org. See: https://github.com/scikit-learn/scikit-learn/issues/21755 */display: inline-block !important;position: relative;}#sk-container-id-1 div.sk-text-repr-fallback {display: none;}</style><div id=\"sk-container-id-1\" class=\"sk-top-container\"><div class=\"sk-text-repr-fallback\"><pre>LinearRegression()</pre><b>In a Jupyter environment, please rerun this cell to show the HTML representation or trust the notebook. <br />On GitHub, the HTML representation is unable to render, please try loading this page with nbviewer.org.</b></div><div class=\"sk-container\" hidden><div class=\"sk-item\"><div class=\"sk-estimator sk-toggleable\"><input class=\"sk-toggleable__control sk-hidden--visually\" id=\"sk-estimator-id-1\" type=\"checkbox\" checked><label for=\"sk-estimator-id-1\" class=\"sk-toggleable__label sk-toggleable__label-arrow\">LinearRegression</label><div class=\"sk-toggleable__content\"><pre>LinearRegression()</pre></div></div></div></div></div>"
      ],
      "text/plain": [
       "LinearRegression()"
      ]
     },
     "execution_count": 5,
     "metadata": {},
     "output_type": "execute_result"
    }
   ],
   "source": [
    "# Fit the model to the data\n",
    "lr.fit(x, y)"
   ]
  },
  {
   "cell_type": "code",
   "execution_count": 6,
   "id": "3fbc6306",
   "metadata": {},
   "outputs": [],
   "source": [
    "# Predict the y values\n",
    "y_pred_sklearn = lr.predict(x)"
   ]
  },
  {
   "cell_type": "code",
   "execution_count": 7,
   "id": "9643ed17",
   "metadata": {},
   "outputs": [
    {
     "name": "stdout",
     "output_type": "stream",
     "text": [
      "Intercept (c): 7.991020985734465\n",
      "Coefficient (m): 1.322431022687868\n"
     ]
    }
   ],
   "source": [
    "# Print the intercept and coefficient\n",
    "print(f\"Intercept (c): {lr.intercept_}\")\n",
    "print(f\"Coefficient (m): {lr.coef_[0]}\")"
   ]
  },
  {
   "cell_type": "code",
   "execution_count": 8,
   "id": "d557807e",
   "metadata": {},
   "outputs": [
    {
     "name": "stdout",
     "output_type": "stream",
     "text": [
      "0.5986557915661921\n"
     ]
    }
   ],
   "source": [
    "# Calculate the R-squared value\n",
    "r_squared_sklearn = r2_score(y, y_pred_sklearn)\n",
    "print(r_squared_sklearn)"
   ]
  },
  {
   "cell_type": "code",
   "execution_count": 9,
   "id": "cc7df298",
   "metadata": {},
   "outputs": [],
   "source": [
    "# Calculate the adjusted R-squared value\n",
    "n = len(y)  # total number of samples\n",
    "p = 1  # number of predictors\n",
    "adjusted_r_squared_sklearn = 1 - (1 - r_squared_sklearn) * (n - 1) / (n - p - 1)"
   ]
  },
  {
   "cell_type": "code",
   "execution_count": 10,
   "id": "783f1932",
   "metadata": {},
   "outputs": [
    {
     "name": "stdout",
     "output_type": "stream",
     "text": [
      "Intercept: 7.991020985734465\n",
      "Coefficient: 1.322431022687868\n",
      "R-squared: 0.5986557915661921\n",
      "Adjusted R-squared: 0.5945604425005411\n"
     ]
    }
   ],
   "source": [
    "# Print the results\n",
    "print(f\"Intercept: {lr.intercept_}\")\n",
    "print(f\"Coefficient: {lr.coef_[0]}\")\n",
    "print(f\"R-squared: {r_squared_sklearn}\")\n",
    "print(f\"Adjusted R-squared: {adjusted_r_squared_sklearn}\")"
   ]
  },
  {
   "cell_type": "code",
   "execution_count": 12,
   "id": "9a6763f5",
   "metadata": {},
   "outputs": [
    {
     "data": {
      "image/png": "[encoded data removed]",
      "text/plain": [
       "<Figure size 640x480 with 1 Axes>"
      ]
     },
     "metadata": {},
     "output_type": "display_data"
    }
   ],
   "source": [
    "import matplotlib.pyplot as plt\n",
    "# Create a scatter plot of the data\n",
    "plt.scatter(x, y, color='blue')\n",
    "\n",
    "# Create a line plot of the predicted values\n",
    "plt.plot(x, y_pred_sklearn, color='red')\n",
    "\n",
    "# Label the axes\n",
    "plt.xlabel('Hours')\n",
    "plt.ylabel('Score')\n",
    "\n",
    "# Add a title\n",
    "plt.title('Hours vs Score')\n",
    "\n",
    "# Display the plot\n",
    "plt.show()"
   ]
  },
  {
   "cell_type": "markdown",
   "id": "742f436f",
   "metadata": {},
   "source": [
    "## Use Optimization method "
   ]
  },
  {
   "cell_type": "markdown",
   "id": "c32e7678",
   "metadata": {},
   "source": [
    "In this case we will use two different methods  \n",
    "1. Normal Equation: A mathematical equation that gives the result directly. It uses matrix operations from linear algebra to find the optimal parameters.  \n",
    "2. Gradient Descent: An iterative optimization algorithm used to find the minimum of a function. Here, we'll use it to find the parameters that minimize our cost function.\n",
    "\n",
    "Let's start with the Normal Equation method. We will use numpy to perform matrix operations."
   ]
  },
  {
   "cell_type": "markdown",
   "id": "06d011c2",
   "metadata": {},
   "source": [
    "### The Normal Equation Method for Linear Regression\n",
    "The Normal Equation is a method used to solve for the parameters of a linear regression model. \n",
    "Unlike methods such as Gradient Descent which iteratively adjust the parameters to minimize the cost function, the Normal Equation solves for the parameters analytically in a single step.\n"
   ]
  },
  {
   "cell_type": "markdown",
   "id": "9b01f17f",
   "metadata": {},
   "source": [
    "Using calculus and linear algebra, we can derive the Normal Equation that directly gives the values of θ that minimize the cost function:\n",
    "\n",
    "\n",
    "θ = (XᵀX)⁻¹ Xᵀy\n",
    "\n",
    "where:\n",
    "\n",
    "Xᵀ is the transpose of X,  \n",
    "(XᵀX)⁻¹ is the inverse of the matrix XᵀX."
   ]
  },
  {
   "cell_type": "code",
   "execution_count": 13,
   "id": "a306a549",
   "metadata": {},
   "outputs": [
    {
     "name": "stdout",
     "output_type": "stream",
     "text": [
      "Intercept: 7.991020985734773\n",
      "Coefficient: 1.3224310226878626\n",
      "R-squared: 0.5986557915661921\n",
      "Adjusted R-squared: 0.5945604425005411\n"
     ]
    },
    {
     "data": {
      "image/png": "[encoded data removed]",
      "text/plain": [
       "<Figure size 640x480 with 1 Axes>"
      ]
     },
     "metadata": {},
     "output_type": "display_data"
    }
   ],
   "source": [
    "import pandas as pd\n",
    "import numpy as np\n",
    "import matplotlib.pyplot as plt\n",
    "\n",
    "# Load the data\n",
    "data = pd.read_csv('data1.csv')\n",
    "\n",
    "# Extract the variables\n",
    "x = data['Hours'].values.reshape(-1, 1)\n",
    "y = data['Score']\n",
    "\n",
    "# Add a column of ones to x to represent the intercept\n",
    "x_with_ones = np.c_[np.ones((x.shape[0], 1)), x]\n",
    "\n",
    "# Calculate theta using the normal equation\n",
    "theta_normal = np.linalg.inv(x_with_ones.T.dot(x_with_ones)).dot(x_with_ones.T).dot(y)\n",
    "\n",
    "# Extract the intercept and coefficient\n",
    "intercept = theta_normal[0]\n",
    "coefficient = theta_normal[1]\n",
    "\n",
    "# Predict the y values\n",
    "y_pred_normal = x_with_ones.dot(theta_normal)\n",
    "\n",
    "# Calculate the R-squared value\n",
    "r_squared_normal = 1 - ((y - y_pred_normal) ** 2).sum() / ((y - y.mean()) ** 2).sum()\n",
    "\n",
    "# Calculate the adjusted R-squared value\n",
    "adjusted_r_squared_normal = 1 - (1 - r_squared_normal) * (len(y) - 1) / (len(y) - x.shape[1] - 1)\n",
    "\n",
    "print(f\"Intercept: {intercept}\")\n",
    "print(f\"Coefficient: {coefficient}\")\n",
    "print(f\"R-squared: {r_squared_normal}\")\n",
    "print(f\"Adjusted R-squared: {adjusted_r_squared_normal}\")\n",
    "\n",
    "# Plot the data and the regression line\n",
    "plt.scatter(x, y, color='blue')\n",
    "plt.plot(x, y_pred_normal, color='red')\n",
    "plt.xlabel('Hours')\n",
    "plt.ylabel('Score')\n",
    "plt.title('Hours vs Score with Linear Regression Line')\n",
    "plt.show()\n"
   ]
  },
  {
   "cell_type": "code",
   "execution_count": null,
   "id": "5ee44ece",
   "metadata": {},
   "outputs": [],
   "source": []
  },
  {
   "cell_type": "markdown",
   "id": "c298ff6b",
   "metadata": {},
   "source": [
    "## Using Gradien Decent "
   ]
  },
  {
   "cell_type": "code",
   "execution_count": 27,
   "id": "623fb0e3",
   "metadata": {},
   "outputs": [
    {
     "data": {
      "image/png": "[encoded data removed]",
      "text/plain": [
       "<Figure size 640x480 with 1 Axes>"
      ]
     },
     "metadata": {},
     "output_type": "display_data"
    },
    {
     "name": "stdout",
     "output_type": "stream",
     "text": [
      "Intercept:  45.99070524474624\n",
      "Coefficient:  8.102042136031889\n",
      "R-squared:  -2.0875131224619032\n",
      "Adjusted R-squared:  -2.119018358405392\n"
     ]
    }
   ],
   "source": [
    "import pandas as pd\n",
    "import numpy as np\n",
    "from sklearn.metrics import r2_score\n",
    "import matplotlib.pyplot as plt\n",
    "\n",
    "# Load the data\n",
    "data = pd.read_csv('data1.csv')\n",
    "\n",
    "def compute_cost(X, y, theta):\n",
    "    \"\"\"Compute the cost function for linear regression.\"\"\"\n",
    "    m = len(y)\n",
    "    predictions = X.dot(theta)\n",
    "    errors = np.subtract(predictions, y)\n",
    "    sqrErrors = np.square(errors)\n",
    "    J = 1 / (2 * m) * np.sum(sqrErrors)\n",
    "\n",
    "    return J\n",
    "\n",
    "def gradient_descent(X, y, theta, alpha, iterations):\n",
    "    \"\"\"Perform gradient descent to learn the parameters theta.\"\"\"\n",
    "    m = len(y)\n",
    "    cost_history = np.zeros(iterations)\n",
    "\n",
    "    for i in range(iterations):\n",
    "        predictions = X.dot(theta)\n",
    "        errors = np.subtract(predictions, y)\n",
    "        sum_delta = (alpha / m) * X.transpose().dot(errors)\n",
    "        theta = theta - sum_delta\n",
    "\n",
    "        cost_history[i] = compute_cost(X, y, theta)\n",
    "\n",
    "    return theta, cost_history\n",
    "\n",
    "# Normalize the 'Hours' feature\n",
    "data['Hours_normalized'] = (data['Hours'] - data['Hours'].mean()) / data['Hours'].std()\n",
    "\n",
    "# Initialize some parameters for gradient descent\n",
    "theta = np.zeros(2)\n",
    "iterations = 1000\n",
    "alpha = 0.001\n",
    "\n",
    "# Add a column of ones to the feature matrix to account for the intercept term\n",
    "X = np.array([np.ones(len(data)), data['Hours_normalized'].values]).T\n",
    "y = np.array(data['Score'])\n",
    "\n",
    "# Perform gradient descent to learn the parameters theta\n",
    "theta, cost_history = gradient_descent(X, y, theta, alpha, iterations)\n",
    "\n",
    "# Make predictions using the learned parameters\n",
    "y_pred = X.dot(theta)\n",
    "\n",
    "# Calculate the R-squared value\n",
    "r_squared = r2_score(y, y_pred)\n",
    "\n",
    "# Calculate the adjusted R-squared value\n",
    "n = len(y)  # number of samples\n",
    "p = 1  # number of predictors\n",
    "adjusted_r_squared = 1 - (1 - r_squared) * (n - 1) / (n - p - 1)\n",
    "\n",
    "# Calculate the parameters of the linear regression line directly from the data\n",
    "m, c = np.polyfit(data['Hours'], data['Score'], 1)\n",
    "\n",
    "# Calculate the predictions for this line\n",
    "y_pred_direct = m * data['Hours'] + c\n",
    "\n",
    "# Plot the original data\n",
    "plt.scatter(data['Hours'], data['Score'], color='blue', label='Original data')\n",
    "\n",
    "# Plot the line of best fit found by gradient descent\n",
    "plt.plot(data['Hours'], y_pred, color='red', label='Line from Gradient Descent')\n",
    "\n",
    "# Plot the line of best fit found directly from the data\n",
    "plt.plot(data['Hours'], y_pred_direct, color='green', label='Direct Line')\n",
    "\n",
    "# Add labels and a legend\n",
    "plt.xlabel('Hours')\n",
    "plt.ylabel('Score')\n",
    "plt.legend()\n",
    "\n",
    "plt.show()\n",
    "# Print the intercept and coefficient\n",
    "print(\"Intercept: \", theta[0])\n",
    "print(\"Coefficient: \", theta[1])\n",
    "\n",
    "# Print the R-squared and adjusted R-squared\n",
    "print(\"R-squared: \", r_squared)\n",
    "print(\"Adjusted R-squared: \", adjusted_r_squared)\n"
   ]
  },
  {
   "cell_type": "markdown",
   "id": "ca91e3fb",
   "metadata": {},
   "source": [
    "## Conclusion\n",
    "In this case, the normal linear model (calculated directly from the data) performed better than the model obtained through gradient descent optimization. The reasons for this could be due to several factors:\n",
    "\n",
    "1. Feature Scaling: Gradient descent is sensitive to the scale of the features. In our case, we normalized the 'Hours' feature before running gradient descent. However, when we calculated the normal linear model, we did not normalize the feature. The normalization process could have influenced the results.    \n",
    "\n",
    "\n",
    "\n",
    "2. Learning Rate and Iterations: The performance of gradient descent can be significantly influenced by the choice of learning rate and the number of iterations. If the learning rate is too high, gradient descent can overshoot the minimum. If it's too low, it may take too many iterations to converge or may not converge at all. In our case, it's possible that the learning rate or the number of iterations we chose for the gradient descent algorithm weren't optimal for this dataset.    \n",
    "\n",
    "\n",
    "3. Algorithm Efficiency: The normal equation used to calculate the parameters of the linear model directly is a mathematical solution that gives the exact parameters that minimize the cost function. On the other hand, gradient descent is an iterative optimization algorithm that incrementally moves towards the minimum of the cost function. Therefore, if the cost function has a single global minimum (as is the case with linear regression), the normal equation will find the exact solution, while gradient descent will only approximate this solution (although it can get arbitrarily close with enough iterations and the right learning rate).  \n",
    "\n",
    "In summary, while gradient descent can be a powerful tool for optimizing more complex models and for datasets where calculating the normal equation is computationally infeasible, for simple linear regression on small to medium-sized datasets, calculating the parameters directly using the normal equation can often be more straightforward and yield better results.\n",
    "\n",
    "\n",
    "\n",
    "\n",
    "\n"
   ]
  },
  {
   "cell_type": "code",
   "execution_count": null,
   "id": "9b5f1dda",
   "metadata": {},
   "outputs": [],
   "source": []
  }
 ],
 "metadata": {
  "kernelspec": {
   "display_name": "Python 3 (ipykernel)",
   "language": "python",
   "name": "python3"
  },
  "language_info": {
   "codemirror_mode": {
    "name": "ipython",
    "version": 3
   },
   "file_extension": ".py",
   "mimetype": "text/x-python",
   "name": "python",
   "nbconvert_exporter": "python",
   "pygments_lexer": "ipython3",
   "version": "3.9.16"
  }
 },
 "nbformat": 4,
 "nbformat_minor": 5
}
