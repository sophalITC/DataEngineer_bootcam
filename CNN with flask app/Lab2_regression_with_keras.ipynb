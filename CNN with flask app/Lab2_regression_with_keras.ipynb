{
 "cells": [
  {
   "cell_type": "markdown",
   "metadata": {},
   "source": [
    "## Introduction\n"
   ]
  },
  {
   "cell_type": "markdown",
   "metadata": {},
   "source": [
    "Despite the popularity of more powerful libraries such as PyToch and TensorFlow, they are not easy to use and have a steep learning curve. So, for people who are just starting to learn deep learning, there is no better library to use other than the Keras library. \n",
    "\n",
    "Keras is a high-level API for building deep learning models. It has gained favor for its ease of use and syntactic simplicity facilitating fast development. As you will see in this lab and the other labs in this course, building a very complex deep learning network can be achieved with Keras with only few lines of code. You will appreciate Keras even more, once you learn how to build deep models using PyTorch and TensorFlow in the other courses.\n",
    "\n",
    "So, in this lab, you will learn how to use the Keras library to build a regression model.\n"
   ]
  },
  {
   "cell_type": "markdown",
   "metadata": {},
   "source": [
    "<h2>Regression Models with Keras</h2>\n",
    "\n",
    "<h3>Objective for this Notebook<h3>    \n",
    "<h5> 1. How to use the Keras library to build a regression model.</h5>\n",
    "<h5> 2. Download and Clean dataset </h5>\n",
    "<h5> 3. Build a Neural Network </h5>\n",
    "<h5> 4. Train and Test the Network. </h5>     \n",
    "\n"
   ]
  },
  {
   "cell_type": "markdown",
   "metadata": {},
   "source": [
    "## Table of Contents\n",
    "\n",
    "<div class=\"alert alert-block alert-info\" style=\"margin-top: 20px\">\n",
    "\n",
    "<font size = 3>\n",
    "    \n",
    "1. <a href=\"#item31\">Download and Clean Dataset</a>  \n",
    "2. <a href=\"#item32\">Import Keras</a>  \n",
    "3. <a href=\"#item33\">Build a Neural Network</a>  \n",
    "4. <a href=\"#item34\">Train and Test the Network</a>  \n",
    "\n",
    "</font>\n",
    "</div>\n"
   ]
  },
  {
   "cell_type": "markdown",
   "metadata": {},
   "source": [
    "<a id=\"item31\"></a>\n"
   ]
  },
  {
   "cell_type": "markdown",
   "metadata": {},
   "source": [
    "## Download and Clean Dataset\n"
   ]
  },
  {
   "cell_type": "markdown",
   "metadata": {},
   "source": [
    "Let's start by importing the <em>pandas</em> and the Numpy libraries.\n"
   ]
  },
  {
   "cell_type": "code",
   "execution_count": 1,
   "metadata": {},
   "outputs": [],
   "source": [
    "\n",
    "\n",
    "#!pip install numpy==1.21.4\n",
    "#!pip install pandas==1.3.4\n",
    "#!pip install keras==2.1.6"
   ]
  },
  {
   "cell_type": "code",
   "execution_count": 2,
   "metadata": {},
   "outputs": [],
   "source": [
    "import pandas as pd\n",
    "import numpy as np"
   ]
  },
  {
   "cell_type": "markdown",
   "metadata": {},
   "source": [
    "We will be playing around with the same dataset that we used in the videos.\n",
    "\n",
    "<strong>The dataset is about the compressive strength of different samples of concrete based on the volumes of the different ingredients that were used to make them. Ingredients include:</strong>\n",
    "\n",
    "<strong>1. Cement</strong>\n",
    "\n",
    "<strong>2. Blast Furnace Slag</strong>\n",
    "\n",
    "<strong>3. Fly Ash</strong>\n",
    "\n",
    "<strong>4. Water</strong>\n",
    "\n",
    "<strong>5. Superplasticizer</strong>\n",
    "\n",
    "<strong>6. Coarse Aggregate</strong>\n",
    "\n",
    "<strong>7. Fine Aggregate</strong>\n"
   ]
  },
  {
   "cell_type": "markdown",
   "metadata": {},
   "source": [
    "Let's download the data and read it into a <em>pandas</em> dataframe.\n"
   ]
  },
  {
   "cell_type": "code",
   "execution_count": 3,
   "metadata": {},
   "outputs": [
    {
     "data": {
      "text/html": [
       "<div>\n",
       "<style scoped>\n",
       "    .dataframe tbody tr th:only-of-type {\n",
       "        vertical-align: middle;\n",
       "    }\n",
       "\n",
       "    .dataframe tbody tr th {\n",
       "        vertical-align: top;\n",
       "    }\n",
       "\n",
       "    .dataframe thead th {\n",
       "        text-align: right;\n",
       "    }\n",
       "</style>\n",
       "<table border=\"1\" class=\"dataframe\">\n",
       "  <thead>\n",
       "    <tr style=\"text-align: right;\">\n",
       "      <th></th>\n",
       "      <th>Cement</th>\n",
       "      <th>Blast Furnace Slag</th>\n",
       "      <th>Fly Ash</th>\n",
       "      <th>Water</th>\n",
       "      <th>Superplasticizer</th>\n",
       "      <th>Coarse Aggregate</th>\n",
       "      <th>Fine Aggregate</th>\n",
       "      <th>Age</th>\n",
       "      <th>Strength</th>\n",
       "    </tr>\n",
       "  </thead>\n",
       "  <tbody>\n",
       "    <tr>\n",
       "      <th>0</th>\n",
       "      <td>540.0</td>\n",
       "      <td>0.0</td>\n",
       "      <td>0.0</td>\n",
       "      <td>162.0</td>\n",
       "      <td>2.5</td>\n",
       "      <td>1040.0</td>\n",
       "      <td>676.0</td>\n",
       "      <td>28</td>\n",
       "      <td>79.99</td>\n",
       "    </tr>\n",
       "    <tr>\n",
       "      <th>1</th>\n",
       "      <td>540.0</td>\n",
       "      <td>0.0</td>\n",
       "      <td>0.0</td>\n",
       "      <td>162.0</td>\n",
       "      <td>2.5</td>\n",
       "      <td>1055.0</td>\n",
       "      <td>676.0</td>\n",
       "      <td>28</td>\n",
       "      <td>61.89</td>\n",
       "    </tr>\n",
       "    <tr>\n",
       "      <th>2</th>\n",
       "      <td>332.5</td>\n",
       "      <td>142.5</td>\n",
       "      <td>0.0</td>\n",
       "      <td>228.0</td>\n",
       "      <td>0.0</td>\n",
       "      <td>932.0</td>\n",
       "      <td>594.0</td>\n",
       "      <td>270</td>\n",
       "      <td>40.27</td>\n",
       "    </tr>\n",
       "    <tr>\n",
       "      <th>3</th>\n",
       "      <td>332.5</td>\n",
       "      <td>142.5</td>\n",
       "      <td>0.0</td>\n",
       "      <td>228.0</td>\n",
       "      <td>0.0</td>\n",
       "      <td>932.0</td>\n",
       "      <td>594.0</td>\n",
       "      <td>365</td>\n",
       "      <td>41.05</td>\n",
       "    </tr>\n",
       "    <tr>\n",
       "      <th>4</th>\n",
       "      <td>198.6</td>\n",
       "      <td>132.4</td>\n",
       "      <td>0.0</td>\n",
       "      <td>192.0</td>\n",
       "      <td>0.0</td>\n",
       "      <td>978.4</td>\n",
       "      <td>825.5</td>\n",
       "      <td>360</td>\n",
       "      <td>44.30</td>\n",
       "    </tr>\n",
       "  </tbody>\n",
       "</table>\n",
       "</div>"
      ],
      "text/plain": [
       "   Cement  Blast Furnace Slag  Fly Ash  Water  Superplasticizer  \\\n",
       "0   540.0                 0.0      0.0  162.0               2.5   \n",
       "1   540.0                 0.0      0.0  162.0               2.5   \n",
       "2   332.5               142.5      0.0  228.0               0.0   \n",
       "3   332.5               142.5      0.0  228.0               0.0   \n",
       "4   198.6               132.4      0.0  192.0               0.0   \n",
       "\n",
       "   Coarse Aggregate  Fine Aggregate  Age  Strength  \n",
       "0            1040.0           676.0   28     79.99  \n",
       "1            1055.0           676.0   28     61.89  \n",
       "2             932.0           594.0  270     40.27  \n",
       "3             932.0           594.0  365     41.05  \n",
       "4             978.4           825.5  360     44.30  "
      ]
     },
     "execution_count": 3,
     "metadata": {},
     "output_type": "execute_result"
    }
   ],
   "source": [
    "concrete_data = pd.read_csv('https://github.com/sophalITC/datasci/raw/master/concrete_data.csv')\n",
    "concrete_data.head()"
   ]
  },
  {
   "cell_type": "markdown",
   "metadata": {},
   "source": [
    "So the first concrete sample has 540 cubic meter of cement, 0 cubic meter of blast furnace slag, 0 cubic meter of fly ash, 162 cubic meter of water, 2.5 cubic meter of superplaticizer, 1040 cubic meter of coarse aggregate, 676 cubic meter of fine aggregate. Such a concrete mix which is 28 days old, has a compressive strength of 79.99 MPa. \n"
   ]
  },
  {
   "cell_type": "markdown",
   "metadata": {},
   "source": [
    "#### Let's check how many data points we have.\n"
   ]
  },
  {
   "cell_type": "code",
   "execution_count": 3,
   "metadata": {},
   "outputs": [
    {
     "data": {
      "text/plain": [
       "(1030, 9)"
      ]
     },
     "execution_count": 3,
     "metadata": {},
     "output_type": "execute_result"
    }
   ],
   "source": [
    "concrete_data.shape"
   ]
  },
  {
   "cell_type": "markdown",
   "metadata": {},
   "source": [
    "So, there are approximately 1000 samples to train our model on. Because of the few samples, we have to be careful not to overfit the training data.\n"
   ]
  },
  {
   "cell_type": "markdown",
   "metadata": {},
   "source": [
    "Let's check the dataset for any missing values.\n"
   ]
  },
  {
   "cell_type": "code",
   "execution_count": 4,
   "metadata": {},
   "outputs": [
    {
     "data": {
      "text/html": [
       "<div>\n",
       "<style scoped>\n",
       "    .dataframe tbody tr th:only-of-type {\n",
       "        vertical-align: middle;\n",
       "    }\n",
       "\n",
       "    .dataframe tbody tr th {\n",
       "        vertical-align: top;\n",
       "    }\n",
       "\n",
       "    .dataframe thead th {\n",
       "        text-align: right;\n",
       "    }\n",
       "</style>\n",
       "<table border=\"1\" class=\"dataframe\">\n",
       "  <thead>\n",
       "    <tr style=\"text-align: right;\">\n",
       "      <th></th>\n",
       "      <th>Cement</th>\n",
       "      <th>Blast Furnace Slag</th>\n",
       "      <th>Fly Ash</th>\n",
       "      <th>Water</th>\n",
       "      <th>Superplasticizer</th>\n",
       "      <th>Coarse Aggregate</th>\n",
       "      <th>Fine Aggregate</th>\n",
       "      <th>Age</th>\n",
       "      <th>Strength</th>\n",
       "    </tr>\n",
       "  </thead>\n",
       "  <tbody>\n",
       "    <tr>\n",
       "      <th>count</th>\n",
       "      <td>1030.000000</td>\n",
       "      <td>1030.000000</td>\n",
       "      <td>1030.000000</td>\n",
       "      <td>1030.000000</td>\n",
       "      <td>1030.000000</td>\n",
       "      <td>1030.000000</td>\n",
       "      <td>1030.000000</td>\n",
       "      <td>1030.000000</td>\n",
       "      <td>1030.000000</td>\n",
       "    </tr>\n",
       "    <tr>\n",
       "      <th>mean</th>\n",
       "      <td>281.167864</td>\n",
       "      <td>73.895825</td>\n",
       "      <td>54.188350</td>\n",
       "      <td>181.567282</td>\n",
       "      <td>6.204660</td>\n",
       "      <td>972.918932</td>\n",
       "      <td>773.580485</td>\n",
       "      <td>45.662136</td>\n",
       "      <td>35.817961</td>\n",
       "    </tr>\n",
       "    <tr>\n",
       "      <th>std</th>\n",
       "      <td>104.506364</td>\n",
       "      <td>86.279342</td>\n",
       "      <td>63.997004</td>\n",
       "      <td>21.354219</td>\n",
       "      <td>5.973841</td>\n",
       "      <td>77.753954</td>\n",
       "      <td>80.175980</td>\n",
       "      <td>63.169912</td>\n",
       "      <td>16.705742</td>\n",
       "    </tr>\n",
       "    <tr>\n",
       "      <th>min</th>\n",
       "      <td>102.000000</td>\n",
       "      <td>0.000000</td>\n",
       "      <td>0.000000</td>\n",
       "      <td>121.800000</td>\n",
       "      <td>0.000000</td>\n",
       "      <td>801.000000</td>\n",
       "      <td>594.000000</td>\n",
       "      <td>1.000000</td>\n",
       "      <td>2.330000</td>\n",
       "    </tr>\n",
       "    <tr>\n",
       "      <th>25%</th>\n",
       "      <td>192.375000</td>\n",
       "      <td>0.000000</td>\n",
       "      <td>0.000000</td>\n",
       "      <td>164.900000</td>\n",
       "      <td>0.000000</td>\n",
       "      <td>932.000000</td>\n",
       "      <td>730.950000</td>\n",
       "      <td>7.000000</td>\n",
       "      <td>23.710000</td>\n",
       "    </tr>\n",
       "    <tr>\n",
       "      <th>50%</th>\n",
       "      <td>272.900000</td>\n",
       "      <td>22.000000</td>\n",
       "      <td>0.000000</td>\n",
       "      <td>185.000000</td>\n",
       "      <td>6.400000</td>\n",
       "      <td>968.000000</td>\n",
       "      <td>779.500000</td>\n",
       "      <td>28.000000</td>\n",
       "      <td>34.445000</td>\n",
       "    </tr>\n",
       "    <tr>\n",
       "      <th>75%</th>\n",
       "      <td>350.000000</td>\n",
       "      <td>142.950000</td>\n",
       "      <td>118.300000</td>\n",
       "      <td>192.000000</td>\n",
       "      <td>10.200000</td>\n",
       "      <td>1029.400000</td>\n",
       "      <td>824.000000</td>\n",
       "      <td>56.000000</td>\n",
       "      <td>46.135000</td>\n",
       "    </tr>\n",
       "    <tr>\n",
       "      <th>max</th>\n",
       "      <td>540.000000</td>\n",
       "      <td>359.400000</td>\n",
       "      <td>200.100000</td>\n",
       "      <td>247.000000</td>\n",
       "      <td>32.200000</td>\n",
       "      <td>1145.000000</td>\n",
       "      <td>992.600000</td>\n",
       "      <td>365.000000</td>\n",
       "      <td>82.600000</td>\n",
       "    </tr>\n",
       "  </tbody>\n",
       "</table>\n",
       "</div>"
      ],
      "text/plain": [
       "            Cement  Blast Furnace Slag      Fly Ash        Water  \\\n",
       "count  1030.000000         1030.000000  1030.000000  1030.000000   \n",
       "mean    281.167864           73.895825    54.188350   181.567282   \n",
       "std     104.506364           86.279342    63.997004    21.354219   \n",
       "min     102.000000            0.000000     0.000000   121.800000   \n",
       "25%     192.375000            0.000000     0.000000   164.900000   \n",
       "50%     272.900000           22.000000     0.000000   185.000000   \n",
       "75%     350.000000          142.950000   118.300000   192.000000   \n",
       "max     540.000000          359.400000   200.100000   247.000000   \n",
       "\n",
       "       Superplasticizer  Coarse Aggregate  Fine Aggregate          Age  \\\n",
       "count       1030.000000       1030.000000     1030.000000  1030.000000   \n",
       "mean           6.204660        972.918932      773.580485    45.662136   \n",
       "std            5.973841         77.753954       80.175980    63.169912   \n",
       "min            0.000000        801.000000      594.000000     1.000000   \n",
       "25%            0.000000        932.000000      730.950000     7.000000   \n",
       "50%            6.400000        968.000000      779.500000    28.000000   \n",
       "75%           10.200000       1029.400000      824.000000    56.000000   \n",
       "max           32.200000       1145.000000      992.600000   365.000000   \n",
       "\n",
       "          Strength  \n",
       "count  1030.000000  \n",
       "mean     35.817961  \n",
       "std      16.705742  \n",
       "min       2.330000  \n",
       "25%      23.710000  \n",
       "50%      34.445000  \n",
       "75%      46.135000  \n",
       "max      82.600000  "
      ]
     },
     "execution_count": 4,
     "metadata": {},
     "output_type": "execute_result"
    }
   ],
   "source": [
    "concrete_data.describe()"
   ]
  },
  {
   "cell_type": "code",
   "execution_count": 4,
   "metadata": {},
   "outputs": [
    {
     "data": {
      "text/plain": [
       "Cement                0\n",
       "Blast Furnace Slag    0\n",
       "Fly Ash               0\n",
       "Water                 0\n",
       "Superplasticizer      0\n",
       "Coarse Aggregate      0\n",
       "Fine Aggregate        0\n",
       "Age                   0\n",
       "Strength              0\n",
       "dtype: int64"
      ]
     },
     "execution_count": 4,
     "metadata": {},
     "output_type": "execute_result"
    }
   ],
   "source": [
    "concrete_data.isnull().sum()"
   ]
  },
  {
   "cell_type": "markdown",
   "metadata": {},
   "source": [
    "The data looks very clean and is ready to be used to build our model.\n"
   ]
  },
  {
   "cell_type": "markdown",
   "metadata": {},
   "source": [
    "#### Split data into predictors and target\n"
   ]
  },
  {
   "cell_type": "markdown",
   "metadata": {},
   "source": [
    "The target variable in this problem is the concrete sample strength. Therefore, our predictors will be all the other columns.\n"
   ]
  },
  {
   "cell_type": "code",
   "execution_count": 5,
   "metadata": {},
   "outputs": [],
   "source": [
    "concrete_data_columns = concrete_data.columns\n",
    "\n",
    "predictors = concrete_data[concrete_data_columns[concrete_data_columns != 'Strength']] # all columns except Strength\n",
    "target = concrete_data['Strength'] # Strength column"
   ]
  },
  {
   "cell_type": "code",
   "execution_count": 6,
   "metadata": {},
   "outputs": [
    {
     "name": "stdout",
     "output_type": "stream",
     "text": [
      "Index(['Cement', 'Blast Furnace Slag', 'Fly Ash', 'Water', 'Superplasticizer',\n",
      "       'Coarse Aggregate', 'Fine Aggregate', 'Age', 'Strength'],\n",
      "      dtype='object')\n"
     ]
    }
   ],
   "source": [
    "print(concrete_data_columns)"
   ]
  },
  {
   "cell_type": "markdown",
   "metadata": {},
   "source": [
    "<a id=\"item2\"></a>\n"
   ]
  },
  {
   "cell_type": "markdown",
   "metadata": {},
   "source": [
    "Let's do a quick sanity check of the predictors and the target dataframes.\n"
   ]
  },
  {
   "cell_type": "code",
   "execution_count": 7,
   "metadata": {},
   "outputs": [
    {
     "data": {
      "text/html": [
       "<div>\n",
       "<style scoped>\n",
       "    .dataframe tbody tr th:only-of-type {\n",
       "        vertical-align: middle;\n",
       "    }\n",
       "\n",
       "    .dataframe tbody tr th {\n",
       "        vertical-align: top;\n",
       "    }\n",
       "\n",
       "    .dataframe thead th {\n",
       "        text-align: right;\n",
       "    }\n",
       "</style>\n",
       "<table border=\"1\" class=\"dataframe\">\n",
       "  <thead>\n",
       "    <tr style=\"text-align: right;\">\n",
       "      <th></th>\n",
       "      <th>Cement</th>\n",
       "      <th>Blast Furnace Slag</th>\n",
       "      <th>Fly Ash</th>\n",
       "      <th>Water</th>\n",
       "      <th>Superplasticizer</th>\n",
       "      <th>Coarse Aggregate</th>\n",
       "      <th>Fine Aggregate</th>\n",
       "      <th>Age</th>\n",
       "    </tr>\n",
       "  </thead>\n",
       "  <tbody>\n",
       "    <tr>\n",
       "      <th>0</th>\n",
       "      <td>540.0</td>\n",
       "      <td>0.0</td>\n",
       "      <td>0.0</td>\n",
       "      <td>162.0</td>\n",
       "      <td>2.5</td>\n",
       "      <td>1040.0</td>\n",
       "      <td>676.0</td>\n",
       "      <td>28</td>\n",
       "    </tr>\n",
       "    <tr>\n",
       "      <th>1</th>\n",
       "      <td>540.0</td>\n",
       "      <td>0.0</td>\n",
       "      <td>0.0</td>\n",
       "      <td>162.0</td>\n",
       "      <td>2.5</td>\n",
       "      <td>1055.0</td>\n",
       "      <td>676.0</td>\n",
       "      <td>28</td>\n",
       "    </tr>\n",
       "    <tr>\n",
       "      <th>2</th>\n",
       "      <td>332.5</td>\n",
       "      <td>142.5</td>\n",
       "      <td>0.0</td>\n",
       "      <td>228.0</td>\n",
       "      <td>0.0</td>\n",
       "      <td>932.0</td>\n",
       "      <td>594.0</td>\n",
       "      <td>270</td>\n",
       "    </tr>\n",
       "    <tr>\n",
       "      <th>3</th>\n",
       "      <td>332.5</td>\n",
       "      <td>142.5</td>\n",
       "      <td>0.0</td>\n",
       "      <td>228.0</td>\n",
       "      <td>0.0</td>\n",
       "      <td>932.0</td>\n",
       "      <td>594.0</td>\n",
       "      <td>365</td>\n",
       "    </tr>\n",
       "    <tr>\n",
       "      <th>4</th>\n",
       "      <td>198.6</td>\n",
       "      <td>132.4</td>\n",
       "      <td>0.0</td>\n",
       "      <td>192.0</td>\n",
       "      <td>0.0</td>\n",
       "      <td>978.4</td>\n",
       "      <td>825.5</td>\n",
       "      <td>360</td>\n",
       "    </tr>\n",
       "  </tbody>\n",
       "</table>\n",
       "</div>"
      ],
      "text/plain": [
       "   Cement  Blast Furnace Slag  Fly Ash  Water  Superplasticizer  \\\n",
       "0   540.0                 0.0      0.0  162.0               2.5   \n",
       "1   540.0                 0.0      0.0  162.0               2.5   \n",
       "2   332.5               142.5      0.0  228.0               0.0   \n",
       "3   332.5               142.5      0.0  228.0               0.0   \n",
       "4   198.6               132.4      0.0  192.0               0.0   \n",
       "\n",
       "   Coarse Aggregate  Fine Aggregate  Age  \n",
       "0            1040.0           676.0   28  \n",
       "1            1055.0           676.0   28  \n",
       "2             932.0           594.0  270  \n",
       "3             932.0           594.0  365  \n",
       "4             978.4           825.5  360  "
      ]
     },
     "execution_count": 7,
     "metadata": {},
     "output_type": "execute_result"
    }
   ],
   "source": [
    "predictors.head()"
   ]
  },
  {
   "cell_type": "code",
   "execution_count": 8,
   "metadata": {},
   "outputs": [
    {
     "data": {
      "text/plain": [
       "0    79.99\n",
       "1    61.89\n",
       "2    40.27\n",
       "3    41.05\n",
       "4    44.30\n",
       "Name: Strength, dtype: float64"
      ]
     },
     "execution_count": 8,
     "metadata": {},
     "output_type": "execute_result"
    }
   ],
   "source": [
    "target.head()"
   ]
  },
  {
   "cell_type": "markdown",
   "metadata": {},
   "source": [
    "Finally, the last step is to normalize the data by substracting the mean and dividing by the standard deviation.\n"
   ]
  },
  {
   "cell_type": "code",
   "execution_count": 8,
   "metadata": {},
   "outputs": [
    {
     "data": {
      "text/html": [
       "<div>\n",
       "<style scoped>\n",
       "    .dataframe tbody tr th:only-of-type {\n",
       "        vertical-align: middle;\n",
       "    }\n",
       "\n",
       "    .dataframe tbody tr th {\n",
       "        vertical-align: top;\n",
       "    }\n",
       "\n",
       "    .dataframe thead th {\n",
       "        text-align: right;\n",
       "    }\n",
       "</style>\n",
       "<table border=\"1\" class=\"dataframe\">\n",
       "  <thead>\n",
       "    <tr style=\"text-align: right;\">\n",
       "      <th></th>\n",
       "      <th>Cement</th>\n",
       "      <th>Blast Furnace Slag</th>\n",
       "      <th>Fly Ash</th>\n",
       "      <th>Water</th>\n",
       "      <th>Superplasticizer</th>\n",
       "      <th>Coarse Aggregate</th>\n",
       "      <th>Fine Aggregate</th>\n",
       "      <th>Age</th>\n",
       "    </tr>\n",
       "  </thead>\n",
       "  <tbody>\n",
       "    <tr>\n",
       "      <th>0</th>\n",
       "      <td>2.476712</td>\n",
       "      <td>-0.856472</td>\n",
       "      <td>-0.846733</td>\n",
       "      <td>-0.916319</td>\n",
       "      <td>-0.620147</td>\n",
       "      <td>0.862735</td>\n",
       "      <td>-1.217079</td>\n",
       "      <td>-0.279597</td>\n",
       "    </tr>\n",
       "    <tr>\n",
       "      <th>1</th>\n",
       "      <td>2.476712</td>\n",
       "      <td>-0.856472</td>\n",
       "      <td>-0.846733</td>\n",
       "      <td>-0.916319</td>\n",
       "      <td>-0.620147</td>\n",
       "      <td>1.055651</td>\n",
       "      <td>-1.217079</td>\n",
       "      <td>-0.279597</td>\n",
       "    </tr>\n",
       "    <tr>\n",
       "      <th>2</th>\n",
       "      <td>0.491187</td>\n",
       "      <td>0.795140</td>\n",
       "      <td>-0.846733</td>\n",
       "      <td>2.174405</td>\n",
       "      <td>-1.038638</td>\n",
       "      <td>-0.526262</td>\n",
       "      <td>-2.239829</td>\n",
       "      <td>3.551340</td>\n",
       "    </tr>\n",
       "    <tr>\n",
       "      <th>3</th>\n",
       "      <td>0.491187</td>\n",
       "      <td>0.795140</td>\n",
       "      <td>-0.846733</td>\n",
       "      <td>2.174405</td>\n",
       "      <td>-1.038638</td>\n",
       "      <td>-0.526262</td>\n",
       "      <td>-2.239829</td>\n",
       "      <td>5.055221</td>\n",
       "    </tr>\n",
       "    <tr>\n",
       "      <th>4</th>\n",
       "      <td>-0.790075</td>\n",
       "      <td>0.678079</td>\n",
       "      <td>-0.846733</td>\n",
       "      <td>0.488555</td>\n",
       "      <td>-1.038638</td>\n",
       "      <td>0.070492</td>\n",
       "      <td>0.647569</td>\n",
       "      <td>4.976069</td>\n",
       "    </tr>\n",
       "  </tbody>\n",
       "</table>\n",
       "</div>"
      ],
      "text/plain": [
       "     Cement  Blast Furnace Slag   Fly Ash     Water  Superplasticizer  \\\n",
       "0  2.476712           -0.856472 -0.846733 -0.916319         -0.620147   \n",
       "1  2.476712           -0.856472 -0.846733 -0.916319         -0.620147   \n",
       "2  0.491187            0.795140 -0.846733  2.174405         -1.038638   \n",
       "3  0.491187            0.795140 -0.846733  2.174405         -1.038638   \n",
       "4 -0.790075            0.678079 -0.846733  0.488555         -1.038638   \n",
       "\n",
       "   Coarse Aggregate  Fine Aggregate       Age  \n",
       "0          0.862735       -1.217079 -0.279597  \n",
       "1          1.055651       -1.217079 -0.279597  \n",
       "2         -0.526262       -2.239829  3.551340  \n",
       "3         -0.526262       -2.239829  5.055221  \n",
       "4          0.070492        0.647569  4.976069  "
      ]
     },
     "execution_count": 8,
     "metadata": {},
     "output_type": "execute_result"
    }
   ],
   "source": [
    "predictors_norm = (predictors - predictors.mean()) / predictors.std()\n",
    "predictors_norm.head()"
   ]
  },
  {
   "cell_type": "markdown",
   "metadata": {},
   "source": [
    "Let's save the number of predictors to *n_cols* since we will need this number when building our network.\n"
   ]
  },
  {
   "cell_type": "code",
   "execution_count": 9,
   "metadata": {},
   "outputs": [],
   "source": [
    "n_cols = predictors_norm.shape[1] # number of predictors"
   ]
  },
  {
   "cell_type": "code",
   "execution_count": 10,
   "metadata": {},
   "outputs": [
    {
     "name": "stdout",
     "output_type": "stream",
     "text": [
      "8\n"
     ]
    }
   ],
   "source": [
    "print(n_cols)"
   ]
  },
  {
   "cell_type": "markdown",
   "metadata": {},
   "source": [
    "<a id=\"item1\"></a>\n"
   ]
  },
  {
   "cell_type": "markdown",
   "metadata": {},
   "source": [
    "<a id='item32'></a>\n"
   ]
  },
  {
   "cell_type": "markdown",
   "metadata": {},
   "source": [
    "## Import Keras\n"
   ]
  },
  {
   "cell_type": "markdown",
   "metadata": {},
   "source": [
    "Recall from the videos that Keras normally runs on top of a low-level library such as TensorFlow. This means that to be able to use the Keras library, you will have to install TensorFlow first and when you import the Keras library, it will be explicitly displayed what backend was used to install the Keras library. In CC Labs, we used TensorFlow as the backend to install Keras, so it should clearly print that when we import Keras.\n"
   ]
  },
  {
   "cell_type": "markdown",
   "metadata": {},
   "source": [
    "#### Let's go ahead and import the Keras library\n"
   ]
  },
  {
   "cell_type": "code",
   "execution_count": 11,
   "metadata": {},
   "outputs": [],
   "source": [
    "import keras"
   ]
  },
  {
   "cell_type": "markdown",
   "metadata": {},
   "source": [
    "As you can see, the TensorFlow backend was used to install the Keras library.\n"
   ]
  },
  {
   "cell_type": "markdown",
   "metadata": {},
   "source": [
    "Let's import the rest of the packages from the Keras library that we will need to build our regressoin model.\n"
   ]
  },
  {
   "cell_type": "code",
   "execution_count": 12,
   "metadata": {},
   "outputs": [],
   "source": [
    "from keras.models import Sequential\n",
    "from keras.layers import Dense"
   ]
  },
  {
   "cell_type": "markdown",
   "metadata": {},
   "source": [
    "<a id='item33'></a>\n"
   ]
  },
  {
   "cell_type": "markdown",
   "metadata": {},
   "source": [
    "## Build a Neural Network\n"
   ]
  },
  {
   "cell_type": "markdown",
   "metadata": {},
   "source": [
    "Let's define a function that defines our regression model for us so that we can conveniently call it to create our model.\n"
   ]
  },
  {
   "cell_type": "code",
   "execution_count": 13,
   "metadata": {},
   "outputs": [],
   "source": [
    "# define regression model\n",
    "def regression_model():\n",
    "    # create model\n",
    "    model = Sequential()\n",
    "    model.add(Dense(50, activation='relu', input_shape=(n_cols,)))\n",
    "    model.add(Dense(50, activation='relu'))\n",
    "    model.add(Dense(1))\n",
    "    \n",
    "    # compile model\n",
    "    model.compile(optimizer='adam', loss='mean_squared_error')\n",
    "    return model"
   ]
  },
  {
   "cell_type": "markdown",
   "metadata": {},
   "source": [
    "The above function create a model that has two hidden layers, each of 50 hidden units.\n"
   ]
  },
  {
   "cell_type": "markdown",
   "metadata": {},
   "source": [
    "<a id=\"item4\"></a>\n"
   ]
  },
  {
   "cell_type": "markdown",
   "metadata": {},
   "source": [
    "<a id='item34'></a>\n"
   ]
  },
  {
   "cell_type": "markdown",
   "metadata": {},
   "source": [
    "## Train and Test the Network\n"
   ]
  },
  {
   "cell_type": "markdown",
   "metadata": {},
   "source": [
    "Let's call the function now to create our model.\n"
   ]
  },
  {
   "cell_type": "code",
   "execution_count": 14,
   "metadata": {},
   "outputs": [],
   "source": [
    "# build the model\n",
    "model = regression_model()"
   ]
  },
  {
   "cell_type": "markdown",
   "metadata": {},
   "source": [
    "Next, we will train and test the model at the same time using the *fit* method. We will leave out 30% of the data for validation and we will train the model for 100 epochs.\n"
   ]
  },
  {
   "cell_type": "code",
   "execution_count": 15,
   "metadata": {},
   "outputs": [
    {
     "name": "stdout",
     "output_type": "stream",
     "text": [
      "Epoch 1/100\n",
      "23/23 - 1s - loss: 1660.8584 - val_loss: 1159.1495 - 590ms/epoch - 26ms/step\n",
      "Epoch 2/100\n",
      "23/23 - 0s - loss: 1552.4929 - val_loss: 1052.5854 - 34ms/epoch - 1ms/step\n",
      "Epoch 3/100\n",
      "23/23 - 0s - loss: 1380.9941 - val_loss: 896.6972 - 45ms/epoch - 2ms/step\n",
      "Epoch 4/100\n",
      "23/23 - 0s - loss: 1116.9778 - val_loss: 691.9031 - 35ms/epoch - 2ms/step\n",
      "Epoch 5/100\n",
      "23/23 - 0s - loss: 782.6840 - val_loss: 476.7467 - 34ms/epoch - 1ms/step\n",
      "Epoch 6/100\n",
      "23/23 - 0s - loss: 475.1295 - val_loss: 311.7243 - 43ms/epoch - 2ms/step\n",
      "Epoch 7/100\n",
      "23/23 - 0s - loss: 294.5547 - val_loss: 232.3179 - 47ms/epoch - 2ms/step\n",
      "Epoch 8/100\n",
      "23/23 - 0s - loss: 240.7725 - val_loss: 205.3676 - 44ms/epoch - 2ms/step\n",
      "Epoch 9/100\n",
      "23/23 - 0s - loss: 223.3462 - val_loss: 197.8800 - 26ms/epoch - 1ms/step\n",
      "Epoch 10/100\n",
      "23/23 - 0s - loss: 209.9208 - val_loss: 189.9804 - 48ms/epoch - 2ms/step\n",
      "Epoch 11/100\n",
      "23/23 - 0s - loss: 200.7371 - val_loss: 185.4224 - 32ms/epoch - 1ms/step\n",
      "Epoch 12/100\n",
      "23/23 - 0s - loss: 192.9978 - val_loss: 181.6600 - 40ms/epoch - 2ms/step\n",
      "Epoch 13/100\n",
      "23/23 - 0s - loss: 187.9404 - val_loss: 174.5216 - 42ms/epoch - 2ms/step\n",
      "Epoch 14/100\n",
      "23/23 - 0s - loss: 181.3087 - val_loss: 174.7579 - 42ms/epoch - 2ms/step\n",
      "Epoch 15/100\n",
      "23/23 - 0s - loss: 176.0270 - val_loss: 169.6416 - 37ms/epoch - 2ms/step\n",
      "Epoch 16/100\n",
      "23/23 - 0s - loss: 171.5815 - val_loss: 166.8450 - 37ms/epoch - 2ms/step\n",
      "Epoch 17/100\n",
      "23/23 - 0s - loss: 167.4259 - val_loss: 165.3865 - 38ms/epoch - 2ms/step\n",
      "Epoch 18/100\n",
      "23/23 - 0s - loss: 164.2690 - val_loss: 164.2695 - 35ms/epoch - 2ms/step\n",
      "Epoch 19/100\n",
      "23/23 - 0s - loss: 160.9463 - val_loss: 162.3977 - 41ms/epoch - 2ms/step\n",
      "Epoch 20/100\n",
      "23/23 - 0s - loss: 158.0234 - val_loss: 160.5981 - 39ms/epoch - 2ms/step\n",
      "Epoch 21/100\n",
      "23/23 - 0s - loss: 155.3531 - val_loss: 162.1941 - 41ms/epoch - 2ms/step\n",
      "Epoch 22/100\n",
      "23/23 - 0s - loss: 152.3993 - val_loss: 158.7666 - 36ms/epoch - 2ms/step\n",
      "Epoch 23/100\n",
      "23/23 - 0s - loss: 150.0659 - val_loss: 158.1382 - 43ms/epoch - 2ms/step\n",
      "Epoch 24/100\n",
      "23/23 - 0s - loss: 147.9691 - val_loss: 158.9605 - 38ms/epoch - 2ms/step\n",
      "Epoch 25/100\n",
      "23/23 - 0s - loss: 145.9634 - val_loss: 158.1080 - 36ms/epoch - 2ms/step\n",
      "Epoch 26/100\n",
      "23/23 - 0s - loss: 144.0722 - val_loss: 156.7637 - 37ms/epoch - 2ms/step\n",
      "Epoch 27/100\n",
      "23/23 - 0s - loss: 141.9162 - val_loss: 161.4186 - 37ms/epoch - 2ms/step\n",
      "Epoch 28/100\n",
      "23/23 - 0s - loss: 140.6322 - val_loss: 158.9210 - 37ms/epoch - 2ms/step\n",
      "Epoch 29/100\n",
      "23/23 - 0s - loss: 138.1827 - val_loss: 159.3246 - 43ms/epoch - 2ms/step\n",
      "Epoch 30/100\n",
      "23/23 - 0s - loss: 136.9258 - val_loss: 162.3396 - 40ms/epoch - 2ms/step\n",
      "Epoch 31/100\n",
      "23/23 - 0s - loss: 135.2660 - val_loss: 163.0632 - 38ms/epoch - 2ms/step\n",
      "Epoch 32/100\n",
      "23/23 - 0s - loss: 133.3262 - val_loss: 162.1314 - 40ms/epoch - 2ms/step\n",
      "Epoch 33/100\n",
      "23/23 - 0s - loss: 132.8048 - val_loss: 164.6020 - 37ms/epoch - 2ms/step\n",
      "Epoch 34/100\n",
      "23/23 - 0s - loss: 131.1643 - val_loss: 163.8244 - 41ms/epoch - 2ms/step\n",
      "Epoch 35/100\n",
      "23/23 - 0s - loss: 128.2759 - val_loss: 169.0130 - 36ms/epoch - 2ms/step\n",
      "Epoch 36/100\n",
      "23/23 - 0s - loss: 127.0836 - val_loss: 166.5396 - 41ms/epoch - 2ms/step\n",
      "Epoch 37/100\n",
      "23/23 - 0s - loss: 125.2315 - val_loss: 166.5212 - 23ms/epoch - 1ms/step\n",
      "Epoch 38/100\n",
      "23/23 - 0s - loss: 124.4351 - val_loss: 172.4440 - 49ms/epoch - 2ms/step\n",
      "Epoch 39/100\n",
      "23/23 - 0s - loss: 122.1438 - val_loss: 166.7645 - 39ms/epoch - 2ms/step\n",
      "Epoch 40/100\n",
      "23/23 - 0s - loss: 119.7988 - val_loss: 169.5184 - 42ms/epoch - 2ms/step\n",
      "Epoch 41/100\n",
      "23/23 - 0s - loss: 118.6484 - val_loss: 169.6005 - 38ms/epoch - 2ms/step\n",
      "Epoch 42/100\n",
      "23/23 - 0s - loss: 116.7551 - val_loss: 171.5878 - 37ms/epoch - 2ms/step\n",
      "Epoch 43/100\n",
      "23/23 - 0s - loss: 114.4157 - val_loss: 168.8220 - 42ms/epoch - 2ms/step\n",
      "Epoch 44/100\n",
      "23/23 - 0s - loss: 112.6366 - val_loss: 172.1269 - 39ms/epoch - 2ms/step\n",
      "Epoch 45/100\n",
      "23/23 - 0s - loss: 110.6480 - val_loss: 175.4041 - 38ms/epoch - 2ms/step\n",
      "Epoch 46/100\n",
      "23/23 - 0s - loss: 109.2804 - val_loss: 168.9023 - 39ms/epoch - 2ms/step\n",
      "Epoch 47/100\n",
      "23/23 - 0s - loss: 107.1740 - val_loss: 173.2110 - 37ms/epoch - 2ms/step\n",
      "Epoch 48/100\n",
      "23/23 - 0s - loss: 105.4489 - val_loss: 170.7562 - 41ms/epoch - 2ms/step\n",
      "Epoch 49/100\n",
      "23/23 - 0s - loss: 103.5985 - val_loss: 178.1274 - 36ms/epoch - 2ms/step\n",
      "Epoch 50/100\n",
      "23/23 - 0s - loss: 101.6499 - val_loss: 174.1356 - 40ms/epoch - 2ms/step\n",
      "Epoch 51/100\n",
      "23/23 - 0s - loss: 99.2338 - val_loss: 169.9839 - 33ms/epoch - 1ms/step\n",
      "Epoch 52/100\n",
      "23/23 - 0s - loss: 97.6132 - val_loss: 173.3835 - 38ms/epoch - 2ms/step\n",
      "Epoch 53/100\n",
      "23/23 - 0s - loss: 95.5858 - val_loss: 170.0712 - 37ms/epoch - 2ms/step\n",
      "Epoch 54/100\n",
      "23/23 - 0s - loss: 93.6080 - val_loss: 169.1714 - 37ms/epoch - 2ms/step\n",
      "Epoch 55/100\n",
      "23/23 - 0s - loss: 91.5181 - val_loss: 171.3615 - 35ms/epoch - 2ms/step\n",
      "Epoch 56/100\n",
      "23/23 - 0s - loss: 90.2984 - val_loss: 165.0952 - 36ms/epoch - 2ms/step\n",
      "Epoch 57/100\n",
      "23/23 - 0s - loss: 88.1942 - val_loss: 170.4917 - 35ms/epoch - 2ms/step\n",
      "Epoch 58/100\n",
      "23/23 - 0s - loss: 86.0635 - val_loss: 167.5976 - 36ms/epoch - 2ms/step\n",
      "Epoch 59/100\n",
      "23/23 - 0s - loss: 84.0493 - val_loss: 166.3060 - 36ms/epoch - 2ms/step\n",
      "Epoch 60/100\n",
      "23/23 - 0s - loss: 82.0415 - val_loss: 169.5015 - 36ms/epoch - 2ms/step\n",
      "Epoch 61/100\n",
      "23/23 - 0s - loss: 80.7637 - val_loss: 164.7662 - 36ms/epoch - 2ms/step\n",
      "Epoch 62/100\n",
      "23/23 - 0s - loss: 78.7039 - val_loss: 160.8116 - 30ms/epoch - 1ms/step\n",
      "Epoch 63/100\n",
      "23/23 - 0s - loss: 77.2723 - val_loss: 161.2139 - 44ms/epoch - 2ms/step\n",
      "Epoch 64/100\n",
      "23/23 - 0s - loss: 75.6165 - val_loss: 161.5799 - 36ms/epoch - 2ms/step\n",
      "Epoch 65/100\n",
      "23/23 - 0s - loss: 74.7726 - val_loss: 164.5515 - 26ms/epoch - 1ms/step\n",
      "Epoch 66/100\n",
      "23/23 - 0s - loss: 73.2065 - val_loss: 165.5143 - 50ms/epoch - 2ms/step\n",
      "Epoch 67/100\n",
      "23/23 - 0s - loss: 70.5668 - val_loss: 165.7706 - 41ms/epoch - 2ms/step\n",
      "Epoch 68/100\n",
      "23/23 - 0s - loss: 68.7160 - val_loss: 159.7539 - 37ms/epoch - 2ms/step\n",
      "Epoch 69/100\n",
      "23/23 - 0s - loss: 67.1032 - val_loss: 160.2519 - 36ms/epoch - 2ms/step\n",
      "Epoch 70/100\n",
      "23/23 - 0s - loss: 64.9963 - val_loss: 155.8904 - 40ms/epoch - 2ms/step\n",
      "Epoch 71/100\n",
      "23/23 - 0s - loss: 63.4631 - val_loss: 166.3564 - 24ms/epoch - 1ms/step\n",
      "Epoch 72/100\n",
      "23/23 - 0s - loss: 61.9932 - val_loss: 154.2235 - 47ms/epoch - 2ms/step\n",
      "Epoch 73/100\n",
      "23/23 - 0s - loss: 59.9327 - val_loss: 156.8369 - 26ms/epoch - 1ms/step\n",
      "Epoch 74/100\n",
      "23/23 - 0s - loss: 58.3997 - val_loss: 151.5152 - 47ms/epoch - 2ms/step\n",
      "Epoch 75/100\n",
      "23/23 - 0s - loss: 57.2417 - val_loss: 167.7886 - 36ms/epoch - 2ms/step\n",
      "Epoch 76/100\n",
      "23/23 - 0s - loss: 56.0761 - val_loss: 156.2055 - 30ms/epoch - 1ms/step\n",
      "Epoch 77/100\n",
      "23/23 - 0s - loss: 54.0779 - val_loss: 159.8882 - 36ms/epoch - 2ms/step\n",
      "Epoch 78/100\n",
      "23/23 - 0s - loss: 53.3955 - val_loss: 152.3499 - 36ms/epoch - 2ms/step\n",
      "Epoch 79/100\n",
      "23/23 - 0s - loss: 52.5929 - val_loss: 151.4270 - 42ms/epoch - 2ms/step\n",
      "Epoch 80/100\n",
      "23/23 - 0s - loss: 50.8952 - val_loss: 156.2614 - 35ms/epoch - 2ms/step\n",
      "Epoch 81/100\n",
      "23/23 - 0s - loss: 49.6507 - val_loss: 159.0377 - 46ms/epoch - 2ms/step\n",
      "Epoch 82/100\n",
      "23/23 - 0s - loss: 49.1154 - val_loss: 151.4683 - 41ms/epoch - 2ms/step\n",
      "Epoch 83/100\n",
      "23/23 - 0s - loss: 47.7830 - val_loss: 152.3644 - 35ms/epoch - 2ms/step\n",
      "Epoch 84/100\n",
      "23/23 - 0s - loss: 46.9991 - val_loss: 151.5508 - 40ms/epoch - 2ms/step\n",
      "Epoch 85/100\n",
      "23/23 - 0s - loss: 45.9054 - val_loss: 148.6436 - 38ms/epoch - 2ms/step\n",
      "Epoch 86/100\n",
      "23/23 - 0s - loss: 45.3616 - val_loss: 156.0433 - 36ms/epoch - 2ms/step\n",
      "Epoch 87/100\n",
      "23/23 - 0s - loss: 44.2163 - val_loss: 153.5515 - 41ms/epoch - 2ms/step\n",
      "Epoch 88/100\n",
      "23/23 - 0s - loss: 43.7500 - val_loss: 156.5600 - 36ms/epoch - 2ms/step\n",
      "Epoch 89/100\n",
      "23/23 - 0s - loss: 43.1931 - val_loss: 148.1696 - 37ms/epoch - 2ms/step\n",
      "Epoch 90/100\n",
      "23/23 - 0s - loss: 42.1078 - val_loss: 154.3480 - 40ms/epoch - 2ms/step\n",
      "Epoch 91/100\n",
      "23/23 - 0s - loss: 41.2423 - val_loss: 151.4195 - 37ms/epoch - 2ms/step\n",
      "Epoch 92/100\n",
      "23/23 - 0s - loss: 40.9161 - val_loss: 145.9504 - 40ms/epoch - 2ms/step\n",
      "Epoch 93/100\n",
      "23/23 - 0s - loss: 39.9906 - val_loss: 154.4161 - 38ms/epoch - 2ms/step\n",
      "Epoch 94/100\n",
      "23/23 - 0s - loss: 39.6832 - val_loss: 145.3088 - 36ms/epoch - 2ms/step\n",
      "Epoch 95/100\n",
      "23/23 - 0s - loss: 38.7243 - val_loss: 155.3854 - 42ms/epoch - 2ms/step\n",
      "Epoch 96/100\n",
      "23/23 - 0s - loss: 38.5937 - val_loss: 154.9648 - 36ms/epoch - 2ms/step\n"
     ]
    },
    {
     "name": "stdout",
     "output_type": "stream",
     "text": [
      "Epoch 97/100\n",
      "23/23 - 0s - loss: 38.4820 - val_loss: 142.3985 - 38ms/epoch - 2ms/step\n",
      "Epoch 98/100\n",
      "23/23 - 0s - loss: 37.2355 - val_loss: 153.9245 - 36ms/epoch - 2ms/step\n",
      "Epoch 99/100\n",
      "23/23 - 0s - loss: 36.8344 - val_loss: 144.2001 - 35ms/epoch - 2ms/step\n",
      "Epoch 100/100\n",
      "23/23 - 0s - loss: 36.2419 - val_loss: 150.1538 - 36ms/epoch - 2ms/step\n"
     ]
    },
    {
     "data": {
      "text/plain": [
       "<keras.callbacks.History at 0x27adf5af490>"
      ]
     },
     "execution_count": 15,
     "metadata": {},
     "output_type": "execute_result"
    }
   ],
   "source": [
    "# fit the model\n",
    "model.fit(predictors_norm, target, validation_split=0.3, epochs=100, verbose=2)"
   ]
  },
  {
   "cell_type": "code",
   "execution_count": 27,
   "metadata": {},
   "outputs": [],
   "source": [
    "#your work is to create 3 hiden layer "
   ]
  },
  {
   "cell_type": "code",
   "execution_count": 28,
   "metadata": {},
   "outputs": [],
   "source": [
    "#the second work is to recude the Val_loss (overfitting)"
   ]
  },
  {
   "cell_type": "code",
   "execution_count": null,
   "metadata": {},
   "outputs": [],
   "source": [
    "#the third work is "
   ]
  }
 ],
 "metadata": {
  "kernelspec": {
   "display_name": "Python 3 (ipykernel)",
   "language": "python",
   "name": "python3"
  },
  "language_info": {
   "codemirror_mode": {
    "name": "ipython",
    "version": 3
   },
   "file_extension": ".py",
   "mimetype": "text/x-python",
   "name": "python",
   "nbconvert_exporter": "python",
   "pygments_lexer": "ipython3",
   "version": "3.10.9"
  }
 },
 "nbformat": 4,
 "nbformat_minor": 4
}
