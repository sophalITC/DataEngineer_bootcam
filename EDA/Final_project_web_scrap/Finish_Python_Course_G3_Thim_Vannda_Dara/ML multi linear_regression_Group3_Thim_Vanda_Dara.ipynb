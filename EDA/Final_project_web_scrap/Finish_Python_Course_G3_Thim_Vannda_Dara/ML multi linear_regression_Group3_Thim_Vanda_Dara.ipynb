{
 "cells": [
  {
   "cell_type": "code",
   "execution_count": 563,
   "id": "ec5bc029-f965-4e09-a889-f022737cae0d",
   "metadata": {},
   "outputs": [],
   "source": [
    "import pandas as pd\n",
    "import seaborn as sns\n",
    "import numpy as np\n",
    "import matplotlib.pyplot as plt\n",
    "from sklearn.preprocessing import LabelEncoder\n",
    "from sklearn.preprocessing import StandardScaler\n",
    "import re"
   ]
  },
  {
   "cell_type": "markdown",
   "id": "37b23a69-d944-4780-960e-f1110fdb6f49",
   "metadata": {},
   "source": [
    "### 1. Process and Expore data set"
   ]
  },
  {
   "cell_type": "code",
   "execution_count": 564,
   "id": "0155edfd-449e-4b9b-81b2-9be47d047fb2",
   "metadata": {},
   "outputs": [
    {
     "data": {
      "text/html": [
       "<div>\n",
       "<style scoped>\n",
       "    .dataframe tbody tr th:only-of-type {\n",
       "        vertical-align: middle;\n",
       "    }\n",
       "\n",
       "    .dataframe tbody tr th {\n",
       "        vertical-align: top;\n",
       "    }\n",
       "\n",
       "    .dataframe thead th {\n",
       "        text-align: right;\n",
       "    }\n",
       "</style>\n",
       "<table border=\"1\" class=\"dataframe\">\n",
       "  <thead>\n",
       "    <tr style=\"text-align: right;\">\n",
       "      <th></th>\n",
       "      <th>Price</th>\n",
       "      <th>Name</th>\n",
       "      <th>CPU</th>\n",
       "      <th>RAM</th>\n",
       "      <th>HardDisk</th>\n",
       "    </tr>\n",
       "  </thead>\n",
       "  <tbody>\n",
       "    <tr>\n",
       "      <th>306</th>\n",
       "      <td>2,599.00</td>\n",
       "      <td>MSI Raider GE77 HX 12UGS-257KH</td>\n",
       "      <td>i9 12900HX</td>\n",
       "      <td>32</td>\n",
       "      <td>2048</td>\n",
       "    </tr>\n",
       "    <tr>\n",
       "      <th>307</th>\n",
       "      <td>4,399.00</td>\n",
       "      <td>MSI Raider GE78 HX 13VH-023KH</td>\n",
       "      <td>i9 13950HX</td>\n",
       "      <td>64</td>\n",
       "      <td>4096</td>\n",
       "    </tr>\n",
       "    <tr>\n",
       "      <th>308</th>\n",
       "      <td>1,999.00</td>\n",
       "      <td>MSI Stealth 16Studio A13VF-202KH</td>\n",
       "      <td>I7 13700H</td>\n",
       "      <td>16</td>\n",
       "      <td>1024</td>\n",
       "    </tr>\n",
       "    <tr>\n",
       "      <th>309</th>\n",
       "      <td>2,499.00</td>\n",
       "      <td>MSI Stealth 17 Studio A13VG-030KH</td>\n",
       "      <td>I7 13700H</td>\n",
       "      <td>32</td>\n",
       "      <td>1024</td>\n",
       "    </tr>\n",
       "    <tr>\n",
       "      <th>310</th>\n",
       "      <td>3,999.00</td>\n",
       "      <td>MSI Stealth 17 Studio A13VH</td>\n",
       "      <td>I9 13900H</td>\n",
       "      <td>32</td>\n",
       "      <td>2048</td>\n",
       "    </tr>\n",
       "    <tr>\n",
       "      <th>...</th>\n",
       "      <td>...</td>\n",
       "      <td>...</td>\n",
       "      <td>...</td>\n",
       "      <td>...</td>\n",
       "      <td>...</td>\n",
       "    </tr>\n",
       "    <tr>\n",
       "      <th>401</th>\n",
       "      <td>b'499.00'</td>\n",
       "      <td>b''</td>\n",
       "      <td>b'IntelÂ® Coreâ¢ i3'</td>\n",
       "      <td>b'4'</td>\n",
       "      <td>b'512'</td>\n",
       "    </tr>\n",
       "    <tr>\n",
       "      <th>402</th>\n",
       "      <td>b'499.00'</td>\n",
       "      <td>b'MSI Modern 14 C12M'</td>\n",
       "      <td>b'IntelÂ® Coreâ¢ i3'</td>\n",
       "      <td>b'4'</td>\n",
       "      <td>b'512'</td>\n",
       "    </tr>\n",
       "    <tr>\n",
       "      <th>403</th>\n",
       "      <td>b'769.00'</td>\n",
       "      <td>b'IdeaPad Gaming 3 15ARH7Â '</td>\n",
       "      <td>b'None'</td>\n",
       "      <td>b'8'</td>\n",
       "      <td>b'512'</td>\n",
       "    </tr>\n",
       "    <tr>\n",
       "      <th>404</th>\n",
       "      <td>b'1,639.00'</td>\n",
       "      <td>b'Legion Slim 5 16IRH8'</td>\n",
       "      <td>b'None'</td>\n",
       "      <td>b'16'</td>\n",
       "      <td>b'512'</td>\n",
       "    </tr>\n",
       "    <tr>\n",
       "      <th>405</th>\n",
       "      <td>b'3,469.00'</td>\n",
       "      <td>b'Legion Pro 7 16IRX8H'</td>\n",
       "      <td>b'None'</td>\n",
       "      <td>b'32'</td>\n",
       "      <td>b'1024'</td>\n",
       "    </tr>\n",
       "  </tbody>\n",
       "</table>\n",
       "<p>100 rows × 5 columns</p>\n",
       "</div>"
      ],
      "text/plain": [
       "           Price                                Name                    CPU  \\\n",
       "306     2,599.00     MSI Raider GE77 HX 12UGS-257KH             i9 12900HX    \n",
       "307     4,399.00      MSI Raider GE78 HX 13VH-023KH             i9 13950HX    \n",
       "308     1,999.00   MSI Stealth 16Studio A13VF-202KH              I7 13700H    \n",
       "309     2,499.00  MSI Stealth 17 Studio A13VG-030KH              I7 13700H    \n",
       "310     3,999.00        MSI Stealth 17 Studio A13VH              I9 13900H    \n",
       "..           ...                                 ...                    ...   \n",
       "401    b'499.00'                                 b''  b'IntelÂ® Coreâ¢ i3'   \n",
       "402    b'499.00'               b'MSI Modern 14 C12M'  b'IntelÂ® Coreâ¢ i3'   \n",
       "403    b'769.00'        b'IdeaPad Gaming 3 15ARH7Â '                b'None'   \n",
       "404  b'1,639.00'             b'Legion Slim 5 16IRH8'                b'None'   \n",
       "405  b'3,469.00'             b'Legion Pro 7 16IRX8H'                b'None'   \n",
       "\n",
       "       RAM HardDisk  \n",
       "306     32     2048  \n",
       "307     64     4096  \n",
       "308     16     1024  \n",
       "309     32     1024  \n",
       "310     32     2048  \n",
       "..     ...      ...  \n",
       "401   b'4'   b'512'  \n",
       "402   b'4'   b'512'  \n",
       "403   b'8'   b'512'  \n",
       "404  b'16'   b'512'  \n",
       "405  b'32'  b'1024'  \n",
       "\n",
       "[100 rows x 5 columns]"
      ]
     },
     "execution_count": 564,
     "metadata": {},
     "output_type": "execute_result"
    }
   ],
   "source": [
    "df=pd.read_csv('laptop_20230708.csv', encoding= 'unicode_escape')\n",
    "df.tail(100)"
   ]
  },
  {
   "cell_type": "code",
   "execution_count": 565,
   "id": "d840f819-e4df-4a06-bb41-4bcd6b65172a",
   "metadata": {},
   "outputs": [
    {
     "data": {
      "text/html": [
       "<div>\n",
       "<style scoped>\n",
       "    .dataframe tbody tr th:only-of-type {\n",
       "        vertical-align: middle;\n",
       "    }\n",
       "\n",
       "    .dataframe tbody tr th {\n",
       "        vertical-align: top;\n",
       "    }\n",
       "\n",
       "    .dataframe thead th {\n",
       "        text-align: right;\n",
       "    }\n",
       "</style>\n",
       "<table border=\"1\" class=\"dataframe\">\n",
       "  <thead>\n",
       "    <tr style=\"text-align: right;\">\n",
       "      <th></th>\n",
       "      <th>Price</th>\n",
       "      <th>Name</th>\n",
       "      <th>CPU</th>\n",
       "      <th>RAM</th>\n",
       "      <th>HardDisk</th>\n",
       "    </tr>\n",
       "  </thead>\n",
       "  <tbody>\n",
       "    <tr>\n",
       "      <th>count</th>\n",
       "      <td>406</td>\n",
       "      <td>406</td>\n",
       "      <td>406</td>\n",
       "      <td>406</td>\n",
       "      <td>406</td>\n",
       "    </tr>\n",
       "    <tr>\n",
       "      <th>unique</th>\n",
       "      <td>199</td>\n",
       "      <td>326</td>\n",
       "      <td>167</td>\n",
       "      <td>13</td>\n",
       "      <td>13</td>\n",
       "    </tr>\n",
       "    <tr>\n",
       "      <th>top</th>\n",
       "      <td>1,399.00</td>\n",
       "      <td>MacBook Pro 13</td>\n",
       "      <td>b'IntelÂ® Coreâ¢ i9'</td>\n",
       "      <td>16</td>\n",
       "      <td>512</td>\n",
       "    </tr>\n",
       "    <tr>\n",
       "      <th>freq</th>\n",
       "      <td>8</td>\n",
       "      <td>7</td>\n",
       "      <td>18</td>\n",
       "      <td>141</td>\n",
       "      <td>188</td>\n",
       "    </tr>\n",
       "  </tbody>\n",
       "</table>\n",
       "</div>"
      ],
      "text/plain": [
       "           Price             Name                    CPU  RAM HardDisk\n",
       "count        406              406                    406  406      406\n",
       "unique       199              326                    167   13       13\n",
       "top     1,399.00  MacBook Pro 13   b'IntelÂ® Coreâ¢ i9'   16      512\n",
       "freq           8                7                     18  141      188"
      ]
     },
     "execution_count": 565,
     "metadata": {},
     "output_type": "execute_result"
    }
   ],
   "source": [
    "df.describe()"
   ]
  },
  {
   "cell_type": "code",
   "execution_count": 566,
   "id": "e7a8c880-441f-4ebc-add2-45eabc1c717a",
   "metadata": {},
   "outputs": [
    {
     "data": {
      "text/plain": [
       "(406, 5)"
      ]
     },
     "execution_count": 566,
     "metadata": {},
     "output_type": "execute_result"
    }
   ],
   "source": [
    "df.shape"
   ]
  },
  {
   "cell_type": "code",
   "execution_count": 567,
   "id": "6cb991c5-641b-4ab7-81fe-f5620123dee1",
   "metadata": {},
   "outputs": [
    {
     "name": "stdout",
     "output_type": "stream",
     "text": [
      "<class 'pandas.core.frame.DataFrame'>\n",
      "RangeIndex: 406 entries, 0 to 405\n",
      "Data columns (total 5 columns):\n",
      " #   Column    Non-Null Count  Dtype \n",
      "---  ------    --------------  ----- \n",
      " 0   Price     406 non-null    object\n",
      " 1   Name      406 non-null    object\n",
      " 2   CPU       406 non-null    object\n",
      " 3   RAM       406 non-null    object\n",
      " 4   HardDisk  406 non-null    object\n",
      "dtypes: object(5)\n",
      "memory usage: 16.0+ KB\n"
     ]
    }
   ],
   "source": [
    "df.info()"
   ]
  },
  {
   "cell_type": "markdown",
   "id": "f058142e-19c4-40fb-b137-1b644552693a",
   "metadata": {},
   "source": [
    "### 2.Convert datatype"
   ]
  },
  {
   "cell_type": "code",
   "execution_count": 568,
   "id": "8b29337d-f968-4423-a875-6d39cf9dfe0d",
   "metadata": {},
   "outputs": [
    {
     "name": "stderr",
     "output_type": "stream",
     "text": [
      "C:\\Users\\kul.vannda\\AppData\\Local\\Temp\\ipykernel_27624\\3818113488.py:5: FutureWarning: The default value of regex will change from True to False in a future version. In addition, single character regular expressions will *not* be treated as literal strings when regex=True.\n",
      "  df['Price'] = df['Price'].str.replace(old, new)\n",
      "C:\\Users\\kul.vannda\\AppData\\Local\\Temp\\ipykernel_27624\\3818113488.py:6: FutureWarning: The default value of regex will change from True to False in a future version. In addition, single character regular expressions will *not* be treated as literal strings when regex=True.\n",
      "  df['Name'] = df['Name'].str.replace(old,new)\n",
      "C:\\Users\\kul.vannda\\AppData\\Local\\Temp\\ipykernel_27624\\3818113488.py:7: FutureWarning: The default value of regex will change from True to False in a future version. In addition, single character regular expressions will *not* be treated as literal strings when regex=True.\n",
      "  df['CPU'] = df['CPU'].str.replace(old, new)\n",
      "C:\\Users\\kul.vannda\\AppData\\Local\\Temp\\ipykernel_27624\\3818113488.py:8: FutureWarning: The default value of regex will change from True to False in a future version. In addition, single character regular expressions will *not* be treated as literal strings when regex=True.\n",
      "  df['RAM'] = df['RAM'].str.replace(old,new)\n",
      "C:\\Users\\kul.vannda\\AppData\\Local\\Temp\\ipykernel_27624\\3818113488.py:9: FutureWarning: The default value of regex will change from True to False in a future version. In addition, single character regular expressions will *not* be treated as literal strings when regex=True.\n",
      "  df['HardDisk'] = df['HardDisk'].str.replace(old,new)\n"
     ]
    }
   ],
   "source": [
    "\n",
    "#df['Price'] = df['Price'].str.replace('$','')\n",
    "replace_dict = {\"$\":\"\", \",\": \"\",\"b\":\"\",\"'\":\"\",\"Â\":\"\"}\n",
    "\n",
    "for old, new in replace_dict.items():\n",
    "    df['Price'] = df['Price'].str.replace(old, new)\n",
    "    df['Name'] = df['Name'].str.replace(old,new)\n",
    "    df['CPU'] = df['CPU'].str.replace(old, new)\n",
    "    df['RAM'] = df['RAM'].str.replace(old,new)\n",
    "    df['HardDisk'] = df['HardDisk'].str.replace(old,new)\n",
    "\n",
    "#df['Price'] = df['Price'].apply(lambda x: x.decode('utf-8')).str.replace(',', '').astype(float)\n",
    "\n",
    "# convert the price column to float values\n",
    "df['Price'] = df['Price'].astype(float)\n",
    "df['RAM'] = df['RAM'].astype(float)\n",
    "df['HardDisk'] = df['HardDisk'].astype(float)"
   ]
  },
  {
   "cell_type": "code",
   "execution_count": 569,
   "id": "f1334fa3-0069-4f32-b505-5e42b757cc6b",
   "metadata": {},
   "outputs": [
    {
     "name": "stdout",
     "output_type": "stream",
     "text": [
      "<class 'pandas.core.frame.DataFrame'>\n",
      "RangeIndex: 406 entries, 0 to 405\n",
      "Data columns (total 5 columns):\n",
      " #   Column    Non-Null Count  Dtype  \n",
      "---  ------    --------------  -----  \n",
      " 0   Price     406 non-null    float64\n",
      " 1   Name      406 non-null    object \n",
      " 2   CPU       406 non-null    object \n",
      " 3   RAM       406 non-null    float64\n",
      " 4   HardDisk  406 non-null    float64\n",
      "dtypes: float64(3), object(2)\n",
      "memory usage: 16.0+ KB\n"
     ]
    }
   ],
   "source": [
    "df.info()"
   ]
  },
  {
   "cell_type": "code",
   "execution_count": 570,
   "id": "a96838d1-f03d-46d9-9e4a-fb923b692f5d",
   "metadata": {},
   "outputs": [
    {
     "data": {
      "text/html": [
       "<div>\n",
       "<style scoped>\n",
       "    .dataframe tbody tr th:only-of-type {\n",
       "        vertical-align: middle;\n",
       "    }\n",
       "\n",
       "    .dataframe tbody tr th {\n",
       "        vertical-align: top;\n",
       "    }\n",
       "\n",
       "    .dataframe thead th {\n",
       "        text-align: right;\n",
       "    }\n",
       "</style>\n",
       "<table border=\"1\" class=\"dataframe\">\n",
       "  <thead>\n",
       "    <tr style=\"text-align: right;\">\n",
       "      <th></th>\n",
       "      <th>Price</th>\n",
       "      <th>Name</th>\n",
       "      <th>CPU</th>\n",
       "      <th>RAM</th>\n",
       "      <th>HardDisk</th>\n",
       "    </tr>\n",
       "  </thead>\n",
       "  <tbody>\n",
       "    <tr>\n",
       "      <th>0</th>\n",
       "      <td>319.0</td>\n",
       "      <td>Acer Aspire 3 A314-35-C2XJ</td>\n",
       "      <td>Celeron N4500</td>\n",
       "      <td>4.0</td>\n",
       "      <td>256.0</td>\n",
       "    </tr>\n",
       "    <tr>\n",
       "      <th>1</th>\n",
       "      <td>379.0</td>\n",
       "      <td>Acer Aspire 3 A315</td>\n",
       "      <td>i3 1115G4</td>\n",
       "      <td>8.0</td>\n",
       "      <td>256.0</td>\n",
       "    </tr>\n",
       "    <tr>\n",
       "      <th>2</th>\n",
       "      <td>339.0</td>\n",
       "      <td>Acer Aspire 3 A315-35</td>\n",
       "      <td>Celeron N5100</td>\n",
       "      <td>8.0</td>\n",
       "      <td>512.0</td>\n",
       "    </tr>\n",
       "    <tr>\n",
       "      <th>3</th>\n",
       "      <td>399.0</td>\n",
       "      <td>Acer Aspire 3 A315-510P</td>\n",
       "      <td>i3-N305</td>\n",
       "      <td>8.0</td>\n",
       "      <td>512.0</td>\n",
       "    </tr>\n",
       "    <tr>\n",
       "      <th>4</th>\n",
       "      <td>339.0</td>\n",
       "      <td>Acer Aspire 3 A315-510P</td>\n",
       "      <td>N100</td>\n",
       "      <td>8.0</td>\n",
       "      <td>256.0</td>\n",
       "    </tr>\n",
       "  </tbody>\n",
       "</table>\n",
       "</div>"
      ],
      "text/plain": [
       "   Price                         Name              CPU  RAM  HardDisk\n",
       "0  319.0  Acer Aspire 3 A314-35-C2XJ    Celeron N4500   4.0     256.0\n",
       "1  379.0          Acer Aspire 3 A315        i3 1115G4   8.0     256.0\n",
       "2  339.0       Acer Aspire 3 A315-35    Celeron N5100   8.0     512.0\n",
       "3  399.0     Acer Aspire 3 A315-510P          i3-N305   8.0     512.0\n",
       "4  339.0     Acer Aspire 3 A315-510P             N100   8.0     256.0"
      ]
     },
     "execution_count": 570,
     "metadata": {},
     "output_type": "execute_result"
    }
   ],
   "source": [
    "df.head()"
   ]
  },
  {
   "cell_type": "code",
   "execution_count": 571,
   "id": "0db19f6f-b8dc-4804-b5c9-42254cc976c8",
   "metadata": {},
   "outputs": [
    {
     "data": {
      "text/plain": [
       "Price       0\n",
       "Name        0\n",
       "CPU         0\n",
       "RAM         0\n",
       "HardDisk    0\n",
       "dtype: int64"
      ]
     },
     "execution_count": 571,
     "metadata": {},
     "output_type": "execute_result"
    }
   ],
   "source": [
    "df.isnull().sum()"
   ]
  },
  {
   "cell_type": "code",
   "execution_count": 572,
   "id": "d52ffa7c-f19d-478e-8e78-64a33287539b",
   "metadata": {},
   "outputs": [],
   "source": [
    "# filter rows and exclude columns containing the word \"MacBook\""
   ]
  },
  {
   "cell_type": "markdown",
   "id": "505c3bda-10e1-4c6f-8144-36e3219822d0",
   "metadata": {},
   "source": [
    "### 3.Split columns"
   ]
  },
  {
   "cell_type": "code",
   "execution_count": 573,
   "id": "14cc44d8-720c-4dc1-aa45-08f8994b7d88",
   "metadata": {},
   "outputs": [
    {
     "data": {
      "text/html": [
       "<div>\n",
       "<style scoped>\n",
       "    .dataframe tbody tr th:only-of-type {\n",
       "        vertical-align: middle;\n",
       "    }\n",
       "\n",
       "    .dataframe tbody tr th {\n",
       "        vertical-align: top;\n",
       "    }\n",
       "\n",
       "    .dataframe thead th {\n",
       "        text-align: right;\n",
       "    }\n",
       "</style>\n",
       "<table border=\"1\" class=\"dataframe\">\n",
       "  <thead>\n",
       "    <tr style=\"text-align: right;\">\n",
       "      <th></th>\n",
       "      <th>Price</th>\n",
       "      <th>Name</th>\n",
       "      <th>CPU</th>\n",
       "      <th>RAM</th>\n",
       "      <th>HardDisk</th>\n",
       "      <th>Model</th>\n",
       "      <th>Descript</th>\n",
       "    </tr>\n",
       "  </thead>\n",
       "  <tbody>\n",
       "    <tr>\n",
       "      <th>0</th>\n",
       "      <td>319.0</td>\n",
       "      <td>Acer Aspire 3 A314-35-C2XJ</td>\n",
       "      <td>Celeron N4500</td>\n",
       "      <td>4.0</td>\n",
       "      <td>256.0</td>\n",
       "      <td>Acer</td>\n",
       "      <td>Aspire 3 A314-35-C2XJ</td>\n",
       "    </tr>\n",
       "    <tr>\n",
       "      <th>1</th>\n",
       "      <td>379.0</td>\n",
       "      <td>Acer Aspire 3 A315</td>\n",
       "      <td>i3 1115G4</td>\n",
       "      <td>8.0</td>\n",
       "      <td>256.0</td>\n",
       "      <td>Acer</td>\n",
       "      <td>Aspire 3 A315</td>\n",
       "    </tr>\n",
       "    <tr>\n",
       "      <th>2</th>\n",
       "      <td>339.0</td>\n",
       "      <td>Acer Aspire 3 A315-35</td>\n",
       "      <td>Celeron N5100</td>\n",
       "      <td>8.0</td>\n",
       "      <td>512.0</td>\n",
       "      <td>Acer</td>\n",
       "      <td>Aspire 3 A315-35</td>\n",
       "    </tr>\n",
       "    <tr>\n",
       "      <th>3</th>\n",
       "      <td>399.0</td>\n",
       "      <td>Acer Aspire 3 A315-510P</td>\n",
       "      <td>i3-N305</td>\n",
       "      <td>8.0</td>\n",
       "      <td>512.0</td>\n",
       "      <td>Acer</td>\n",
       "      <td>Aspire 3 A315-510P</td>\n",
       "    </tr>\n",
       "    <tr>\n",
       "      <th>4</th>\n",
       "      <td>339.0</td>\n",
       "      <td>Acer Aspire 3 A315-510P</td>\n",
       "      <td>N100</td>\n",
       "      <td>8.0</td>\n",
       "      <td>256.0</td>\n",
       "      <td>Acer</td>\n",
       "      <td>Aspire 3 A315-510P</td>\n",
       "    </tr>\n",
       "    <tr>\n",
       "      <th>...</th>\n",
       "      <td>...</td>\n",
       "      <td>...</td>\n",
       "      <td>...</td>\n",
       "      <td>...</td>\n",
       "      <td>...</td>\n",
       "      <td>...</td>\n",
       "      <td>...</td>\n",
       "    </tr>\n",
       "    <tr>\n",
       "      <th>401</th>\n",
       "      <td>499.0</td>\n",
       "      <td></td>\n",
       "      <td>Intel® Coreâ¢ i3</td>\n",
       "      <td>4.0</td>\n",
       "      <td>512.0</td>\n",
       "      <td>None</td>\n",
       "      <td>None</td>\n",
       "    </tr>\n",
       "    <tr>\n",
       "      <th>402</th>\n",
       "      <td>499.0</td>\n",
       "      <td>MSI Modern 14 C12M</td>\n",
       "      <td>Intel® Coreâ¢ i3</td>\n",
       "      <td>4.0</td>\n",
       "      <td>512.0</td>\n",
       "      <td>MSI</td>\n",
       "      <td>Modern 14 C12M</td>\n",
       "    </tr>\n",
       "    <tr>\n",
       "      <th>403</th>\n",
       "      <td>769.0</td>\n",
       "      <td>IdeaPad Gaming 3 15ARH7</td>\n",
       "      <td>None</td>\n",
       "      <td>8.0</td>\n",
       "      <td>512.0</td>\n",
       "      <td>IdeaPad</td>\n",
       "      <td>Gaming 3 15ARH7</td>\n",
       "    </tr>\n",
       "    <tr>\n",
       "      <th>404</th>\n",
       "      <td>1639.0</td>\n",
       "      <td>Legion Slim 5 16IRH8</td>\n",
       "      <td>None</td>\n",
       "      <td>16.0</td>\n",
       "      <td>512.0</td>\n",
       "      <td>Legion</td>\n",
       "      <td>Slim 5 16IRH8</td>\n",
       "    </tr>\n",
       "    <tr>\n",
       "      <th>405</th>\n",
       "      <td>3469.0</td>\n",
       "      <td>Legion Pro 7 16IRX8H</td>\n",
       "      <td>None</td>\n",
       "      <td>32.0</td>\n",
       "      <td>1024.0</td>\n",
       "      <td>Legion</td>\n",
       "      <td>Pro 7 16IRX8H</td>\n",
       "    </tr>\n",
       "  </tbody>\n",
       "</table>\n",
       "<p>406 rows × 7 columns</p>\n",
       "</div>"
      ],
      "text/plain": [
       "      Price                         Name                CPU   RAM  HardDisk  \\\n",
       "0     319.0  Acer Aspire 3 A314-35-C2XJ      Celeron N4500    4.0     256.0   \n",
       "1     379.0          Acer Aspire 3 A315          i3 1115G4    8.0     256.0   \n",
       "2     339.0       Acer Aspire 3 A315-35      Celeron N5100    8.0     512.0   \n",
       "3     399.0     Acer Aspire 3 A315-510P            i3-N305    8.0     512.0   \n",
       "4     339.0     Acer Aspire 3 A315-510P               N100    8.0     256.0   \n",
       "..      ...                          ...                ...   ...       ...   \n",
       "401   499.0                               Intel® Coreâ¢ i3   4.0     512.0   \n",
       "402   499.0           MSI Modern 14 C12M  Intel® Coreâ¢ i3   4.0     512.0   \n",
       "403   769.0     IdeaPad Gaming 3 15ARH7                None   8.0     512.0   \n",
       "404  1639.0         Legion Slim 5 16IRH8               None  16.0     512.0   \n",
       "405  3469.0         Legion Pro 7 16IRX8H               None  32.0    1024.0   \n",
       "\n",
       "       Model                Descript  \n",
       "0       Acer  Aspire 3 A314-35-C2XJ   \n",
       "1       Acer          Aspire 3 A315   \n",
       "2       Acer       Aspire 3 A315-35   \n",
       "3       Acer     Aspire 3 A315-510P   \n",
       "4       Acer     Aspire 3 A315-510P   \n",
       "..       ...                     ...  \n",
       "401     None                    None  \n",
       "402      MSI          Modern 14 C12M  \n",
       "403  IdeaPad        Gaming 3 15ARH7   \n",
       "404   Legion           Slim 5 16IRH8  \n",
       "405   Legion           Pro 7 16IRX8H  \n",
       "\n",
       "[406 rows x 7 columns]"
      ]
     },
     "execution_count": 573,
     "metadata": {},
     "output_type": "execute_result"
    }
   ],
   "source": [
    "# split the Name column into two columns based on space as the delimiter\n",
    "df[['Model', 'Descript']] = df['Name'].str.split(n=1, expand=True)\n",
    "\n",
    "\n",
    "df"
   ]
  },
  {
   "cell_type": "code",
   "execution_count": 574,
   "id": "53216e69-2d49-443e-9211-d23c2b540698",
   "metadata": {},
   "outputs": [],
   "source": [
    "#def extract_processor_value(cpu_column):\n",
    "#   pattern = r'^\\b(\\w+-?\\w*)\\b'\n",
    " #   processor_match = re.search(pattern, cpu_column, re.IGNORECASE)\n",
    "#    if processor_match:\n",
    "#        return processor_match.group(1)\n",
    "#   else:\n",
    "#        return None"
   ]
  },
  {
   "cell_type": "code",
   "execution_count": 575,
   "id": "74d8c208-0bb0-49b2-965f-4d06de748a31",
   "metadata": {},
   "outputs": [],
   "source": [
    "#extract_processor_value(df['CPU'])"
   ]
  },
  {
   "cell_type": "markdown",
   "id": "d6204303-1144-43d6-b3d8-46cf9b3e8c22",
   "metadata": {},
   "source": []
  },
  {
   "cell_type": "code",
   "execution_count": 576,
   "id": "b6ec298d-930c-45dd-a5dc-bf9a116aa364",
   "metadata": {},
   "outputs": [
    {
     "data": {
      "text/html": [
       "<div>\n",
       "<style scoped>\n",
       "    .dataframe tbody tr th:only-of-type {\n",
       "        vertical-align: middle;\n",
       "    }\n",
       "\n",
       "    .dataframe tbody tr th {\n",
       "        vertical-align: top;\n",
       "    }\n",
       "\n",
       "    .dataframe thead th {\n",
       "        text-align: right;\n",
       "    }\n",
       "</style>\n",
       "<table border=\"1\" class=\"dataframe\">\n",
       "  <thead>\n",
       "    <tr style=\"text-align: right;\">\n",
       "      <th></th>\n",
       "      <th>Price</th>\n",
       "      <th>RAM</th>\n",
       "      <th>HardDisk</th>\n",
       "      <th>Model</th>\n",
       "    </tr>\n",
       "  </thead>\n",
       "  <tbody>\n",
       "    <tr>\n",
       "      <th>0</th>\n",
       "      <td>319.0</td>\n",
       "      <td>4.0</td>\n",
       "      <td>256.0</td>\n",
       "      <td>Acer</td>\n",
       "    </tr>\n",
       "    <tr>\n",
       "      <th>1</th>\n",
       "      <td>379.0</td>\n",
       "      <td>8.0</td>\n",
       "      <td>256.0</td>\n",
       "      <td>Acer</td>\n",
       "    </tr>\n",
       "    <tr>\n",
       "      <th>2</th>\n",
       "      <td>339.0</td>\n",
       "      <td>8.0</td>\n",
       "      <td>512.0</td>\n",
       "      <td>Acer</td>\n",
       "    </tr>\n",
       "    <tr>\n",
       "      <th>3</th>\n",
       "      <td>399.0</td>\n",
       "      <td>8.0</td>\n",
       "      <td>512.0</td>\n",
       "      <td>Acer</td>\n",
       "    </tr>\n",
       "    <tr>\n",
       "      <th>4</th>\n",
       "      <td>339.0</td>\n",
       "      <td>8.0</td>\n",
       "      <td>256.0</td>\n",
       "      <td>Acer</td>\n",
       "    </tr>\n",
       "    <tr>\n",
       "      <th>...</th>\n",
       "      <td>...</td>\n",
       "      <td>...</td>\n",
       "      <td>...</td>\n",
       "      <td>...</td>\n",
       "    </tr>\n",
       "    <tr>\n",
       "      <th>401</th>\n",
       "      <td>499.0</td>\n",
       "      <td>4.0</td>\n",
       "      <td>512.0</td>\n",
       "      <td>None</td>\n",
       "    </tr>\n",
       "    <tr>\n",
       "      <th>402</th>\n",
       "      <td>499.0</td>\n",
       "      <td>4.0</td>\n",
       "      <td>512.0</td>\n",
       "      <td>MSI</td>\n",
       "    </tr>\n",
       "    <tr>\n",
       "      <th>403</th>\n",
       "      <td>769.0</td>\n",
       "      <td>8.0</td>\n",
       "      <td>512.0</td>\n",
       "      <td>IdeaPad</td>\n",
       "    </tr>\n",
       "    <tr>\n",
       "      <th>404</th>\n",
       "      <td>1639.0</td>\n",
       "      <td>16.0</td>\n",
       "      <td>512.0</td>\n",
       "      <td>Legion</td>\n",
       "    </tr>\n",
       "    <tr>\n",
       "      <th>405</th>\n",
       "      <td>3469.0</td>\n",
       "      <td>32.0</td>\n",
       "      <td>1024.0</td>\n",
       "      <td>Legion</td>\n",
       "    </tr>\n",
       "  </tbody>\n",
       "</table>\n",
       "<p>406 rows × 4 columns</p>\n",
       "</div>"
      ],
      "text/plain": [
       "      Price   RAM  HardDisk    Model\n",
       "0     319.0   4.0     256.0     Acer\n",
       "1     379.0   8.0     256.0     Acer\n",
       "2     339.0   8.0     512.0     Acer\n",
       "3     399.0   8.0     512.0     Acer\n",
       "4     339.0   8.0     256.0     Acer\n",
       "..      ...   ...       ...      ...\n",
       "401   499.0   4.0     512.0     None\n",
       "402   499.0   4.0     512.0      MSI\n",
       "403   769.0   8.0     512.0  IdeaPad\n",
       "404  1639.0  16.0     512.0   Legion\n",
       "405  3469.0  32.0    1024.0   Legion\n",
       "\n",
       "[406 rows x 4 columns]"
      ]
     },
     "execution_count": 576,
     "metadata": {},
     "output_type": "execute_result"
    }
   ],
   "source": [
    "df = df.drop(columns=['Name', 'Descript','CPU'])\n",
    "df"
   ]
  },
  {
   "cell_type": "code",
   "execution_count": 577,
   "id": "d4f3dd94-32b8-4772-836c-d8d950663994",
   "metadata": {},
   "outputs": [
    {
     "data": {
      "image/png": "[encoded data removed]",
      "text/plain": [
       "<Figure size 432x288 with 1 Axes>"
      ]
     },
     "metadata": {
      "needs_background": "light"
     },
     "output_type": "display_data"
    }
   ],
   "source": [
    "df['Price'].plot(kind='box')\n",
    "plt.show()"
   ]
  },
  {
   "cell_type": "code",
   "execution_count": 578,
   "id": "27054b94-f580-4c43-9203-0a5eb97a5305",
   "metadata": {},
   "outputs": [
    {
     "data": {
      "image/png": "[encoded data removed]",
      "text/plain": [
       "<Figure size 432x288 with 1 Axes>"
      ]
     },
     "metadata": {
      "needs_background": "light"
     },
     "output_type": "display_data"
    }
   ],
   "source": [
    "df['RAM'].plot(kind='box')\n",
    "plt.show()"
   ]
  },
  {
   "cell_type": "code",
   "execution_count": 579,
   "id": "925b7344-ef1e-4615-a52c-99e7d16a6f3b",
   "metadata": {},
   "outputs": [
    {
     "data": {
      "image/png": "[encoded data removed]",
      "text/plain": [
       "<Figure size 432x288 with 1 Axes>"
      ]
     },
     "metadata": {
      "needs_background": "light"
     },
     "output_type": "display_data"
    }
   ],
   "source": [
    "df['HardDisk'].plot(kind='box')\n",
    "plt.show()"
   ]
  },
  {
   "cell_type": "markdown",
   "id": "1f44e552-41c3-4387-b9f1-f01dca224d05",
   "metadata": {},
   "source": [
    "### 4.Label encoding"
   ]
  },
  {
   "cell_type": "code",
   "execution_count": null,
   "id": "dbc7a3ce-e798-47a3-81b5-872a013baaab",
   "metadata": {},
   "outputs": [],
   "source": []
  },
  {
   "cell_type": "code",
   "execution_count": 580,
   "id": "f34deff0-3c7a-4969-a796-63c04b67da94",
   "metadata": {},
   "outputs": [
    {
     "data": {
      "text/plain": [
       "array(['Acer', 'AERO', 'AORUS', 'Asus', 'ASUS', 'Colorful', 'Dell',\n",
       "       'DELL', 'GIGABHYTE', 'HP', 'HUAWEI', 'Lenovo', 'MacBook',\n",
       "       'Microsoft', 'MSI', 'Razer', 'Samsung', 'XPG', 'MODEL', None,\n",
       "       'IdeaPad', 'Legion'], dtype=object)"
      ]
     },
     "execution_count": 580,
     "metadata": {},
     "output_type": "execute_result"
    }
   ],
   "source": [
    "df['Model'].unique()"
   ]
  },
  {
   "cell_type": "code",
   "execution_count": 581,
   "id": "ae348c50-27db-45d8-bcde-bc055c2bb464",
   "metadata": {},
   "outputs": [
    {
     "data": {
      "text/plain": [
       "array(['ACER', 'AERO', 'AORUS', 'ASUS', 'COLORFUL', 'DELL', 'GIGABHYTE',\n",
       "       'HP', 'HUAWEI', 'LENOVO', 'MACBOOK', 'MICROSOFT', 'MSI', 'RAZER',\n",
       "       'SAMSUNG', 'XPG', 'MODEL', None, 'IDEAPAD', 'LEGION'], dtype=object)"
      ]
     },
     "execution_count": 581,
     "metadata": {},
     "output_type": "execute_result"
    }
   ],
   "source": [
    "df['Model'] = df['Model'].str.upper()\n",
    "df['Model'].unique()"
   ]
  },
  {
   "cell_type": "code",
   "execution_count": 582,
   "id": "b552f66d-f49c-402f-a3ca-45476a68a4b0",
   "metadata": {},
   "outputs": [],
   "source": [
    "le = LabelEncoder() # create a new LabelEncoder object\n",
    "df['Model No'] = le.fit_transform(df['Model']) # apply label encoding to the 'Model' column"
   ]
  },
  {
   "cell_type": "code",
   "execution_count": 583,
   "id": "b07f3436-0ea9-4d70-bb71-7c4c8c18dbce",
   "metadata": {},
   "outputs": [
    {
     "data": {
      "text/html": [
       "<div>\n",
       "<style scoped>\n",
       "    .dataframe tbody tr th:only-of-type {\n",
       "        vertical-align: middle;\n",
       "    }\n",
       "\n",
       "    .dataframe tbody tr th {\n",
       "        vertical-align: top;\n",
       "    }\n",
       "\n",
       "    .dataframe thead th {\n",
       "        text-align: right;\n",
       "    }\n",
       "</style>\n",
       "<table border=\"1\" class=\"dataframe\">\n",
       "  <thead>\n",
       "    <tr style=\"text-align: right;\">\n",
       "      <th></th>\n",
       "      <th>Price</th>\n",
       "      <th>RAM</th>\n",
       "      <th>HardDisk</th>\n",
       "      <th>Model No</th>\n",
       "    </tr>\n",
       "  </thead>\n",
       "  <tbody>\n",
       "    <tr>\n",
       "      <th>0</th>\n",
       "      <td>319.0</td>\n",
       "      <td>4.0</td>\n",
       "      <td>256.0</td>\n",
       "      <td>0</td>\n",
       "    </tr>\n",
       "    <tr>\n",
       "      <th>1</th>\n",
       "      <td>379.0</td>\n",
       "      <td>8.0</td>\n",
       "      <td>256.0</td>\n",
       "      <td>0</td>\n",
       "    </tr>\n",
       "    <tr>\n",
       "      <th>2</th>\n",
       "      <td>339.0</td>\n",
       "      <td>8.0</td>\n",
       "      <td>512.0</td>\n",
       "      <td>0</td>\n",
       "    </tr>\n",
       "    <tr>\n",
       "      <th>3</th>\n",
       "      <td>399.0</td>\n",
       "      <td>8.0</td>\n",
       "      <td>512.0</td>\n",
       "      <td>0</td>\n",
       "    </tr>\n",
       "    <tr>\n",
       "      <th>4</th>\n",
       "      <td>339.0</td>\n",
       "      <td>8.0</td>\n",
       "      <td>256.0</td>\n",
       "      <td>0</td>\n",
       "    </tr>\n",
       "    <tr>\n",
       "      <th>...</th>\n",
       "      <td>...</td>\n",
       "      <td>...</td>\n",
       "      <td>...</td>\n",
       "      <td>...</td>\n",
       "    </tr>\n",
       "    <tr>\n",
       "      <th>401</th>\n",
       "      <td>499.0</td>\n",
       "      <td>4.0</td>\n",
       "      <td>512.0</td>\n",
       "      <td>19</td>\n",
       "    </tr>\n",
       "    <tr>\n",
       "      <th>402</th>\n",
       "      <td>499.0</td>\n",
       "      <td>4.0</td>\n",
       "      <td>512.0</td>\n",
       "      <td>15</td>\n",
       "    </tr>\n",
       "    <tr>\n",
       "      <th>403</th>\n",
       "      <td>769.0</td>\n",
       "      <td>8.0</td>\n",
       "      <td>512.0</td>\n",
       "      <td>9</td>\n",
       "    </tr>\n",
       "    <tr>\n",
       "      <th>404</th>\n",
       "      <td>1639.0</td>\n",
       "      <td>16.0</td>\n",
       "      <td>512.0</td>\n",
       "      <td>10</td>\n",
       "    </tr>\n",
       "    <tr>\n",
       "      <th>405</th>\n",
       "      <td>3469.0</td>\n",
       "      <td>32.0</td>\n",
       "      <td>1024.0</td>\n",
       "      <td>10</td>\n",
       "    </tr>\n",
       "  </tbody>\n",
       "</table>\n",
       "<p>406 rows × 4 columns</p>\n",
       "</div>"
      ],
      "text/plain": [
       "      Price   RAM  HardDisk  Model No\n",
       "0     319.0   4.0     256.0         0\n",
       "1     379.0   8.0     256.0         0\n",
       "2     339.0   8.0     512.0         0\n",
       "3     399.0   8.0     512.0         0\n",
       "4     339.0   8.0     256.0         0\n",
       "..      ...   ...       ...       ...\n",
       "401   499.0   4.0     512.0        19\n",
       "402   499.0   4.0     512.0        15\n",
       "403   769.0   8.0     512.0         9\n",
       "404  1639.0  16.0     512.0        10\n",
       "405  3469.0  32.0    1024.0        10\n",
       "\n",
       "[406 rows x 4 columns]"
      ]
     },
     "execution_count": 583,
     "metadata": {},
     "output_type": "execute_result"
    }
   ],
   "source": [
    "df = df.drop(columns=['Model'])\n",
    "df"
   ]
  },
  {
   "cell_type": "code",
   "execution_count": 584,
   "id": "7fd91258-6c25-4aa4-8ea6-c82953b2718b",
   "metadata": {},
   "outputs": [
    {
     "data": {
      "text/plain": [
       "array([ 0,  1,  2,  3,  4,  5,  6,  7,  8, 11, 12, 13, 15, 16, 17, 18, 14,\n",
       "       19,  9, 10])"
      ]
     },
     "execution_count": 584,
     "metadata": {},
     "output_type": "execute_result"
    }
   ],
   "source": [
    "df['Model No'].unique()"
   ]
  },
  {
   "cell_type": "markdown",
   "id": "7ff5006d-b9a6-4fcc-9878-369b1e7abc1c",
   "metadata": {},
   "source": [
    "### 5.Transformation"
   ]
  },
  {
   "cell_type": "code",
   "execution_count": 585,
   "id": "42e1bcd8-84d0-407c-9550-b8dba059b926",
   "metadata": {},
   "outputs": [
    {
     "name": "stderr",
     "output_type": "stream",
     "text": [
      "C:\\Users\\kul.vannda\\Anaconda3\\lib\\site-packages\\seaborn\\distributions.py:2619: FutureWarning: `distplot` is a deprecated function and will be removed in a future version. Please adapt your code to use either `displot` (a figure-level function with similar flexibility) or `histplot` (an axes-level function for histograms).\n",
      "  warnings.warn(msg, FutureWarning)\n",
      "C:\\Users\\kul.vannda\\Anaconda3\\lib\\site-packages\\seaborn\\distributions.py:2619: FutureWarning: `distplot` is a deprecated function and will be removed in a future version. Please adapt your code to use either `displot` (a figure-level function with similar flexibility) or `histplot` (an axes-level function for histograms).\n",
      "  warnings.warn(msg, FutureWarning)\n",
      "C:\\Users\\kul.vannda\\Anaconda3\\lib\\site-packages\\seaborn\\distributions.py:2619: FutureWarning: `distplot` is a deprecated function and will be removed in a future version. Please adapt your code to use either `displot` (a figure-level function with similar flexibility) or `histplot` (an axes-level function for histograms).\n",
      "  warnings.warn(msg, FutureWarning)\n"
     ]
    },
    {
     "data": {
      "image/png": "[encoded data removed]",
      "text/plain": [
       "<Figure size 1080x360 with 3 Axes>"
      ]
     },
     "metadata": {
      "needs_background": "light"
     },
     "output_type": "display_data"
    }
   ],
   "source": [
    "\n",
    "fig, axes = plt.subplots(1,3, figsize=(15,5))\n",
    "\n",
    "sns.distplot(df['RAM'], ax=axes[0])\n",
    "sns.distplot(df['HardDisk'], ax=axes[1])\n",
    "sns.distplot(df['Model No'], ax=axes[2])\n",
    "\n",
    "plt.tight_layout()\n",
    "plt.show()"
   ]
  },
  {
   "cell_type": "code",
   "execution_count": 586,
   "id": "de9e37d7-e2b7-41f9-b040-289e7844d0ed",
   "metadata": {},
   "outputs": [
    {
     "data": {
      "text/html": [
       "<div>\n",
       "<style scoped>\n",
       "    .dataframe tbody tr th:only-of-type {\n",
       "        vertical-align: middle;\n",
       "    }\n",
       "\n",
       "    .dataframe tbody tr th {\n",
       "        vertical-align: top;\n",
       "    }\n",
       "\n",
       "    .dataframe thead th {\n",
       "        text-align: right;\n",
       "    }\n",
       "</style>\n",
       "<table border=\"1\" class=\"dataframe\">\n",
       "  <thead>\n",
       "    <tr style=\"text-align: right;\">\n",
       "      <th></th>\n",
       "      <th>Price</th>\n",
       "      <th>RAM</th>\n",
       "      <th>HardDisk</th>\n",
       "      <th>Model No</th>\n",
       "    </tr>\n",
       "  </thead>\n",
       "  <tbody>\n",
       "    <tr>\n",
       "      <th>0</th>\n",
       "      <td>319.0</td>\n",
       "      <td>2.000000</td>\n",
       "      <td>16.000000</td>\n",
       "      <td>0.000000</td>\n",
       "    </tr>\n",
       "    <tr>\n",
       "      <th>1</th>\n",
       "      <td>379.0</td>\n",
       "      <td>2.828427</td>\n",
       "      <td>16.000000</td>\n",
       "      <td>0.000000</td>\n",
       "    </tr>\n",
       "    <tr>\n",
       "      <th>2</th>\n",
       "      <td>339.0</td>\n",
       "      <td>2.828427</td>\n",
       "      <td>22.627417</td>\n",
       "      <td>0.000000</td>\n",
       "    </tr>\n",
       "    <tr>\n",
       "      <th>3</th>\n",
       "      <td>399.0</td>\n",
       "      <td>2.828427</td>\n",
       "      <td>22.627417</td>\n",
       "      <td>0.000000</td>\n",
       "    </tr>\n",
       "    <tr>\n",
       "      <th>4</th>\n",
       "      <td>339.0</td>\n",
       "      <td>2.828427</td>\n",
       "      <td>16.000000</td>\n",
       "      <td>0.000000</td>\n",
       "    </tr>\n",
       "    <tr>\n",
       "      <th>...</th>\n",
       "      <td>...</td>\n",
       "      <td>...</td>\n",
       "      <td>...</td>\n",
       "      <td>...</td>\n",
       "    </tr>\n",
       "    <tr>\n",
       "      <th>401</th>\n",
       "      <td>499.0</td>\n",
       "      <td>2.000000</td>\n",
       "      <td>22.627417</td>\n",
       "      <td>4.358899</td>\n",
       "    </tr>\n",
       "    <tr>\n",
       "      <th>402</th>\n",
       "      <td>499.0</td>\n",
       "      <td>2.000000</td>\n",
       "      <td>22.627417</td>\n",
       "      <td>3.872983</td>\n",
       "    </tr>\n",
       "    <tr>\n",
       "      <th>403</th>\n",
       "      <td>769.0</td>\n",
       "      <td>2.828427</td>\n",
       "      <td>22.627417</td>\n",
       "      <td>3.000000</td>\n",
       "    </tr>\n",
       "    <tr>\n",
       "      <th>404</th>\n",
       "      <td>1639.0</td>\n",
       "      <td>4.000000</td>\n",
       "      <td>22.627417</td>\n",
       "      <td>3.162278</td>\n",
       "    </tr>\n",
       "    <tr>\n",
       "      <th>405</th>\n",
       "      <td>3469.0</td>\n",
       "      <td>5.656854</td>\n",
       "      <td>32.000000</td>\n",
       "      <td>3.162278</td>\n",
       "    </tr>\n",
       "  </tbody>\n",
       "</table>\n",
       "<p>406 rows × 4 columns</p>\n",
       "</div>"
      ],
      "text/plain": [
       "      Price       RAM   HardDisk  Model No\n",
       "0     319.0  2.000000  16.000000  0.000000\n",
       "1     379.0  2.828427  16.000000  0.000000\n",
       "2     339.0  2.828427  22.627417  0.000000\n",
       "3     399.0  2.828427  22.627417  0.000000\n",
       "4     339.0  2.828427  16.000000  0.000000\n",
       "..      ...       ...        ...       ...\n",
       "401   499.0  2.000000  22.627417  4.358899\n",
       "402   499.0  2.000000  22.627417  3.872983\n",
       "403   769.0  2.828427  22.627417  3.000000\n",
       "404  1639.0  4.000000  22.627417  3.162278\n",
       "405  3469.0  5.656854  32.000000  3.162278\n",
       "\n",
       "[406 rows x 4 columns]"
      ]
     },
     "execution_count": 586,
     "metadata": {},
     "output_type": "execute_result"
    }
   ],
   "source": [
    "df['RAM'] = np.sqrt(df['RAM'])\n",
    "df['HardDisk'] = np.sqrt(df['HardDisk'])\n",
    "df['Model No'] = np.sqrt(df['Model No'])\n",
    "df"
   ]
  },
  {
   "cell_type": "code",
   "execution_count": 587,
   "id": "03911931-a8a9-486e-8e29-2e2fded8f661",
   "metadata": {},
   "outputs": [
    {
     "name": "stderr",
     "output_type": "stream",
     "text": [
      "C:\\Users\\kul.vannda\\Anaconda3\\lib\\site-packages\\seaborn\\distributions.py:2619: FutureWarning: `distplot` is a deprecated function and will be removed in a future version. Please adapt your code to use either `displot` (a figure-level function with similar flexibility) or `histplot` (an axes-level function for histograms).\n",
      "  warnings.warn(msg, FutureWarning)\n",
      "C:\\Users\\kul.vannda\\Anaconda3\\lib\\site-packages\\seaborn\\distributions.py:2619: FutureWarning: `distplot` is a deprecated function and will be removed in a future version. Please adapt your code to use either `displot` (a figure-level function with similar flexibility) or `histplot` (an axes-level function for histograms).\n",
      "  warnings.warn(msg, FutureWarning)\n",
      "C:\\Users\\kul.vannda\\Anaconda3\\lib\\site-packages\\seaborn\\distributions.py:2619: FutureWarning: `distplot` is a deprecated function and will be removed in a future version. Please adapt your code to use either `displot` (a figure-level function with similar flexibility) or `histplot` (an axes-level function for histograms).\n",
      "  warnings.warn(msg, FutureWarning)\n"
     ]
    },
    {
     "data": {
      "image/png": "[encoded data removed]",
      "text/plain": [
       "<Figure size 1080x360 with 3 Axes>"
      ]
     },
     "metadata": {
      "needs_background": "light"
     },
     "output_type": "display_data"
    }
   ],
   "source": [
    "fig, axes = plt.subplots(1,3, figsize=(15,5))\n",
    "\n",
    "sns.distplot(df['RAM'], ax=axes[0])\n",
    "sns.distplot(df['HardDisk'], ax=axes[1])\n",
    "sns.distplot(df['Model No'], ax=axes[2])\n",
    "\n",
    "plt.tight_layout()\n",
    "plt.show()"
   ]
  },
  {
   "cell_type": "code",
   "execution_count": 588,
   "id": "f9208b44-4d3a-4be4-95a0-99903ae5a659",
   "metadata": {},
   "outputs": [
    {
     "data": {
      "text/html": [
       "<div>\n",
       "<style scoped>\n",
       "    .dataframe tbody tr th:only-of-type {\n",
       "        vertical-align: middle;\n",
       "    }\n",
       "\n",
       "    .dataframe tbody tr th {\n",
       "        vertical-align: top;\n",
       "    }\n",
       "\n",
       "    .dataframe thead th {\n",
       "        text-align: right;\n",
       "    }\n",
       "</style>\n",
       "<table border=\"1\" class=\"dataframe\">\n",
       "  <thead>\n",
       "    <tr style=\"text-align: right;\">\n",
       "      <th></th>\n",
       "      <th>Price</th>\n",
       "      <th>RAM</th>\n",
       "      <th>HardDisk</th>\n",
       "      <th>Model No</th>\n",
       "    </tr>\n",
       "  </thead>\n",
       "  <tbody>\n",
       "    <tr>\n",
       "      <th>count</th>\n",
       "      <td>406.000000</td>\n",
       "      <td>406.000000</td>\n",
       "      <td>406.000000</td>\n",
       "      <td>406.000000</td>\n",
       "    </tr>\n",
       "    <tr>\n",
       "      <th>mean</th>\n",
       "      <td>1316.588670</td>\n",
       "      <td>3.548628</td>\n",
       "      <td>24.552294</td>\n",
       "      <td>2.471593</td>\n",
       "    </tr>\n",
       "    <tr>\n",
       "      <th>std</th>\n",
       "      <td>834.645016</td>\n",
       "      <td>1.109263</td>\n",
       "      <td>7.476063</td>\n",
       "      <td>1.094136</td>\n",
       "    </tr>\n",
       "    <tr>\n",
       "      <th>min</th>\n",
       "      <td>279.000000</td>\n",
       "      <td>0.000000</td>\n",
       "      <td>0.000000</td>\n",
       "      <td>0.000000</td>\n",
       "    </tr>\n",
       "    <tr>\n",
       "      <th>25%</th>\n",
       "      <td>739.000000</td>\n",
       "      <td>2.828427</td>\n",
       "      <td>22.627417</td>\n",
       "      <td>1.732051</td>\n",
       "    </tr>\n",
       "    <tr>\n",
       "      <th>50%</th>\n",
       "      <td>1054.000000</td>\n",
       "      <td>4.000000</td>\n",
       "      <td>22.627417</td>\n",
       "      <td>2.236068</td>\n",
       "    </tr>\n",
       "    <tr>\n",
       "      <th>75%</th>\n",
       "      <td>1654.000000</td>\n",
       "      <td>4.000000</td>\n",
       "      <td>32.000000</td>\n",
       "      <td>3.464102</td>\n",
       "    </tr>\n",
       "    <tr>\n",
       "      <th>max</th>\n",
       "      <td>5699.000000</td>\n",
       "      <td>8.000000</td>\n",
       "      <td>64.000000</td>\n",
       "      <td>4.358899</td>\n",
       "    </tr>\n",
       "  </tbody>\n",
       "</table>\n",
       "</div>"
      ],
      "text/plain": [
       "             Price         RAM    HardDisk    Model No\n",
       "count   406.000000  406.000000  406.000000  406.000000\n",
       "mean   1316.588670    3.548628   24.552294    2.471593\n",
       "std     834.645016    1.109263    7.476063    1.094136\n",
       "min     279.000000    0.000000    0.000000    0.000000\n",
       "25%     739.000000    2.828427   22.627417    1.732051\n",
       "50%    1054.000000    4.000000   22.627417    2.236068\n",
       "75%    1654.000000    4.000000   32.000000    3.464102\n",
       "max    5699.000000    8.000000   64.000000    4.358899"
      ]
     },
     "execution_count": 588,
     "metadata": {},
     "output_type": "execute_result"
    }
   ],
   "source": [
    "df.describe()"
   ]
  },
  {
   "cell_type": "markdown",
   "id": "557cab9e-6ba8-48ae-9019-e6e6f2756215",
   "metadata": {},
   "source": []
  },
  {
   "cell_type": "code",
   "execution_count": 589,
   "id": "3b2cf3d5-ebe1-4413-a6f7-939c44c9e6e9",
   "metadata": {},
   "outputs": [
    {
     "data": {
      "image/png": "[encoded data removed]",
      "text/plain": [
       "<Figure size 720x720 with 20 Axes>"
      ]
     },
     "metadata": {
      "needs_background": "light"
     },
     "output_type": "display_data"
    }
   ],
   "source": [
    "sns.pairplot(df, kind='reg');"
   ]
  },
  {
   "cell_type": "code",
   "execution_count": 590,
   "id": "de0381ba-2db3-4912-88f9-c18596a22531",
   "metadata": {},
   "outputs": [
    {
     "data": {
      "text/plain": [
       "<AxesSubplot:>"
      ]
     },
     "execution_count": 590,
     "metadata": {},
     "output_type": "execute_result"
    },
    {
     "data": {
      "image/png": "[encoded data removed]",
      "text/plain": [
       "<Figure size 432x288 with 2 Axes>"
      ]
     },
     "metadata": {
      "needs_background": "light"
     },
     "output_type": "display_data"
    }
   ],
   "source": [
    "sns.heatmap(df.corr(), annot=True, fmt='.2f', linewidths=2)"
   ]
  },
  {
   "cell_type": "markdown",
   "id": "ea47880e-0244-4dee-bf15-7f79d27f9771",
   "metadata": {},
   "source": []
  },
  {
   "cell_type": "code",
   "execution_count": 591,
   "id": "89503085-ed44-4e98-ad2c-885fff0a3b36",
   "metadata": {},
   "outputs": [],
   "source": [
    "##scaler = StandardScaler() # create a new StandardScaler object\n",
    "##df[['RAM', 'HardDisk', 'Model No']] = scaler.fit_transform(df[['RAM', 'HardDisk', 'Model No']])"
   ]
  },
  {
   "cell_type": "code",
   "execution_count": 592,
   "id": "350214d9-d16f-472d-9d44-1ffffe10aeac",
   "metadata": {},
   "outputs": [
    {
     "data": {
      "text/html": [
       "<div>\n",
       "<style scoped>\n",
       "    .dataframe tbody tr th:only-of-type {\n",
       "        vertical-align: middle;\n",
       "    }\n",
       "\n",
       "    .dataframe tbody tr th {\n",
       "        vertical-align: top;\n",
       "    }\n",
       "\n",
       "    .dataframe thead th {\n",
       "        text-align: right;\n",
       "    }\n",
       "</style>\n",
       "<table border=\"1\" class=\"dataframe\">\n",
       "  <thead>\n",
       "    <tr style=\"text-align: right;\">\n",
       "      <th></th>\n",
       "      <th>Price</th>\n",
       "      <th>RAM</th>\n",
       "      <th>HardDisk</th>\n",
       "      <th>Model No</th>\n",
       "    </tr>\n",
       "  </thead>\n",
       "  <tbody>\n",
       "    <tr>\n",
       "      <th>0</th>\n",
       "      <td>319.0</td>\n",
       "      <td>2.000000</td>\n",
       "      <td>16.000000</td>\n",
       "      <td>0.000000</td>\n",
       "    </tr>\n",
       "    <tr>\n",
       "      <th>1</th>\n",
       "      <td>379.0</td>\n",
       "      <td>2.828427</td>\n",
       "      <td>16.000000</td>\n",
       "      <td>0.000000</td>\n",
       "    </tr>\n",
       "    <tr>\n",
       "      <th>2</th>\n",
       "      <td>339.0</td>\n",
       "      <td>2.828427</td>\n",
       "      <td>22.627417</td>\n",
       "      <td>0.000000</td>\n",
       "    </tr>\n",
       "    <tr>\n",
       "      <th>3</th>\n",
       "      <td>399.0</td>\n",
       "      <td>2.828427</td>\n",
       "      <td>22.627417</td>\n",
       "      <td>0.000000</td>\n",
       "    </tr>\n",
       "    <tr>\n",
       "      <th>4</th>\n",
       "      <td>339.0</td>\n",
       "      <td>2.828427</td>\n",
       "      <td>16.000000</td>\n",
       "      <td>0.000000</td>\n",
       "    </tr>\n",
       "    <tr>\n",
       "      <th>...</th>\n",
       "      <td>...</td>\n",
       "      <td>...</td>\n",
       "      <td>...</td>\n",
       "      <td>...</td>\n",
       "    </tr>\n",
       "    <tr>\n",
       "      <th>401</th>\n",
       "      <td>499.0</td>\n",
       "      <td>2.000000</td>\n",
       "      <td>22.627417</td>\n",
       "      <td>4.358899</td>\n",
       "    </tr>\n",
       "    <tr>\n",
       "      <th>402</th>\n",
       "      <td>499.0</td>\n",
       "      <td>2.000000</td>\n",
       "      <td>22.627417</td>\n",
       "      <td>3.872983</td>\n",
       "    </tr>\n",
       "    <tr>\n",
       "      <th>403</th>\n",
       "      <td>769.0</td>\n",
       "      <td>2.828427</td>\n",
       "      <td>22.627417</td>\n",
       "      <td>3.000000</td>\n",
       "    </tr>\n",
       "    <tr>\n",
       "      <th>404</th>\n",
       "      <td>1639.0</td>\n",
       "      <td>4.000000</td>\n",
       "      <td>22.627417</td>\n",
       "      <td>3.162278</td>\n",
       "    </tr>\n",
       "    <tr>\n",
       "      <th>405</th>\n",
       "      <td>3469.0</td>\n",
       "      <td>5.656854</td>\n",
       "      <td>32.000000</td>\n",
       "      <td>3.162278</td>\n",
       "    </tr>\n",
       "  </tbody>\n",
       "</table>\n",
       "<p>406 rows × 4 columns</p>\n",
       "</div>"
      ],
      "text/plain": [
       "      Price       RAM   HardDisk  Model No\n",
       "0     319.0  2.000000  16.000000  0.000000\n",
       "1     379.0  2.828427  16.000000  0.000000\n",
       "2     339.0  2.828427  22.627417  0.000000\n",
       "3     399.0  2.828427  22.627417  0.000000\n",
       "4     339.0  2.828427  16.000000  0.000000\n",
       "..      ...       ...        ...       ...\n",
       "401   499.0  2.000000  22.627417  4.358899\n",
       "402   499.0  2.000000  22.627417  3.872983\n",
       "403   769.0  2.828427  22.627417  3.000000\n",
       "404  1639.0  4.000000  22.627417  3.162278\n",
       "405  3469.0  5.656854  32.000000  3.162278\n",
       "\n",
       "[406 rows x 4 columns]"
      ]
     },
     "execution_count": 592,
     "metadata": {},
     "output_type": "execute_result"
    }
   ],
   "source": [
    "df"
   ]
  },
  {
   "cell_type": "code",
   "execution_count": 593,
   "id": "e5c308f4-c95f-43d1-8376-0e55fd7843c8",
   "metadata": {},
   "outputs": [
    {
     "data": {
      "text/html": [
       "<div>\n",
       "<style scoped>\n",
       "    .dataframe tbody tr th:only-of-type {\n",
       "        vertical-align: middle;\n",
       "    }\n",
       "\n",
       "    .dataframe tbody tr th {\n",
       "        vertical-align: top;\n",
       "    }\n",
       "\n",
       "    .dataframe thead th {\n",
       "        text-align: right;\n",
       "    }\n",
       "</style>\n",
       "<table border=\"1\" class=\"dataframe\">\n",
       "  <thead>\n",
       "    <tr style=\"text-align: right;\">\n",
       "      <th></th>\n",
       "      <th>Price</th>\n",
       "      <th>RAM</th>\n",
       "      <th>HardDisk</th>\n",
       "      <th>Model No</th>\n",
       "    </tr>\n",
       "  </thead>\n",
       "  <tbody>\n",
       "    <tr>\n",
       "      <th>count</th>\n",
       "      <td>406.000000</td>\n",
       "      <td>406.000000</td>\n",
       "      <td>406.000000</td>\n",
       "      <td>406.000000</td>\n",
       "    </tr>\n",
       "    <tr>\n",
       "      <th>mean</th>\n",
       "      <td>1316.588670</td>\n",
       "      <td>3.548628</td>\n",
       "      <td>24.552294</td>\n",
       "      <td>2.471593</td>\n",
       "    </tr>\n",
       "    <tr>\n",
       "      <th>std</th>\n",
       "      <td>834.645016</td>\n",
       "      <td>1.109263</td>\n",
       "      <td>7.476063</td>\n",
       "      <td>1.094136</td>\n",
       "    </tr>\n",
       "    <tr>\n",
       "      <th>min</th>\n",
       "      <td>279.000000</td>\n",
       "      <td>0.000000</td>\n",
       "      <td>0.000000</td>\n",
       "      <td>0.000000</td>\n",
       "    </tr>\n",
       "    <tr>\n",
       "      <th>25%</th>\n",
       "      <td>739.000000</td>\n",
       "      <td>2.828427</td>\n",
       "      <td>22.627417</td>\n",
       "      <td>1.732051</td>\n",
       "    </tr>\n",
       "    <tr>\n",
       "      <th>50%</th>\n",
       "      <td>1054.000000</td>\n",
       "      <td>4.000000</td>\n",
       "      <td>22.627417</td>\n",
       "      <td>2.236068</td>\n",
       "    </tr>\n",
       "    <tr>\n",
       "      <th>75%</th>\n",
       "      <td>1654.000000</td>\n",
       "      <td>4.000000</td>\n",
       "      <td>32.000000</td>\n",
       "      <td>3.464102</td>\n",
       "    </tr>\n",
       "    <tr>\n",
       "      <th>max</th>\n",
       "      <td>5699.000000</td>\n",
       "      <td>8.000000</td>\n",
       "      <td>64.000000</td>\n",
       "      <td>4.358899</td>\n",
       "    </tr>\n",
       "  </tbody>\n",
       "</table>\n",
       "</div>"
      ],
      "text/plain": [
       "             Price         RAM    HardDisk    Model No\n",
       "count   406.000000  406.000000  406.000000  406.000000\n",
       "mean   1316.588670    3.548628   24.552294    2.471593\n",
       "std     834.645016    1.109263    7.476063    1.094136\n",
       "min     279.000000    0.000000    0.000000    0.000000\n",
       "25%     739.000000    2.828427   22.627417    1.732051\n",
       "50%    1054.000000    4.000000   22.627417    2.236068\n",
       "75%    1654.000000    4.000000   32.000000    3.464102\n",
       "max    5699.000000    8.000000   64.000000    4.358899"
      ]
     },
     "execution_count": 593,
     "metadata": {},
     "output_type": "execute_result"
    }
   ],
   "source": [
    "df.describe()"
   ]
  },
  {
   "cell_type": "markdown",
   "id": "923b8c4b-c76e-4da8-988b-6d1909d337bf",
   "metadata": {},
   "source": [
    "### 6.Train and Test data"
   ]
  },
  {
   "cell_type": "code",
   "execution_count": 594,
   "id": "1218ace0-48a8-4dc4-9efd-fb7149dd1ef3",
   "metadata": {},
   "outputs": [],
   "source": [
    "from sklearn.model_selection import train_test_split"
   ]
  },
  {
   "cell_type": "code",
   "execution_count": 595,
   "id": "100d00aa-c93e-44af-8dcc-efee759665d8",
   "metadata": {},
   "outputs": [],
   "source": [
    "## Splitting for X independent and Y as target variables:\n",
    "\n",
    "Y = df['Price']\n",
    "X = df.drop('Price', axis=1)"
   ]
  },
  {
   "cell_type": "code",
   "execution_count": 596,
   "id": "ce187307-1c67-4eba-930d-1f99adf6e807",
   "metadata": {},
   "outputs": [
    {
     "data": {
      "text/html": [
       "<div>\n",
       "<style scoped>\n",
       "    .dataframe tbody tr th:only-of-type {\n",
       "        vertical-align: middle;\n",
       "    }\n",
       "\n",
       "    .dataframe tbody tr th {\n",
       "        vertical-align: top;\n",
       "    }\n",
       "\n",
       "    .dataframe thead th {\n",
       "        text-align: right;\n",
       "    }\n",
       "</style>\n",
       "<table border=\"1\" class=\"dataframe\">\n",
       "  <thead>\n",
       "    <tr style=\"text-align: right;\">\n",
       "      <th></th>\n",
       "      <th>RAM</th>\n",
       "      <th>HardDisk</th>\n",
       "      <th>Model No</th>\n",
       "    </tr>\n",
       "  </thead>\n",
       "  <tbody>\n",
       "    <tr>\n",
       "      <th>0</th>\n",
       "      <td>2.000000</td>\n",
       "      <td>16.000000</td>\n",
       "      <td>0.0</td>\n",
       "    </tr>\n",
       "    <tr>\n",
       "      <th>1</th>\n",
       "      <td>2.828427</td>\n",
       "      <td>16.000000</td>\n",
       "      <td>0.0</td>\n",
       "    </tr>\n",
       "    <tr>\n",
       "      <th>2</th>\n",
       "      <td>2.828427</td>\n",
       "      <td>22.627417</td>\n",
       "      <td>0.0</td>\n",
       "    </tr>\n",
       "    <tr>\n",
       "      <th>3</th>\n",
       "      <td>2.828427</td>\n",
       "      <td>22.627417</td>\n",
       "      <td>0.0</td>\n",
       "    </tr>\n",
       "    <tr>\n",
       "      <th>4</th>\n",
       "      <td>2.828427</td>\n",
       "      <td>16.000000</td>\n",
       "      <td>0.0</td>\n",
       "    </tr>\n",
       "  </tbody>\n",
       "</table>\n",
       "</div>"
      ],
      "text/plain": [
       "        RAM   HardDisk  Model No\n",
       "0  2.000000  16.000000       0.0\n",
       "1  2.828427  16.000000       0.0\n",
       "2  2.828427  22.627417       0.0\n",
       "3  2.828427  22.627417       0.0\n",
       "4  2.828427  16.000000       0.0"
      ]
     },
     "execution_count": 596,
     "metadata": {},
     "output_type": "execute_result"
    }
   ],
   "source": [
    "X.head()"
   ]
  },
  {
   "cell_type": "code",
   "execution_count": 597,
   "id": "e1a4fe9d-67d8-4209-a7e7-7cb2fe9eeaa9",
   "metadata": {},
   "outputs": [
    {
     "data": {
      "text/plain": [
       "0    319.0\n",
       "1    379.0\n",
       "2    339.0\n",
       "3    399.0\n",
       "4    339.0\n",
       "Name: Price, dtype: float64"
      ]
     },
     "execution_count": 597,
     "metadata": {},
     "output_type": "execute_result"
    }
   ],
   "source": [
    "Y.head()"
   ]
  },
  {
   "cell_type": "code",
   "execution_count": 598,
   "id": "02f42396-a094-4486-bff9-540266a719c3",
   "metadata": {},
   "outputs": [],
   "source": [
    "import pandas as pd\n",
    "from sklearn.linear_model import LinearRegression\n",
    "from sklearn.model_selection import train_test_split\n",
    "\n",
    "\n",
    "X_train, X_test, Y_train, Y_test = train_test_split(X, Y, test_size=0.3, random_state=0)\n",
    "\n",
    "# Step 3: Fit the model using the training set\n",
    "model = LinearRegression()\n",
    "model.fit(X_train, Y_train)\n",
    "\n",
    "# Step 4: Use the model to make predictions on the testing set\n",
    "Y_pred = model.predict(X_test)\n",
    "\n"
   ]
  },
  {
   "cell_type": "code",
   "execution_count": 599,
   "id": "ce4bf27b-8f7e-4498-9fa4-c8df485c3eab",
   "metadata": {},
   "outputs": [
    {
     "name": "stdout",
     "output_type": "stream",
     "text": [
      "Coefficients:  [437.63292358  32.76490672  22.30125343]\n",
      "Intercept:  -1074.8884522847468\n"
     ]
    }
   ],
   "source": [
    "print ('Coefficients: ', model.coef_)\n",
    "print ('Intercept: ',model.intercept_)\n",
    "#ADD CODE"
   ]
  },
  {
   "cell_type": "code",
   "execution_count": 600,
   "id": "375efb48-5034-42ee-9154-ee5653045d89",
   "metadata": {},
   "outputs": [
    {
     "name": "stdout",
     "output_type": "stream",
     "text": [
      "R-Squared: 0.6763822718728569\n",
      "MSE: 197065.4144353994\n",
      "MAE: 335.279438022899\n"
     ]
    }
   ],
   "source": [
    "# Step 5: Evaluate the model\n",
    "from sklearn.metrics import r2_score, mean_squared_error, mean_absolute_error\n",
    "print(f\"R-Squared: {r2_score(Y_test, Y_pred)}\")\n",
    "print(f\"MSE: {mean_squared_error(Y_test, Y_pred)}\")\n",
    "print(f\"MAE: {mean_absolute_error(Y_test, Y_pred)}\")\n"
   ]
  },
  {
   "cell_type": "code",
   "execution_count": 616,
   "id": "aba92726-11d0-4293-9212-2f4ba5e326ea",
   "metadata": {},
   "outputs": [],
   "source": [
    "data = [[8, 512,0]]"
   ]
  },
  {
   "cell_type": "code",
   "execution_count": 617,
   "id": "8fd3ea53-5868-4736-bcf1-86112455ef43",
   "metadata": {},
   "outputs": [],
   "source": [
    "new_x = pd.DataFrame(data, columns=['RAM', 'HardDisk', 'Model No'])"
   ]
  },
  {
   "cell_type": "code",
   "execution_count": 618,
   "id": "df46a4e9-a7bc-42dc-acfe-b059ac751851",
   "metadata": {},
   "outputs": [],
   "source": [
    "new_x['RAM'] = np.sqrt(new_x['RAM'])\n",
    "new_x['HardDisk'] = np.sqrt(new_x['HardDisk'])\n",
    "new_x['Model No'] = np.sqrt(new_x['Model No'])"
   ]
  },
  {
   "cell_type": "code",
   "execution_count": 619,
   "id": "f36cca98-5c9a-4459-b84b-477651d5e4eb",
   "metadata": {},
   "outputs": [
    {
     "data": {
      "text/html": [
       "<div>\n",
       "<style scoped>\n",
       "    .dataframe tbody tr th:only-of-type {\n",
       "        vertical-align: middle;\n",
       "    }\n",
       "\n",
       "    .dataframe tbody tr th {\n",
       "        vertical-align: top;\n",
       "    }\n",
       "\n",
       "    .dataframe thead th {\n",
       "        text-align: right;\n",
       "    }\n",
       "</style>\n",
       "<table border=\"1\" class=\"dataframe\">\n",
       "  <thead>\n",
       "    <tr style=\"text-align: right;\">\n",
       "      <th></th>\n",
       "      <th>RAM</th>\n",
       "      <th>HardDisk</th>\n",
       "      <th>Model No</th>\n",
       "    </tr>\n",
       "  </thead>\n",
       "  <tbody>\n",
       "    <tr>\n",
       "      <th>0</th>\n",
       "      <td>2.828427</td>\n",
       "      <td>22.627417</td>\n",
       "      <td>0.0</td>\n",
       "    </tr>\n",
       "  </tbody>\n",
       "</table>\n",
       "</div>"
      ],
      "text/plain": [
       "        RAM   HardDisk  Model No\n",
       "0  2.828427  22.627417       0.0"
      ]
     },
     "execution_count": 619,
     "metadata": {},
     "output_type": "execute_result"
    }
   ],
   "source": [
    "\n",
    "#scaler = StandardScaler() # create a new StandardScaler object\n",
    "#new_x[['RAM', 'HardDisk', 'Model No']] = scaler.fit_transform(new_x[['RAM', 'HardDisk', 'Model No']])\n",
    "new_x"
   ]
  },
  {
   "cell_type": "code",
   "execution_count": 620,
   "id": "8786bfe9-b38a-411c-af74-966f8bdc01b5",
   "metadata": {},
   "outputs": [
    {
     "data": {
      "text/plain": [
       "array([904.30958676])"
      ]
     },
     "execution_count": 620,
     "metadata": {},
     "output_type": "execute_result"
    }
   ],
   "source": [
    "test = model.predict(new_x)\n",
    "test"
   ]
  },
  {
   "cell_type": "code",
   "execution_count": null,
   "id": "a02e00d5-25c7-42cb-a6cb-d55cdeeb170c",
   "metadata": {},
   "outputs": [],
   "source": []
  },
  {
   "cell_type": "code",
   "execution_count": null,
   "id": "9241de32-fdea-4d85-8bef-e72c6500d634",
   "metadata": {},
   "outputs": [],
   "source": []
  }
 ],
 "metadata": {
  "kernelspec": {
   "display_name": "Python 3 (ipykernel)",
   "language": "python",
   "name": "python3"
  },
  "language_info": {
   "codemirror_mode": {
    "name": "ipython",
    "version": 3
   },
   "file_extension": ".py",
   "mimetype": "text/x-python",
   "name": "python",
   "nbconvert_exporter": "python",
   "pygments_lexer": "ipython3",
   "version": "3.9.12"
  }
 },
 "nbformat": 4,
 "nbformat_minor": 5
}
