{
 "cells": [
  {
   "cell_type": "code",
   "execution_count": 1,
   "id": "75855564-7d7c-492c-b9bd-e4f8c6be2d73",
   "metadata": {
    "tags": []
   },
   "outputs": [],
   "source": [
    "import requests\n",
    "from bs4 import BeautifulSoup\n",
    "import csv"
   ]
  },
  {
   "cell_type": "code",
   "execution_count": 2,
   "id": "e357bcb8-40cd-4ce9-b769-f4966fbeb2d7",
   "metadata": {
    "tags": []
   },
   "outputs": [],
   "source": [
    "# job url website\n",
    "url = 'https://www.myworld-careers.com/jobs?page='"
   ]
  },
  {
   "cell_type": "code",
   "execution_count": 3,
   "id": "ee850adf-a29b-43b7-a326-d2b05de12e12",
   "metadata": {},
   "outputs": [
    {
     "name": "stdout",
     "output_type": "stream",
     "text": [
      "page \t: 1\n",
      "job \t: 20\n",
      "URL \t: https://www.myworld-careers.com/jobs?page=1\n",
      "----------\n",
      "page \t: 2\n",
      "job \t: 20\n",
      "URL \t: https://www.myworld-careers.com/jobs?page=2\n",
      "----------\n",
      "page \t: 3\n",
      "job \t: 20\n",
      "URL \t: https://www.myworld-careers.com/jobs?page=3\n",
      "----------\n",
      "page \t: 4\n",
      "job \t: 20\n",
      "URL \t: https://www.myworld-careers.com/jobs?page=4\n",
      "----------\n",
      "page \t: 5\n",
      "job \t: 20\n",
      "URL \t: https://www.myworld-careers.com/jobs?page=5\n",
      "----------\n",
      "page \t: 6\n",
      "job \t: 20\n",
      "URL \t: https://www.myworld-careers.com/jobs?page=6\n",
      "----------\n",
      "page \t: 7\n",
      "job \t: 20\n",
      "URL \t: https://www.myworld-careers.com/jobs?page=7\n",
      "----------\n",
      "page \t: 8\n",
      "job \t: 20\n",
      "URL \t: https://www.myworld-careers.com/jobs?page=8\n",
      "----------\n",
      "page \t: 9\n",
      "job \t: 8\n",
      "URL \t: https://www.myworld-careers.com/jobs?page=9\n",
      "----------\n"
     ]
    }
   ],
   "source": [
    "# init empty list of job\n",
    "jobs = []\n",
    "# starting page\n",
    "page = 1\n",
    "while(True):\n",
    "#     format url with page\n",
    "    page_url = str.format('{}{}', url, page)\n",
    "#     scraping content from website\n",
    "    response = requests.get(page_url)\n",
    "#     convert content to BeautifulSoup \n",
    "    soup = BeautifulSoup(response.text, 'html.parser')\n",
    "#     get all job in current page\n",
    "    job_list = soup.findChildren('li',attrs = {'class', 'job-result-item'})\n",
    "#     check if page have job or not\n",
    "    if(len(job_list) == 0):\n",
    "#         finish loop\n",
    "        break\n",
    "    for job in job_list:\n",
    "#         init empy job item \n",
    "        item_job = {}\n",
    "        item_job['job_title'] = job.a.text\n",
    "        item_job['job_salary'] = job.find_all('li')[1].text\n",
    "        item_job['job_location'] = job.li.text\n",
    "        item_job['job_description'] = job.p.text\n",
    "        jobs.append(item_job)\n",
    "    print('page \\t:', page)\n",
    "    print('job \\t:', len(job_list))\n",
    "    print('URL \\t:', page_url)\n",
    "    print('----------')\n",
    "#     increase page \n",
    "    page += 1"
   ]
  },
  {
   "cell_type": "code",
   "execution_count": 5,
   "id": "b9b29055-e735-4038-be09-3489e9c318b5",
   "metadata": {
    "tags": []
   },
   "outputs": [],
   "source": [
    "# row header\n",
    "header = ['Job Title','Salary', 'Job Location', 'Job Description']\n",
    "with open('myworld-careers-jobs.csv', 'w', encoding='UTF8', newline='') as f:\n",
    "    writer = csv.writer(f)\n",
    "    # write the header\n",
    "    writer.writerow(header)\n",
    "    # write the data\n",
    "    for job in jobs:\n",
    "        data = [job['job_title'],job['job_salary'],job['job_location'],job['job_description']]\n",
    "        writer.writerow(data)\n"
   ]
  },
  {
   "cell_type": "code",
   "execution_count": null,
   "id": "d8385af9-3a0f-4ee2-9622-3c2477eced4e",
   "metadata": {},
   "outputs": [],
   "source": []
  },
  {
   "cell_type": "code",
   "execution_count": null,
   "id": "3b3bb7bc-be1a-4464-9bbf-20081bca3906",
   "metadata": {},
   "outputs": [],
   "source": []
  }
 ],
 "metadata": {
  "kernelspec": {
   "display_name": "Python 3 (ipykernel)",
   "language": "python",
   "name": "python3"
  },
  "language_info": {
   "codemirror_mode": {
    "name": "ipython",
    "version": 3
   },
   "file_extension": ".py",
   "mimetype": "text/x-python",
   "name": "python",
   "nbconvert_exporter": "python",
   "pygments_lexer": "ipython3",
   "version": "3.11.3"
  }
 },
 "nbformat": 4,
 "nbformat_minor": 5
}
