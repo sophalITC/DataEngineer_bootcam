{
 "cells": [
  {
   "cell_type": "markdown",
   "id": "f073cd6a",
   "metadata": {},
   "source": [
    "###  Phone Number Extractor from Text:\n",
    "         Objective: Write a Python script that extracts all phone numbers from a given text using regular expressions.\n",
    "\n",
    "         a. Identify the patterns of phone numbers you want to match (there can be many, depending on the country and format).\n",
    "         b. Write a regular expression that matches these patterns.\n",
    "         c. Implement a function that searches the input text for these patterns and returns the matches."
   ]
  },
  {
   "cell_type": "code",
   "execution_count": 52,
   "id": "0c82bf5e",
   "metadata": {},
   "outputs": [],
   "source": [
    "# ** Library Section **\n",
    "\n",
    "import re\n",
    "import json"
   ]
  },
  {
   "cell_type": "code",
   "execution_count": 53,
   "id": "28eb41d5",
   "metadata": {},
   "outputs": [],
   "source": [
    "# **** Define Function Block ****\n",
    "\n",
    "def sortArrDesc(arr):\n",
    "    for i in range(0, len(arr)):    \n",
    "        for j in range(i+1, len(arr)):    \n",
    "            if(arr[i] < arr[j]):    \n",
    "                temp = arr[i];\n",
    "                arr[i] = arr[j];    \n",
    "                arr[j] = temp;\n",
    "    return arr"
   ]
  },
  {
   "cell_type": "code",
   "execution_count": 54,
   "id": "b239a3cf-67b8-4e06-aa30-262f2159a23d",
   "metadata": {},
   "outputs": [],
   "source": [
    "# ** Data Transform Section **\n",
    "\n",
    "# Open file\n",
    "file = open(\"context.txt\",\"r\")\n",
    "\n",
    "# **** Read data to varaiable ****\n",
    "text = file.read()\n",
    "\n",
    "# **** Output original context ****\n",
    "text\n",
    "\n",
    "# **** Replace all space to blank ****\n",
    "\n",
    "text = text.replace(\" \", \"\")\n"
   ]
  },
  {
   "cell_type": "markdown",
   "id": "82f0889d",
   "metadata": {},
   "source": [
    "***\n",
    "### Pattern\n",
    "<span style=\"color:crimson\">contry_cod\\\\d{length}</span>"
   ]
  },
  {
   "cell_type": "code",
   "execution_count": 55,
   "id": "db3aecd9",
   "metadata": {},
   "outputs": [],
   "source": [
    "# **** Opening JSON file ****\n",
    "\n",
    "user_file = open('CountriesPhone.txt', \"r\")\n",
    "jsonObj = json.loads(user_file.read())\n",
    "\n",
    "pattern = \"\";\n",
    "for x in jsonObj:\n",
    "    if isinstance(x['Length'], list):\n",
    "        length = sortArrDesc(x['Length'])\n",
    "        for i in length:\n",
    "            pattern += str(x['phone'])+\"\\d{\" + str(i) + \"}|\"\n",
    "    else:\n",
    "        pattern += str(x['phone'])+\"\\d{\" + str(x['Length']) + \"}|\"\n",
    "        \n",
    "pattern = re.sub('\\|$', '', pattern)"
   ]
  },
  {
   "cell_type": "code",
   "execution_count": 56,
   "id": "ac839080-41d5-482a-858e-1a6e10c8538b",
   "metadata": {},
   "outputs": [
    {
     "data": {
      "text/plain": [
       "['8550965494745', '855089224233', '8613910998888']"
      ]
     },
     "execution_count": 56,
     "metadata": {},
     "output_type": "execute_result"
    }
   ],
   "source": [
    "# **** Find content match with pattern ****\n",
    "\n",
    "phoneNumereLists = re.findall(pattern, text)\n",
    "\n",
    "\n",
    "# **** Output if data matched with the pattern ****\n",
    "\n",
    "phoneNumereLists"
   ]
  },
  {
   "cell_type": "code",
   "execution_count": 57,
   "id": "b4a1f535",
   "metadata": {},
   "outputs": [
    {
     "name": "stdout",
     "output_type": "stream",
     "text": [
      "[{'China': '8613910998888'}, {'Cambodia': '8550965494745'}, {'Cambodia': '855089224233'}]\n"
     ]
    }
   ],
   "source": [
    "pattern = \"\";\n",
    "phoneBycon = [];\n",
    "for x in jsonObj:\n",
    "    pattern = \"\";\n",
    "    if isinstance(x['Length'], list):\n",
    "        length = sortArrDesc(x['Length'])\n",
    "        for i in length:\n",
    "            pattern += str(x['phone'])+\"\\d{\" + str(i) + \"}|\"\n",
    "        pattern = re.sub('\\|$', '', pattern)\n",
    "        for a in arr:\n",
    "            matched =re.match(pattern,a)\n",
    "            if(matched):\n",
    "                phoneBycon.append({x['label']: a})\n",
    "    else:\n",
    "        pattern = str(x['phone'])+\"\\d{\" + str(x['Length']) + \"}|\"\n",
    "        pattern = re.sub('\\|$', '', pattern)\n",
    "        for a in arr:\n",
    "            matched =re.match(pattern,a)\n",
    "            if(matched):\n",
    "                phoneBycon.append({x['label']: a})\n",
    "print (phoneBycon)"
   ]
  },
  {
   "cell_type": "code",
   "execution_count": null,
   "id": "170260ad",
   "metadata": {},
   "outputs": [],
   "source": []
  }
 ],
 "metadata": {
  "kernelspec": {
   "display_name": "Python 3 (ipykernel)",
   "language": "python",
   "name": "python3"
  },
  "language_info": {
   "codemirror_mode": {
    "name": "ipython",
    "version": 3
   },
   "file_extension": ".py",
   "mimetype": "text/x-python",
   "name": "python",
   "nbconvert_exporter": "python",
   "pygments_lexer": "ipython3",
   "version": "3.10.9"
  }
 },
 "nbformat": 4,
 "nbformat_minor": 5
}
