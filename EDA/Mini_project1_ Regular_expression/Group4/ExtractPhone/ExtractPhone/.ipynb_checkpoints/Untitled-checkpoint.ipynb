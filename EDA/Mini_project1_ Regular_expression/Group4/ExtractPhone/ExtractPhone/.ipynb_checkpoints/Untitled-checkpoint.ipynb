{
 "cells": [
  {
   "cell_type": "code",
   "execution_count": 6,
   "id": "72fa2e47",
   "metadata": {},
   "outputs": [
    {
     "name": "stdout",
     "output_type": "stream",
     "text": [
      "Enter value of fact: 8\n",
      "40320\n"
     ]
    }
   ],
   "source": [
    "value = int(input(\"Enter value of fact: \"))\n",
    "print(Fact(value))"
   ]
  },
  {
   "cell_type": "code",
   "execution_count": 5,
   "id": "fc4eae51",
   "metadata": {},
   "outputs": [],
   "source": [
    "## Recursion Function\n",
    "\n",
    "def Fact(n):\n",
    "    if(n == 1 or n == 0):\n",
    "        return 1\n",
    "    elif(n > 1):\n",
    "        return n*Fact(n-1)\n",
    "    else:\n",
    "        return \"Error!!!\""
   ]
  },
  {
   "cell_type": "code",
   "execution_count": 4,
   "id": "8421b772",
   "metadata": {},
   "outputs": [],
   "source": [
    "## Count Down\n",
    "\n",
    "def countdown_num(n):\n",
    "    if n == 0:\n",
    "        return 0\n",
    "    elif n < 0:\n",
    "        print(n)\n",
    "        return countdown_num(n+1)\n",
    "    else:\n",
    "        print(n)\n",
    "        return countdown_num(n-1)"
   ]
  },
  {
   "cell_type": "code",
   "execution_count": 6,
   "id": "f873da78",
   "metadata": {},
   "outputs": [
    {
     "name": "stdout",
     "output_type": "stream",
     "text": [
      "5\n",
      "4\n",
      "3\n",
      "2\n",
      "1\n",
      "0\n"
     ]
    }
   ],
   "source": [
    "print(countdown_num(int(5)))"
   ]
  },
  {
   "cell_type": "code",
   "execution_count": null,
   "id": "c58d8533",
   "metadata": {},
   "outputs": [],
   "source": []
  }
 ],
 "metadata": {
  "kernelspec": {
   "display_name": "Python 3 (ipykernel)",
   "language": "python",
   "name": "python3"
  },
  "language_info": {
   "codemirror_mode": {
    "name": "ipython",
    "version": 3
   },
   "file_extension": ".py",
   "mimetype": "text/x-python",
   "name": "python",
   "nbconvert_exporter": "python",
   "pygments_lexer": "ipython3",
   "version": "3.10.9"
  }
 },
 "nbformat": 4,
 "nbformat_minor": 5
}
