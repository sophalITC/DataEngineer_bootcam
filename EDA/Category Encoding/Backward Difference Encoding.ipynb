{
 "cells": [
  {
   "cell_type": "markdown",
   "id": "d780b59a-ef79-4913-a55c-505c7ba42ba1",
   "metadata": {},
   "source": [
    "##### Backward Difference Encoding is a categorical encoding technique used in machine learning to represent categorical variables as numerical features. It is a contrast coding method that compares each category of a variable with the mean of the subsequent categories.\n",
    "\n",
    "##### Here's how the Backward Difference Encoding works:\n",
    "\n",
    "##### 1. Sort the categories of the categorical variable in a specific order. The order can be based on some logical or meaningful sequence.\n",
    "\n",
    "##### 2. For each category, calculate the mean of the subsequent categories. In other words, take the average of all the categories that come after the current category in the sorted order.\n",
    "\n",
    "##### 3. Create new binary features that represent the difference between each category and the mean of the subsequent categories. The new binary features indicate whether a particular category is above or below the mean of the subsequent categories. Typically, one fewer binary feature is created than the total number of categories.\n",
    "\n",
    "##### For example, consider a categorical variable \"Color\" with the categories: Red, Blue, Green, and Yellow. The sorted order could be Red, Blue, Green, Yellow.\n",
    "\n",
    "##### To apply Backward Difference Encoding:\n",
    "\n",
    "##### 1. Calculate the mean of the subsequent categories for each category:\n",
    "\n",
    "##### - Mean of Red: (Blue + Green + Yellow) / 3\n",
    "##### - Mean of Blue: (Green + Yellow) / 2\n",
    "##### - Mean of Green: (Yellow) / 1\n",
    "##### - Mean of Yellow: No subsequent categories\n",
    "##### 2. Create binary features based on the differences:\n",
    "\n",
    "##### - Feature 1: Red - Mean of Red\n",
    "##### - Feature 2: Blue - Mean of Blue\n",
    "##### - Feature 3: Green - Mean of Green\n"
   ]
  },
  {
   "cell_type": "markdown",
   "id": "348fc650-357c-4290-a2d9-96906678aca7",
   "metadata": {},
   "source": [
    "<img src=\"2023-07-15 11_43_00-BackDiff Encoding.png\" alt=\"MarineGEO circle logo\" style=\"height: 100px; width:500px;\"/>"
   ]
  },
  {
   "cell_type": "code",
   "execution_count": 4,
   "id": "9baa876a-b553-4c4c-a8cb-3451f39fdf38",
   "metadata": {},
   "outputs": [
    {
     "name": "stdout",
     "output_type": "stream",
     "text": [
      "   intercept  Color_0  Color_1  Color_2\n",
      "0          1    -0.75     -0.5    -0.25\n",
      "1          1     0.25     -0.5    -0.25\n",
      "2          1     0.25      0.5    -0.25\n",
      "3          1     0.25      0.5     0.75\n"
     ]
    },
    {
     "name": "stderr",
     "output_type": "stream",
     "text": [
      "C:\\Users\\kul.vannda\\Anaconda3\\lib\\site-packages\\category_encoders\\base_contrast_encoder.py:126: FutureWarning: Intercept column might not be added anymore in future releases (c.f. issue #370)\n",
      "  warnings.warn(\"Intercept column might not be added anymore in future releases (c.f. issue #370)\",\n",
      "C:\\Users\\kul.vannda\\Anaconda3\\lib\\site-packages\\category_encoders\\base_contrast_encoder.py:126: FutureWarning: Intercept column might not be added anymore in future releases (c.f. issue #370)\n",
      "  warnings.warn(\"Intercept column might not be added anymore in future releases (c.f. issue #370)\",\n"
     ]
    }
   ],
   "source": [
    "import pandas as pd\n",
    "import category_encoders as ce\n",
    "\n",
    "# Create a sample dataset\n",
    "data = {'Color': ['Red', 'Blue', 'Green', 'Yellow']}\n",
    "df = pd.DataFrame(data)\n",
    "\n",
    "# Apply backward difference encoding\n",
    "encoder = ce.BackwardDifferenceEncoder(cols=['Color'])\n",
    "df_encoded = encoder.fit_transform(df)\n",
    "\n",
    "# Print the encoded dataframe\n",
    "print(df_encoded)"
   ]
  },
  {
   "cell_type": "code",
   "execution_count": null,
   "id": "3777733b-6689-4871-b8ba-3b99124f1f9f",
   "metadata": {},
   "outputs": [],
   "source": []
  },
  {
   "cell_type": "code",
   "execution_count": null,
   "id": "662347a4-2438-442d-af83-342a1fe531db",
   "metadata": {},
   "outputs": [],
   "source": []
  }
 ],
 "metadata": {
  "kernelspec": {
   "display_name": "Python 3 (ipykernel)",
   "language": "python",
   "name": "python3"
  },
  "language_info": {
   "codemirror_mode": {
    "name": "ipython",
    "version": 3
   },
   "file_extension": ".py",
   "mimetype": "text/x-python",
   "name": "python",
   "nbconvert_exporter": "python",
   "pygments_lexer": "ipython3",
   "version": "3.9.12"
  }
 },
 "nbformat": 4,
 "nbformat_minor": 5
}
