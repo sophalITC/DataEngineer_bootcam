{
 "cells": [
  {
   "cell_type": "markdown",
   "id": "49f5f53a-d487-4622-a1dd-6ee8f7424a42",
   "metadata": {},
   "source": [
    "**Mean Encoding**"
   ]
  },
  {
   "cell_type": "markdown",
   "id": "d9d7ffd4-2ba1-4ff4-a6f2-dc4adb438428",
   "metadata": {},
   "source": [
    "Mean Encoding is a technique used in machine learning and data preprocessing to encode categorical variables into numerical.<br>\n",
    "It involves replacing each category with the mean value of the target variable for that category.\n",
    "\n",
    "Here's how the mean encoding process works:\n",
    "\n",
    "1. Calculate the mean of the target variable for each category in the categorical feature.\n",
    "2. Replace each category with its corresponding mean value."
   ]
  },
  {
   "cell_type": "markdown",
   "id": "09fa6c04-859a-4de4-87f3-d072dcbb9a67",
   "metadata": {},
   "source": [
    "***Import the necessary libraries:*** "
   ]
  },
  {
   "cell_type": "code",
   "execution_count": 1,
   "id": "806cb33a-efce-40a8-ac59-80a86695bc44",
   "metadata": {},
   "outputs": [
    {
     "data": {
      "text/html": [
       "<div>\n",
       "<style scoped>\n",
       "    .dataframe tbody tr th:only-of-type {\n",
       "        vertical-align: middle;\n",
       "    }\n",
       "\n",
       "    .dataframe tbody tr th {\n",
       "        vertical-align: top;\n",
       "    }\n",
       "\n",
       "    .dataframe thead th {\n",
       "        text-align: right;\n",
       "    }\n",
       "</style>\n",
       "<table border=\"1\" class=\"dataframe\">\n",
       "  <thead>\n",
       "    <tr style=\"text-align: right;\">\n",
       "      <th></th>\n",
       "      <th>Color</th>\n",
       "      <th>Sales</th>\n",
       "    </tr>\n",
       "  </thead>\n",
       "  <tbody>\n",
       "    <tr>\n",
       "      <th>0</th>\n",
       "      <td>Red</td>\n",
       "      <td>100</td>\n",
       "    </tr>\n",
       "    <tr>\n",
       "      <th>1</th>\n",
       "      <td>Blue</td>\n",
       "      <td>200</td>\n",
       "    </tr>\n",
       "    <tr>\n",
       "      <th>2</th>\n",
       "      <td>Green</td>\n",
       "      <td>150</td>\n",
       "    </tr>\n",
       "    <tr>\n",
       "      <th>3</th>\n",
       "      <td>Red</td>\n",
       "      <td>120</td>\n",
       "    </tr>\n",
       "    <tr>\n",
       "      <th>4</th>\n",
       "      <td>Blue</td>\n",
       "      <td>180</td>\n",
       "    </tr>\n",
       "  </tbody>\n",
       "</table>\n",
       "</div>"
      ],
      "text/plain": [
       "   Color  Sales\n",
       "0    Red    100\n",
       "1   Blue    200\n",
       "2  Green    150\n",
       "3    Red    120\n",
       "4   Blue    180"
      ]
     },
     "execution_count": 1,
     "metadata": {},
     "output_type": "execute_result"
    }
   ],
   "source": [
    "import pandas as pd\n",
    "\n",
    "data = {'Color': ['Red', 'Blue', 'Green','Red','Blue'],\n",
    "        'Sales': [100, 200, 150,120,180]}\n",
    "\n",
    "df = pd.DataFrame(data)\n",
    "df"
   ]
  },
  {
   "cell_type": "code",
   "execution_count": 2,
   "id": "e222f4ed-0f93-4747-8582-2f19e67f868f",
   "metadata": {},
   "outputs": [],
   "source": [
    "# First, we calculate the mean sales for each color category:\n",
    "\n",
    "# Mean sales for Red: (100 + 120) / 2 = 110\n",
    "# Mean sales for Blue: (200 + 180) / 2 = 190\n",
    "# Mean sales for Green: 150\n"
   ]
  },
  {
   "cell_type": "code",
   "execution_count": 3,
   "id": "f2b78ea8-947e-462e-a103-223a88011899",
   "metadata": {},
   "outputs": [
    {
     "data": {
      "text/plain": [
       "Color\n",
       "Blue     2\n",
       "Green    1\n",
       "Red      2\n",
       "Name: Sales, dtype: int64"
      ]
     },
     "execution_count": 3,
     "metadata": {},
     "output_type": "execute_result"
    }
   ],
   "source": [
    "#Count \n",
    "df.groupby(['Color'])['Sales'].count()"
   ]
  },
  {
   "cell_type": "code",
   "execution_count": 4,
   "id": "ff4331d3-0c91-471f-9d7c-0123ec2a4f7f",
   "metadata": {},
   "outputs": [
    {
     "data": {
      "text/plain": [
       "Color\n",
       "Blue     190.0\n",
       "Green    150.0\n",
       "Red      110.0\n",
       "Name: Sales, dtype: float64"
      ]
     },
     "execution_count": 4,
     "metadata": {},
     "output_type": "execute_result"
    }
   ],
   "source": [
    "# Find mean\n",
    "df.groupby(['Color'])['Sales'].mean()"
   ]
  },
  {
   "cell_type": "code",
   "execution_count": 5,
   "id": "21878d44-f4a0-431f-aa70-7df7ffa8dab6",
   "metadata": {},
   "outputs": [],
   "source": [
    "# Finally assigning the mean value and map with df['Color']"
   ]
  },
  {
   "cell_type": "code",
   "execution_count": 6,
   "id": "944bf3ee-5252-404d-8a25-88b3ad5835a6",
   "metadata": {},
   "outputs": [
    {
     "name": "stdout",
     "output_type": "stream",
     "text": [
      "   Color  Sales\n",
      "0  110.0    100\n",
      "1  190.0    200\n",
      "2  150.0    150\n",
      "3  110.0    120\n",
      "4  190.0    180\n"
     ]
    }
   ],
   "source": [
    "Mean_encoded_subject = df.groupby(['Color'])['Sales'].mean().to_dict()\n",
    "df['Color'] =  df['Color'].map(Mean_encoded_subject)\n",
    "  \n",
    "print(df)"
   ]
  },
  {
   "cell_type": "code",
   "execution_count": 7,
   "id": "823c6106-025e-44a0-a064-2cb53da368b0",
   "metadata": {},
   "outputs": [],
   "source": [
    "# Source: https://www.geeksforgeeks.org/mean-encoding-machine-learning"
   ]
  },
  {
   "cell_type": "code",
   "execution_count": null,
   "id": "ae0f8c1d-9dff-4dbb-a911-d8fe147c2405",
   "metadata": {},
   "outputs": [],
   "source": []
  }
 ],
 "metadata": {
  "kernelspec": {
   "display_name": "Python 3 (ipykernel)",
   "language": "python",
   "name": "python3"
  },
  "language_info": {
   "codemirror_mode": {
    "name": "ipython",
    "version": 3
   },
   "file_extension": ".py",
   "mimetype": "text/x-python",
   "name": "python",
   "nbconvert_exporter": "python",
   "pygments_lexer": "ipython3",
   "version": "3.10.9"
  }
 },
 "nbformat": 4,
 "nbformat_minor": 5
}
