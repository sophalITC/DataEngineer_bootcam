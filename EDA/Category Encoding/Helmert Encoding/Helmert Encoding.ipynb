{
 "cells": [
  {
   "cell_type": "markdown",
   "id": "9dfe2a4c",
   "metadata": {},
   "source": [
    "## Helmert Enconding"
   ]
  },
  {
   "cell_type": "markdown",
   "id": "47c937fa",
   "metadata": {},
   "source": [
    "Helmert encoding, also known as target mean encoding or mean encoding, is a technique used in categorical feature encoding. It replaces each category in a categorical variable with the mean of the target variable for that category. This encoding can be useful when the target variable shows a clear relationship with the categories."
   ]
  },
  {
   "cell_type": "code",
   "execution_count": 32,
   "id": "70163a09",
   "metadata": {},
   "outputs": [],
   "source": [
    "import numpy as np\n",
    "import pandas as pd\n",
    "from sklearn.linear_model import LinearRegression"
   ]
  },
  {
   "cell_type": "code",
   "execution_count": 25,
   "id": "f78509ec",
   "metadata": {},
   "outputs": [],
   "source": [
    "# Sample data\n",
    "df = pd.DataFrame({\n",
    "    'CPU': ['Core i5', 'Core i7', 'Core i5', 'Core i9', 'Core i7', 'Core i5'],\n",
    "    'Price': [800, 1200, 900, 2000, 1500, 1000]\n",
    "})"
   ]
  },
  {
   "cell_type": "code",
   "execution_count": 26,
   "id": "8a666795",
   "metadata": {},
   "outputs": [
    {
     "data": {
      "text/html": [
       "<div>\n",
       "<style scoped>\n",
       "    .dataframe tbody tr th:only-of-type {\n",
       "        vertical-align: middle;\n",
       "    }\n",
       "\n",
       "    .dataframe tbody tr th {\n",
       "        vertical-align: top;\n",
       "    }\n",
       "\n",
       "    .dataframe thead th {\n",
       "        text-align: right;\n",
       "    }\n",
       "</style>\n",
       "<table border=\"1\" class=\"dataframe\">\n",
       "  <thead>\n",
       "    <tr style=\"text-align: right;\">\n",
       "      <th></th>\n",
       "      <th>CPU</th>\n",
       "      <th>Price</th>\n",
       "    </tr>\n",
       "  </thead>\n",
       "  <tbody>\n",
       "    <tr>\n",
       "      <th>0</th>\n",
       "      <td>Core i5</td>\n",
       "      <td>800</td>\n",
       "    </tr>\n",
       "    <tr>\n",
       "      <th>1</th>\n",
       "      <td>Core i7</td>\n",
       "      <td>1200</td>\n",
       "    </tr>\n",
       "    <tr>\n",
       "      <th>2</th>\n",
       "      <td>Core i5</td>\n",
       "      <td>900</td>\n",
       "    </tr>\n",
       "    <tr>\n",
       "      <th>3</th>\n",
       "      <td>Core i9</td>\n",
       "      <td>2000</td>\n",
       "    </tr>\n",
       "    <tr>\n",
       "      <th>4</th>\n",
       "      <td>Core i7</td>\n",
       "      <td>1500</td>\n",
       "    </tr>\n",
       "    <tr>\n",
       "      <th>5</th>\n",
       "      <td>Core i5</td>\n",
       "      <td>1000</td>\n",
       "    </tr>\n",
       "  </tbody>\n",
       "</table>\n",
       "</div>"
      ],
      "text/plain": [
       "       CPU  Price\n",
       "0  Core i5    800\n",
       "1  Core i7   1200\n",
       "2  Core i5    900\n",
       "3  Core i9   2000\n",
       "4  Core i7   1500\n",
       "5  Core i5   1000"
      ]
     },
     "execution_count": 26,
     "metadata": {},
     "output_type": "execute_result"
    }
   ],
   "source": [
    "df"
   ]
  },
  {
   "cell_type": "code",
   "execution_count": 39,
   "id": "73a58e09",
   "metadata": {},
   "outputs": [
    {
     "data": {
      "text/plain": [
       "CPU\n",
       "Core i5     900.0\n",
       "Core i7    1350.0\n",
       "Core i9    2000.0\n",
       "Name: Price, dtype: float64"
      ]
     },
     "execution_count": 39,
     "metadata": {},
     "output_type": "execute_result"
    }
   ],
   "source": [
    "means = df.groupby('CPU')['Price'].mean()\n",
    "means"
   ]
  },
  {
   "cell_type": "code",
   "execution_count": 40,
   "id": "ddcc3745",
   "metadata": {},
   "outputs": [
    {
     "data": {
      "text/plain": [
       "CPU\n",
       "Core i9    2000.0\n",
       "Core i7    1350.0\n",
       "Core i5     900.0\n",
       "Name: Price, dtype: float64"
      ]
     },
     "execution_count": 40,
     "metadata": {},
     "output_type": "execute_result"
    }
   ],
   "source": [
    "means = means.sort_values(ascending=False)\n",
    "means"
   ]
  },
  {
   "cell_type": "code",
   "execution_count": 47,
   "id": "24bfaa86",
   "metadata": {},
   "outputs": [
    {
     "data": {
      "text/html": [
       "<div>\n",
       "<style scoped>\n",
       "    .dataframe tbody tr th:only-of-type {\n",
       "        vertical-align: middle;\n",
       "    }\n",
       "\n",
       "    .dataframe tbody tr th {\n",
       "        vertical-align: top;\n",
       "    }\n",
       "\n",
       "    .dataframe thead th {\n",
       "        text-align: right;\n",
       "    }\n",
       "</style>\n",
       "<table border=\"1\" class=\"dataframe\">\n",
       "  <thead>\n",
       "    <tr style=\"text-align: right;\">\n",
       "      <th></th>\n",
       "      <th>CPU</th>\n",
       "      <th>Price</th>\n",
       "      <th>Helmert_Encoded</th>\n",
       "    </tr>\n",
       "  </thead>\n",
       "  <tbody>\n",
       "    <tr>\n",
       "      <th>0</th>\n",
       "      <td>Core i5</td>\n",
       "      <td>800</td>\n",
       "      <td>900.0</td>\n",
       "    </tr>\n",
       "    <tr>\n",
       "      <th>1</th>\n",
       "      <td>Core i7</td>\n",
       "      <td>1200</td>\n",
       "      <td>1350.0</td>\n",
       "    </tr>\n",
       "    <tr>\n",
       "      <th>2</th>\n",
       "      <td>Core i5</td>\n",
       "      <td>900</td>\n",
       "      <td>900.0</td>\n",
       "    </tr>\n",
       "    <tr>\n",
       "      <th>3</th>\n",
       "      <td>Core i9</td>\n",
       "      <td>2000</td>\n",
       "      <td>2000.0</td>\n",
       "    </tr>\n",
       "    <tr>\n",
       "      <th>4</th>\n",
       "      <td>Core i7</td>\n",
       "      <td>1500</td>\n",
       "      <td>1350.0</td>\n",
       "    </tr>\n",
       "    <tr>\n",
       "      <th>5</th>\n",
       "      <td>Core i5</td>\n",
       "      <td>1000</td>\n",
       "      <td>900.0</td>\n",
       "    </tr>\n",
       "  </tbody>\n",
       "</table>\n",
       "</div>"
      ],
      "text/plain": [
       "       CPU  Price  Helmert_Encoded\n",
       "0  Core i5    800            900.0\n",
       "1  Core i7   1200           1350.0\n",
       "2  Core i5    900            900.0\n",
       "3  Core i9   2000           2000.0\n",
       "4  Core i7   1500           1350.0\n",
       "5  Core i5   1000            900.0"
      ]
     },
     "execution_count": 47,
     "metadata": {},
     "output_type": "execute_result"
    }
   ],
   "source": [
    "df['Helmert_Encoded'] = means[df['CPU']].reset_index(drop=True)\n",
    "df"
   ]
  },
  {
   "cell_type": "code",
   "execution_count": 48,
   "id": "6f8cb9c9",
   "metadata": {},
   "outputs": [
    {
     "name": "stdout",
     "output_type": "stream",
     "text": [
      "Model Coefficients:\n",
      "Helmert_900.0: -516.6666666666666\n",
      "Helmert_1350.0: -66.66666666666647\n",
      "Helmert_2000.0: 583.3333333333331\n"
     ]
    }
   ],
   "source": [
    "# Prepare X and y for linear regression\n",
    "X = encoded_df.values\n",
    "y = df['Price'].values\n",
    "\n",
    "# Fit linear regression model\n",
    "regression_model = LinearRegression()\n",
    "regression_model.fit(X, y)\n",
    "\n",
    "# Print model coefficients\n",
    "coefficients = regression_model.coef_\n",
    "print('Model Coefficients:')\n",
    "for i, col in enumerate(encoded_df.columns):\n",
    "    print(f'{col}: {coefficients[i]}')"
   ]
  },
  {
   "cell_type": "code",
   "execution_count": null,
   "id": "20b91334",
   "metadata": {},
   "outputs": [],
   "source": []
  }
 ],
 "metadata": {
  "kernelspec": {
   "display_name": "Python 3 (ipykernel)",
   "language": "python",
   "name": "python3"
  },
  "language_info": {
   "codemirror_mode": {
    "name": "ipython",
    "version": 3
   },
   "file_extension": ".py",
   "mimetype": "text/x-python",
   "name": "python",
   "nbconvert_exporter": "python",
   "pygments_lexer": "ipython3",
   "version": "3.10.9"
  }
 },
 "nbformat": 4,
 "nbformat_minor": 5
}
